{
 "cells": [
  {
   "cell_type": "markdown",
   "metadata": {},
   "source": [
    "# import libarary"
   ]
  },
  {
   "cell_type": "code",
   "execution_count": 2,
   "metadata": {},
   "outputs": [],
   "source": [
    "from sklearn.svm import SVC\n",
    "from PIL import Image\n",
    "import numpy as np\n",
    "from sklearn.metrics import accuracy_score"
   ]
  },
  {
   "cell_type": "markdown",
   "metadata": {},
   "source": [
    "# Image processing test"
   ]
  },
  {
   "cell_type": "code",
   "execution_count": 30,
   "metadata": {},
   "outputs": [
    {
     "name": "stdout",
     "output_type": "stream",
     "text": [
      "(146, 238, 3)\n",
      "(256, 256, 3)\n"
     ]
    }
   ],
   "source": [
    "\"\"\"\n",
    "test=Image.open(\"a1.JPG\")\n",
    "test_np=np.array(test)\n",
    "print(test_np.shape)\n",
    "test_re=test.resize((256,256))\n",
    "test_re_np=np.array(test_re)\n",
    "print(test_re_np.shape)\n",
    "\"\"\"\n"
   ]
  },
  {
   "cell_type": "markdown",
   "metadata": {},
   "source": [
    "# Make dataset"
   ]
  },
  {
   "cell_type": "code",
   "execution_count": 4,
   "metadata": {},
   "outputs": [],
   "source": [
    "word={'a':0,'b':1,'c':2,'d':3,'e':4,'f':5,'g':6,'h':7,'i':8,'j':9,'k':10,'l':11,'m':12,'n':13,'o':14,'p':15,'q':16,'r':17,'s':18,'t':19,'u':20,'v':21,'w':22,'x':23,'y':24,'z':25}"
   ]
  },
  {
   "cell_type": "code",
   "execution_count": 50,
   "metadata": {},
   "outputs": [],
   "source": [
    "\n",
    "\"\"\"\n",
    "data_x=[]\n",
    "data_y=[]\n",
    "test_x=[]\n",
    "test_y=[]\n",
    "for i in ['a','b','c','d','e','f','g','h','i','j','k','l','m','n','o','p','q','r','s','t','u','v','w','x','y','z']:\n",
    "    for j in range(1,6):\n",
    "        #print(i+str(j)+\".JPG\")\n",
    "        temp=Image.open(i+str(j)+\".JPG\")\n",
    "        temp=temp.convert('L')\n",
    "        temp=temp.resize((256,256))\n",
    "        temp_np=np.array(temp)\n",
    "        temp_np=temp_np.reshape(-1)\n",
    "        if(j==5):\n",
    "            test_x.append(temp_np)\n",
    "            test_y.append(i)\n",
    "        else:\n",
    "            data_x.append(temp_np)\n",
    "            data_y.append(i)\n",
    "    \"\"\"        "
   ]
  },
  {
   "cell_type": "code",
   "execution_count": 5,
   "metadata": {},
   "outputs": [],
   "source": [
    "data_x=[]\n",
    "data_y=[]\n",
    "test_x=[]\n",
    "test_y=[]\n",
    "for j in range(1,7):\n",
    "    for i in ['a','b','c','d','e','f','g','h','i','j','k','l','m','n','o','p','q','r','s','t','u','v','w','x','y','z']:\n",
    "        #print(i+str(j)+\".JPG\")\n",
    "        temp=Image.open(i+str(j)+\".jpg\")\n",
    "        \n",
    "        #temp=Image.open(\"data\\\\\"+i+str(j)+\".JPG\")\n",
    "        #temp=temp.convert('L')\n",
    "        temp=temp.resize((235,145))\n",
    "        #temp=temp.resize((235,70))\n",
    "        temp_np=np.array(temp)\n",
    "        \n",
    "        #temp_np=temp_np.reshape(-1)\n",
    "        if(j==6):\n",
    "            test_x.append(temp_np)\n",
    "            test_y.append(word[i])\n",
    "        else:\n",
    "            data_x.append(temp_np)\n",
    "            data_y.append(word[i])\n",
    "            \n",
    "test_x=np.array(test_x)\n",
    "test_y=np.array(test_y)\n",
    "data_x=np.array(data_x)\n",
    "data_y=np.array(data_y)\n",
    "\n",
    "#normalization\n",
    "data_x = data_x.astype('float32')/255\n",
    "test_x = test_x.astype('float32')/255\n",
    "\n",
    "#test_y = to_categorical(test_y,num_classes=26)\n",
    "#data_y = to_categorical(data_y,num_classes=26)\n",
    "\n",
    "data_x= data_x.reshape(data_x.shape[0],-1)\n",
    "test_x= test_x.reshape(test_x.shape[0],-1)"
   ]
  },
  {
   "cell_type": "code",
   "execution_count": 23,
   "metadata": {},
   "outputs": [],
   "source": []
  },
  {
   "cell_type": "code",
   "execution_count": 34,
   "metadata": {
    "scrolled": true
   },
   "outputs": [
    {
     "data": {
      "text/plain": [
       "0"
      ]
     },
     "execution_count": 34,
     "metadata": {},
     "output_type": "execute_result"
    }
   ],
   "source": [
    "test_y[0]"
   ]
  },
  {
   "cell_type": "code",
   "execution_count": 35,
   "metadata": {},
   "outputs": [
    {
     "data": {
      "text/plain": [
       "0"
      ]
     },
     "execution_count": 35,
     "metadata": {},
     "output_type": "execute_result"
    }
   ],
   "source": [
    "data_y[0]"
   ]
  },
  {
   "cell_type": "markdown",
   "metadata": {},
   "source": [
    "# Train SVM"
   ]
  },
  {
   "cell_type": "code",
   "execution_count": 24,
   "metadata": {},
   "outputs": [
    {
     "data": {
      "text/plain": [
       "SVC(C=1.0, cache_size=200, class_weight=None, coef0=0.0,\n",
       "    decision_function_shape='ovr', degree=3, gamma='auto', kernel='linear',\n",
       "    max_iter=-1, probability=False, random_state=None, shrinking=True,\n",
       "    tol=0.001, verbose=False)"
      ]
     },
     "execution_count": 24,
     "metadata": {},
     "output_type": "execute_result"
    }
   ],
   "source": [
    "svc = SVC(kernel='linear',gamma='auto')\n",
    "svc.fit(data_x,data_y)"
   ]
  },
  {
   "cell_type": "markdown",
   "metadata": {},
   "source": [
    "# Test"
   ]
  },
  {
   "cell_type": "code",
   "execution_count": 25,
   "metadata": {},
   "outputs": [],
   "source": [
    "pred_y=svc.predict(test_x)"
   ]
  },
  {
   "cell_type": "code",
   "execution_count": 27,
   "metadata": {},
   "outputs": [
    {
     "data": {
      "text/plain": [
       "0.07692307692307693"
      ]
     },
     "execution_count": 27,
     "metadata": {},
     "output_type": "execute_result"
    }
   ],
   "source": [
    "accuracy_score(test_y,pred_y)"
   ]
  },
  {
   "cell_type": "code",
   "execution_count": 28,
   "metadata": {},
   "outputs": [
    {
     "data": {
      "text/plain": [
       "array([ 0,  1,  2,  3,  4,  5,  6,  7,  8,  9, 10, 11, 12, 13, 14, 15, 16,\n",
       "       17, 18, 19, 20, 21, 22, 23, 24, 25])"
      ]
     },
     "execution_count": 28,
     "metadata": {},
     "output_type": "execute_result"
    }
   ],
   "source": [
    "test_y"
   ]
  },
  {
   "cell_type": "code",
   "execution_count": 29,
   "metadata": {
    "scrolled": false
   },
   "outputs": [
    {
     "data": {
      "text/plain": [
       "array([ 3,  1,  5, 22,  2,  3, 13,  3, 13, 12, 13,  2,  3,  5,  2, 13, 13,\n",
       "       22,  2, 22, 22, 13, 22,  9,  2, 13])"
      ]
     },
     "execution_count": 29,
     "metadata": {},
     "output_type": "execute_result"
    }
   ],
   "source": [
    "pred_y"
   ]
  },
  {
   "cell_type": "code",
   "execution_count": 12,
   "metadata": {
    "scrolled": true
   },
   "outputs": [
    {
     "name": "stdout",
     "output_type": "stream",
     "text": [
      "b\n",
      "--------------------------------\n",
      "real: a | predict: b\n",
      "real: b | predict: b\n",
      "real: c | predict: f\n",
      "real: d | predict: b\n",
      "real: e | predict: c\n",
      "real: f | predict: b\n",
      "real: g | predict: n\n",
      "real: h | predict: c\n",
      "real: i | predict: n\n",
      "real: j | predict: b\n",
      "real: k | predict: r\n",
      "real: l | predict: c\n",
      "real: m | predict: d\n",
      "real: n | predict: f\n",
      "real: o | predict: c\n",
      "real: p | predict: r\n",
      "real: q | predict: n\n",
      "real: r | predict: w\n",
      "real: s | predict: b\n",
      "real: t | predict: b\n",
      "real: u | predict: b\n",
      "real: v | predict: n\n",
      "real: w | predict: b\n",
      "real: x | predict: j\n",
      "real: y | predict: c\n",
      "real: z | predict: b\n"
     ]
    }
   ],
   "source": [
    "for i in enumerate(test_y):\n",
    "    if i[1]==pred_y[i[0]]:\n",
    "        print(list(word.keys())[i[1]])\n",
    "print(\"--------------------------------\")\n",
    "for i in enumerate(test_y):\n",
    "    print('real:',list(word.keys())[i[1]],'| predict:',list(word.keys())[pred_y[i[0]]])"
   ]
  },
  {
   "cell_type": "code",
   "execution_count": 39,
   "metadata": {},
   "outputs": [
    {
     "data": {
      "text/plain": [
       "0.2692307692307692"
      ]
     },
     "execution_count": 39,
     "metadata": {},
     "output_type": "execute_result"
    }
   ],
   "source": [
    "pred_y=svc.predict(test_x)\n",
    "accuracy_score(test_y,pred_y)"
   ]
  },
  {
   "cell_type": "code",
   "execution_count": 40,
   "metadata": {},
   "outputs": [
    {
     "data": {
      "text/plain": [
       "array([ 0,  1,  2,  3,  4,  5,  6,  7,  8,  9, 10, 11, 12, 13, 14, 15, 16,\n",
       "       17, 18, 19, 20, 21, 22, 23, 24, 25])"
      ]
     },
     "execution_count": 40,
     "metadata": {},
     "output_type": "execute_result"
    }
   ],
   "source": [
    "test_y"
   ]
  },
  {
   "cell_type": "code",
   "execution_count": 41,
   "metadata": {},
   "outputs": [
    {
     "data": {
      "text/plain": [
       "array([ 0,  0,  2, 11,  2, 24,  3, 21,  8, 11, 15,  2, 10,  3, 14, 15, 16,\n",
       "       17, 20, 11, 12, 17,  8,  8, 17, 21])"
      ]
     },
     "execution_count": 41,
     "metadata": {},
     "output_type": "execute_result"
    }
   ],
   "source": [
    "pred_y"
   ]
  },
  {
   "cell_type": "code",
   "execution_count": 44,
   "metadata": {},
   "outputs": [
    {
     "name": "stdout",
     "output_type": "stream",
     "text": [
      "a\n",
      "c\n",
      "i\n",
      "o\n",
      "p\n",
      "q\n",
      "r\n"
     ]
    }
   ],
   "source": [
    "for i in enumerate(test_y):\n",
    "    if i[1]==pred_y[i[0]]:\n",
    "        print(list(word.keys())[i[1]])"
   ]
  },
  {
   "cell_type": "code",
   "execution_count": 45,
   "metadata": {},
   "outputs": [
    {
     "name": "stdout",
     "output_type": "stream",
     "text": [
      "real: a | predict: a\n",
      "real: b | predict: a\n",
      "real: c | predict: c\n",
      "real: d | predict: l\n",
      "real: e | predict: c\n",
      "real: f | predict: y\n",
      "real: g | predict: d\n",
      "real: h | predict: v\n",
      "real: i | predict: i\n",
      "real: j | predict: l\n",
      "real: k | predict: p\n",
      "real: l | predict: c\n",
      "real: m | predict: k\n",
      "real: n | predict: d\n",
      "real: o | predict: o\n",
      "real: p | predict: p\n",
      "real: q | predict: q\n",
      "real: r | predict: r\n",
      "real: s | predict: u\n",
      "real: t | predict: l\n",
      "real: u | predict: m\n",
      "real: v | predict: r\n",
      "real: w | predict: i\n",
      "real: x | predict: i\n",
      "real: y | predict: r\n",
      "real: z | predict: v\n"
     ]
    }
   ],
   "source": [
    "for i in enumerate(test_y):\n",
    "    print('real:',list(word.keys())[i[1]],'| predict:',list(word.keys())[pred_y[i[0]]])"
   ]
  },
  {
   "cell_type": "code",
   "execution_count": null,
   "metadata": {},
   "outputs": [],
   "source": []
  },
  {
   "cell_type": "markdown",
   "metadata": {},
   "source": [
    "## 흑백변환"
   ]
  },
  {
   "cell_type": "code",
   "execution_count": 53,
   "metadata": {},
   "outputs": [
    {
     "data": {
      "text/plain": [
       "0.23076923076923078"
      ]
     },
     "execution_count": 53,
     "metadata": {},
     "output_type": "execute_result"
    }
   ],
   "source": [
    "accuracy_score(test_y,pred_y)"
   ]
  },
  {
   "cell_type": "code",
   "execution_count": 55,
   "metadata": {},
   "outputs": [
    {
     "data": {
      "text/plain": [
       "array(['o', 'a', 'c', 'o', 'c', 'y', 'p', 'v', 'i', 'j', 'f', 'e', 'h',\n",
       "       'd', 'o', 'k', 'q', 'r', 'o', 'n', 'e', 'o', 'i', 'i', 'i', 'u'],\n",
       "      dtype='<U1')"
      ]
     },
     "execution_count": 55,
     "metadata": {},
     "output_type": "execute_result"
    }
   ],
   "source": [
    "pred_y"
   ]
  },
  {
   "cell_type": "code",
   "execution_count": null,
   "metadata": {},
   "outputs": [],
   "source": []
  }
 ],
 "metadata": {
  "kernelspec": {
   "display_name": "Python 3",
   "language": "python",
   "name": "python3"
  },
  "language_info": {
   "codemirror_mode": {
    "name": "ipython",
    "version": 3
   },
   "file_extension": ".py",
   "mimetype": "text/x-python",
   "name": "python",
   "nbconvert_exporter": "python",
   "pygments_lexer": "ipython3",
   "version": "3.7.5"
  }
 },
 "nbformat": 4,
 "nbformat_minor": 2
}
