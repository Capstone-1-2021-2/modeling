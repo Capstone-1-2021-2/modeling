{
 "cells": [
  {
   "cell_type": "code",
   "execution_count": 1,
   "id": "invalid-seller",
   "metadata": {},
   "outputs": [],
   "source": [
    "import numpy as np\n",
    "from sklearn.metrics import accuracy_score"
   ]
  },
  {
   "cell_type": "code",
   "execution_count": 2,
   "id": "beneficial-delta",
   "metadata": {},
   "outputs": [],
   "source": [
    "word={'a':0,'b':1,'c':2,'d':3,'e':4,'f':5,'g':6,'h':7,'i':8,'j':9,'k':10,'l':11,'m':12,'n':13,'o':14,'p':15,'q':16,'r':17,'s':18,'t':19,'u':20,'v':21,'w':22,'x':23,'y':24,'z':25}"
   ]
  },
  {
   "cell_type": "code",
   "execution_count": 3,
   "id": "alien-freeze",
   "metadata": {},
   "outputs": [],
   "source": [
    "# load changsung's wav data\n",
    "def load_data_cs_wav():\n",
    "\n",
    "    data_x_1=[]\n",
    "    data_y_1=[]\n",
    "    test_x_1=[]\n",
    "    test_y_1=[]\n",
    "\n",
    "    for j in range(0,100):\n",
    "        for i in ['a','b','c','d','e','f','g','h','i','j','k','l','m','n','o','p','q','r','s','t','u','v','w','x','y','z']:\n",
    "            \n",
    "            try:\n",
    "                f = open(\"/Users/Solomon/Desktop/matrixWav2/cs/\"+i+\"/\"+i+str(j)+\".txt\")\n",
    "                line = f.readline()\n",
    "                temp=line.split(\",\")\n",
    "                f.close()\n",
    "         \n",
    "            except:\n",
    "                continue\n",
    "                        \n",
    "            temp_np=np.array(list(map(float, temp)))\n",
    "            temp_np=temp_np.reshape(1248,24,1) # not resize\n",
    "            \n",
    "            if j in range(80,100):\n",
    "                test_x_1.append(temp_np)\n",
    "                test_y_1.append(word[i])\n",
    "            \n",
    "            else:\n",
    "                data_x_1.append(temp_np)\n",
    "                data_y_1.append(word[i])            \n",
    "\n",
    "                \n",
    "    test_x_1=np.array(test_x_1)\n",
    "    test_y_1=np.array(test_y_1)\n",
    "    data_x_1=np.array(data_x_1)\n",
    "    data_y_1=np.array(data_y_1)\n",
    "\n",
    "#     test_y_1 = to_categorical(test_y_1,num_classes=26)\n",
    "#     data_y_1 = to_categorical(data_y_1,num_classes=26)\n",
    "\n",
    "    return data_x_1, test_x_1, data_y_1, test_y_1"
   ]
  },
  {
   "cell_type": "code",
   "execution_count": 4,
   "id": "former-chemistry",
   "metadata": {},
   "outputs": [],
   "source": [
    "data_x, test_x, data_y, test_y = load_data_cs_wav()"
   ]
  },
  {
   "cell_type": "code",
   "execution_count": 5,
   "id": "absent-helmet",
   "metadata": {},
   "outputs": [
    {
     "name": "stdout",
     "output_type": "stream",
     "text": [
      "(2064, 1248, 24, 1)\n",
      "(520, 1248, 24, 1)\n",
      "(2064,)\n",
      "(520,)\n"
     ]
    }
   ],
   "source": [
    "print(data_x.shape)\n",
    "print(test_x.shape)\n",
    "print(data_y.shape)\n",
    "print(test_y.shape)"
   ]
  },
  {
   "cell_type": "code",
   "execution_count": 6,
   "id": "continued-vanilla",
   "metadata": {},
   "outputs": [],
   "source": [
    "data_x= data_x.reshape(data_x.shape[0],-1)\n",
    "test_x= test_x.reshape(test_x.shape[0],-1)"
   ]
  },
  {
   "cell_type": "code",
   "execution_count": 7,
   "id": "daily-harvey",
   "metadata": {},
   "outputs": [
    {
     "name": "stdout",
     "output_type": "stream",
     "text": [
      "(2064, 29952)\n",
      "(520, 29952)\n"
     ]
    }
   ],
   "source": [
    "print(data_x.shape)\n",
    "print(test_x.shape)"
   ]
  },
  {
   "cell_type": "markdown",
   "id": "stable-photography",
   "metadata": {},
   "source": [
    "### K-means Clustering"
   ]
  },
  {
   "cell_type": "markdown",
   "id": "victorian-juvenile",
   "metadata": {},
   "source": [
    "### Elements"
   ]
  },
  {
   "cell_type": "code",
   "execution_count": 8,
   "id": "accessible-retail",
   "metadata": {},
   "outputs": [],
   "source": [
    "number_cluster = 26 # 알파벳의 개수\n",
    "\n",
    "number_data = data_x.shape[0]\n",
    "number_feature = data_x.shape[1]\n",
    "\n",
    "number_iteration = 10"
   ]
  },
  {
   "cell_type": "markdown",
   "id": "written-symbol",
   "metadata": {},
   "source": [
    "### Functions"
   ]
  },
  {
   "cell_type": "code",
   "execution_count": 9,
   "id": "elect-employee",
   "metadata": {},
   "outputs": [],
   "source": [
    "def compute_centroid(feature, label_feature, value_label):\n",
    "    \n",
    "    centroid = np.zeros(number_feature)\n",
    "    cnt = 0\n",
    "    for i, each in enumerate(feature):\n",
    "        if label_feature[i] == value_label:\n",
    "            centroid += each\n",
    "            cnt += 1\n",
    "    centroid /= cnt\n",
    "    \n",
    "    return centroid"
   ]
  },
  {
   "cell_type": "code",
   "execution_count": 10,
   "id": "acquired-debut",
   "metadata": {},
   "outputs": [],
   "source": [
    "# from scipy.spatial import distance"
   ]
  },
  {
   "cell_type": "code",
   "execution_count": 11,
   "id": "drawn-bangladesh",
   "metadata": {},
   "outputs": [],
   "source": [
    "def compute_distance(feature, center):\n",
    "    \n",
    "    temp = feature - center # broadcasting\n",
    "    distance = np.sum(np.power(temp, 2), axis=1)\n",
    "    \n",
    "    return distance"
   ]
  },
  {
   "cell_type": "code",
   "execution_count": 12,
   "id": "relevant-weekend",
   "metadata": {},
   "outputs": [],
   "source": [
    "def compute_label(distance, number_data):\n",
    "    \n",
    "    index_label_feature = np.zeros(number_data)\n",
    "    \n",
    "    for i in range(number_data):\n",
    "        index_label_feature[i] = np.argmin(distance[i])\n",
    "        \n",
    "    return index_label_feature"
   ]
  },
  {
   "cell_type": "markdown",
   "id": "sophisticated-cheese",
   "metadata": {},
   "source": [
    "### Initialize label_feature"
   ]
  },
  {
   "cell_type": "code",
   "execution_count": 13,
   "id": "beneficial-amateur",
   "metadata": {},
   "outputs": [],
   "source": [
    "# data_x의 레이블인 data_y로 초기화하여 처음에 중심점이 위의 Initialize Centroids처럼 되도록 설정한다\n",
    "label_feature = data_y"
   ]
  },
  {
   "cell_type": "markdown",
   "id": "competitive-celtic",
   "metadata": {},
   "source": [
    "### Training"
   ]
  },
  {
   "cell_type": "code",
   "execution_count": 14,
   "id": "stylish-boston",
   "metadata": {},
   "outputs": [
    {
     "name": "stdout",
     "output_type": "stream",
     "text": [
      "iteration= 0 , loss= 1437374.7899712664\n",
      "iteration= 1 , loss= 1419545.5475315857\n",
      "iteration= 2 , loss= 1412158.3439245035\n",
      "iteration= 3 , loss= 1405479.8368232965\n",
      "iteration= 4 , loss= 1398982.1952839245\n",
      "iteration= 5 , loss= 1385178.1059924664\n",
      "iteration= 6 , loss= 1379608.3011398967\n",
      "iteration= 7 , loss= 1378984.5424468566\n",
      "iteration= 8 , loss= 1378914.0448220402\n",
      "iteration= 9 , loss= 1378914.0448220402\n"
     ]
    }
   ],
   "source": [
    "distance            = np.zeros(shape=(number_data, number_cluster))\n",
    "centroid            = np.zeros(shape=(number_cluster, number_feature))\n",
    "\n",
    "loss_iteration      = np.zeros(shape=(number_iteration, 1))\n",
    "centroid_iteration  = np.zeros(shape=(number_iteration, number_cluster, number_feature))\n",
    "\n",
    "feature = data_x\n",
    "\n",
    "for i in range(number_iteration):\n",
    "\n",
    "    for j in range(number_cluster):\n",
    "        \n",
    "        cluster_feature_num = len(np.where(label_feature == j)[0])\n",
    "        if cluster_feature_num != 0:\n",
    "            centroid[j] = compute_centroid(feature, label_feature, j)\n",
    "            distance[:,j] = compute_distance(feature, centroid[j])\n",
    "    \n",
    "    # update label_feature\n",
    "    label_feature = compute_label(distance, number_data)\n",
    "    centroid_iteration[i] = centroid\n",
    "\n",
    "    # compute the loss\n",
    "    loss = 0\n",
    "    for j in range(number_cluster):\n",
    "        cluster_feature = np.where(label_feature == j)[0]\n",
    "        each_distance = compute_distance(feature[cluster_feature], centroid[j])\n",
    "        loss += np.sum(each_distance)\n",
    "\n",
    "    loss /= number_data\n",
    "    loss_iteration[i] = loss\n",
    "    \n",
    "    print(\"iteration=\", i, \", loss=\", loss)"
   ]
  },
  {
   "cell_type": "markdown",
   "id": "viral-vegetable",
   "metadata": {},
   "source": [
    "### Ploting"
   ]
  },
  {
   "cell_type": "code",
   "execution_count": 15,
   "id": "verbal-connecticut",
   "metadata": {},
   "outputs": [],
   "source": [
    "import matplotlib.pyplot as plt"
   ]
  },
  {
   "cell_type": "code",
   "execution_count": 16,
   "id": "proprietary-relevance",
   "metadata": {},
   "outputs": [],
   "source": [
    "def plot_loss_curve(loss_iteration):\n",
    "\n",
    "    plt.figure(figsize=(8,6))\n",
    "    plt.title('loss')\n",
    "\n",
    "    plt.xlabel('iteration')\n",
    "    plt.ylabel('loss')\n",
    "    plt.plot(np.arange(number_iteration), loss_iteration, '-', color='red')\n",
    "\n",
    "    plt.tight_layout()\n",
    "    plt.show()"
   ]
  },
  {
   "cell_type": "code",
   "execution_count": 17,
   "id": "exposed-marine",
   "metadata": {},
   "outputs": [],
   "source": [
    "def plot_centroid(centroid_iteration):\n",
    "\n",
    "    plt.figure(figsize=(8,8))   # USE THIS VALUE for the size of the figure\n",
    "    plt.title('centroid')\n",
    "    \n",
    "    initial_centroids = centroid_iteration[0]\n",
    "    plt.scatter(initial_centroids[:,0], initial_centroids[:,1], marker='o', s=30, color='blue', label='initial')\n",
    "\n",
    "    cluster_num = centroid_iteration.shape[1]\n",
    "    for i in range(cluster_num):\n",
    "        plt.plot(centroid_iteration[:,i,0], centroid_iteration[:,i,1], '-', label='cluster{}'.format(i))\n",
    "        \n",
    "    final_centroids = centroid_iteration[-1]\n",
    "    plt.scatter(final_centroids[:,0], final_centroids[:,1], marker='s', s=30, color='red', label='final')\n",
    "    \n",
    "    plt.legend()\n",
    "    plt.tight_layout()\n",
    "    plt.show()"
   ]
  },
  {
   "cell_type": "code",
   "execution_count": 18,
   "id": "dressed-extension",
   "metadata": {},
   "outputs": [
    {
     "data": {
      "image/png": "[encoded data removed]",
      "text/plain": [
       "<Figure size 576x432 with 1 Axes>"
      ]
     },
     "metadata": {
      "needs_background": "light"
     },
     "output_type": "display_data"
    }
   ],
   "source": [
    "plot_loss_curve(loss_iteration)"
   ]
  },
  {
   "cell_type": "code",
   "execution_count": 19,
   "id": "bigger-enhancement",
   "metadata": {},
   "outputs": [
    {
     "data": {
      "image/png": "[encoded data removed]",
      "text/plain": [
       "<Figure size 576x576 with 1 Axes>"
      ]
     },
     "metadata": {
      "needs_background": "light"
     },
     "output_type": "display_data"
    }
   ],
   "source": [
    "plot_centroid(centroid_iteration)"
   ]
  },
  {
   "cell_type": "markdown",
   "id": "chemical-activation",
   "metadata": {},
   "source": [
    "### Evaluation"
   ]
  },
  {
   "cell_type": "code",
   "execution_count": 20,
   "id": "verbal-ukraine",
   "metadata": {},
   "outputs": [
    {
     "name": "stdout",
     "output_type": "stream",
     "text": [
      "[[-43.78020854 -43.81480254 -43.29325363 ... -71.0451165  -70.97457526\n",
      "  -70.93916554]\n",
      " [-45.17159755 -45.40489287 -45.58078276 ... -71.75023095 -71.74052092\n",
      "  -71.8138481 ]\n",
      " [-42.43690007 -43.35540629 -43.30644545 ... -66.77509576 -66.95060942\n",
      "  -66.9485378 ]\n",
      " ...\n",
      " [-49.09759324 -50.64020135 -49.95055118 ... -72.63244179 -72.51746361\n",
      "  -72.4717969 ]\n",
      " [-45.5942618  -44.47439332 -44.73748567 ... -70.91288763 -70.52576985\n",
      "  -70.24877459]\n",
      " [-44.76373361 -44.03227329 -44.50512757 ... -71.06154751 -71.394274\n",
      "  -71.44270168]]\n"
     ]
    }
   ],
   "source": [
    "# 최종 중심점 - centroid\n",
    "print(centroid)\n",
    "\n",
    "feature = test_x\n",
    "number_test_data = test_x.shape[0] \n",
    "result = np.zeros(number_test_data)\n",
    "\n",
    "test_distance = np.zeros(shape=(number_test_data, number_cluster))\n",
    "\n",
    "for j in range(number_cluster):\n",
    "    cluster_feature_num = len(np.where(label_feature == j)[0])\n",
    "    if cluster_feature_num != 0:\n",
    "        test_distance[:,j] = compute_distance(feature, centroid[j])\n",
    "    \n",
    "# update label_feature\n",
    "result = compute_label(test_distance, number_test_data)"
   ]
  },
  {
   "cell_type": "code",
   "execution_count": 21,
   "id": "worth-region",
   "metadata": {},
   "outputs": [
    {
     "data": {
      "text/plain": [
       "0.7230769230769231"
      ]
     },
     "execution_count": 21,
     "metadata": {},
     "output_type": "execute_result"
    }
   ],
   "source": [
    "accuracy_score(result, test_y)"
   ]
  },
  {
   "cell_type": "markdown",
   "id": "junior-conservative",
   "metadata": {},
   "source": [
    "### Initialize Centroids"
   ]
  },
  {
   "cell_type": "code",
   "execution_count": 22,
   "id": "quiet-endorsement",
   "metadata": {},
   "outputs": [],
   "source": [
    "# 우리는 이미 각 데이터가 속하는 레이블을 알고 있으므로\n",
    "# 이를 바탕으로 각 레이블 별 데이터들의 중심을 구해 초기 중심점으로 설정\n",
    "\n",
    "centroids = np.zeros(shape=(number_cluster, number_feature))\n",
    "number_label = np.zeros(number_cluster)\n",
    "\n",
    "for i, data in enumerate(data_x):\n",
    "    label = data_y[i]\n",
    "    centroids[label] += data\n",
    "    number_label[label] += 1\n",
    "\n",
    "for i, centroid in enumerate(centroids):\n",
    "    centroid /= number_label[i]"
   ]
  },
  {
   "cell_type": "code",
   "execution_count": 23,
   "id": "corporate-convenience",
   "metadata": {},
   "outputs": [
    {
     "data": {
      "text/plain": [
       "array([[-42.86217584, -42.47692695, -42.61891138, ..., -70.87655125,\n",
       "        -70.95061299, -71.04935618],\n",
       "       [-45.61665409, -45.61422906, -45.46531947, ..., -71.43911869,\n",
       "        -71.40485322, -71.46578341],\n",
       "       [-42.90768357, -43.75992257, -43.6384705 , ..., -70.59286605,\n",
       "        -70.73431345, -70.59190534],\n",
       "       ...,\n",
       "       [-49.09427927, -50.05405426, -49.48689641, ..., -72.48918767,\n",
       "        -72.39055837, -72.37368516],\n",
       "       [-45.58372898, -44.45508497, -45.00595036, ..., -71.34507097,\n",
       "        -70.9614118 , -70.68170884],\n",
       "       [-44.6235973 , -43.89124295, -44.40143623, ..., -71.13379751,\n",
       "        -71.45335011, -71.5046091 ]])"
      ]
     },
     "execution_count": 23,
     "metadata": {},
     "output_type": "execute_result"
    }
   ],
   "source": [
    "centroids"
   ]
  },
  {
   "cell_type": "code",
   "execution_count": 24,
   "id": "gorgeous-collaboration",
   "metadata": {},
   "outputs": [],
   "source": [
    "feature = test_x\n",
    "number_test_data = test_x.shape[0] \n",
    "result = np.zeros(number_test_data)\n",
    "\n",
    "test_distance = np.zeros(shape=(number_test_data, number_cluster))\n",
    "\n",
    "for j in range(number_cluster):\n",
    "    cluster_feature_num = len(np.where(label_feature == j)[0])\n",
    "    if cluster_feature_num != 0:\n",
    "        test_distance[:,j] = compute_distance(feature, centroids[j])\n",
    "    \n",
    "# update label_feature\n",
    "result = compute_label(test_distance, number_test_data)"
   ]
  },
  {
   "cell_type": "code",
   "execution_count": 25,
   "id": "social-semiconductor",
   "metadata": {},
   "outputs": [
    {
     "data": {
      "text/plain": [
       "0.7884615384615384"
      ]
     },
     "execution_count": 25,
     "metadata": {},
     "output_type": "execute_result"
    }
   ],
   "source": [
    "accuracy_score(result, test_y)"
   ]
  },
  {
   "cell_type": "markdown",
   "id": "contrary-astronomy",
   "metadata": {},
   "source": [
    "## Scikit-Learn: K-means Clustering"
   ]
  },
  {
   "cell_type": "code",
   "execution_count": 26,
   "id": "identified-archives",
   "metadata": {},
   "outputs": [
    {
     "data": {
      "text/plain": [
       "KMeans(n_clusters=26)"
      ]
     },
     "execution_count": 26,
     "metadata": {},
     "output_type": "execute_result"
    }
   ],
   "source": [
    "from sklearn.cluster import KMeans\n",
    "\n",
    "kmeans = KMeans(n_clusters = 26)\n",
    "kmeans.fit(data_x)"
   ]
  },
  {
   "cell_type": "code",
   "execution_count": 27,
   "id": "united-family",
   "metadata": {},
   "outputs": [
    {
     "data": {
      "text/plain": [
       "array([ 2,  9,  6, ..., 10, 21, 20], dtype=int32)"
      ]
     },
     "execution_count": 27,
     "metadata": {},
     "output_type": "execute_result"
    }
   ],
   "source": [
    "kmeans.labels_"
   ]
  },
  {
   "cell_type": "code",
   "execution_count": 28,
   "id": "equal-sponsorship",
   "metadata": {},
   "outputs": [],
   "source": [
    "pred = kmeans.predict(test_x)"
   ]
  },
  {
   "cell_type": "code",
   "execution_count": 29,
   "id": "potential-welsh",
   "metadata": {},
   "outputs": [
    {
     "data": {
      "text/plain": [
       "0.011538461538461539"
      ]
     },
     "execution_count": 29,
     "metadata": {},
     "output_type": "execute_result"
    }
   ],
   "source": [
    "accuracy_score(pred, test_y)"
   ]
  },
  {
   "cell_type": "markdown",
   "id": "accepting-anthropology",
   "metadata": {},
   "source": [
    "## K-means Clustering with Feature Scaling"
   ]
  },
  {
   "cell_type": "code",
   "execution_count": 30,
   "id": "annoying-white",
   "metadata": {},
   "outputs": [],
   "source": [
    "from sklearn.pipeline import make_pipeline\n",
    "from sklearn.preprocessing import StandardScaler\n",
    "from sklearn.cluster import KMeans\n",
    "\n",
    "scaler = StandardScaler()\n",
    "model = KMeans(n_clusters = 26)\n",
    "pipeline = make_pipeline(scaler, model)"
   ]
  },
  {
   "cell_type": "code",
   "execution_count": 31,
   "id": "monthly-numbers",
   "metadata": {},
   "outputs": [
    {
     "data": {
      "text/plain": [
       "Pipeline(steps=[('standardscaler', StandardScaler()),\n",
       "                ('kmeans', KMeans(n_clusters=26))])"
      ]
     },
     "execution_count": 31,
     "metadata": {},
     "output_type": "execute_result"
    }
   ],
   "source": [
    "pipeline.fit(data_x)"
   ]
  },
  {
   "cell_type": "code",
   "execution_count": 32,
   "id": "promotional-noise",
   "metadata": {},
   "outputs": [
    {
     "data": {
      "text/plain": [
       "0.0188953488372093"
      ]
     },
     "execution_count": 32,
     "metadata": {},
     "output_type": "execute_result"
    }
   ],
   "source": [
    "pred = pipeline.predict(data_x)\n",
    "accuracy_score(pred, data_y)"
   ]
  },
  {
   "cell_type": "code",
   "execution_count": 33,
   "id": "technical-spray",
   "metadata": {},
   "outputs": [
    {
     "data": {
      "text/plain": [
       "0.046153846153846156"
      ]
     },
     "execution_count": 33,
     "metadata": {},
     "output_type": "execute_result"
    }
   ],
   "source": [
    "pred = pipeline.predict(test_x)\n",
    "accuracy_score(pred, test_y)"
   ]
  },
  {
   "cell_type": "code",
   "execution_count": null,
   "id": "under-kinase",
   "metadata": {},
   "outputs": [],
   "source": []
  }
 ],
 "metadata": {
  "kernelspec": {
   "display_name": "Python 3",
   "language": "python",
   "name": "python3"
  },
  "language_info": {
   "codemirror_mode": {
    "name": "ipython",
    "version": 3
   },
   "file_extension": ".py",
   "mimetype": "text/x-python",
   "name": "python",
   "nbconvert_exporter": "python",
   "pygments_lexer": "ipython3",
   "version": "3.7.10"
  }
 },
 "nbformat": 4,
 "nbformat_minor": 5
}
