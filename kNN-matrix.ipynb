{
 "cells": [
  {
   "cell_type": "markdown",
   "metadata": {},
   "source": [
    "# Import libraries"
   ]
  },
  {
   "cell_type": "code",
   "execution_count": 1,
   "metadata": {},
   "outputs": [],
   "source": [
    "from sklearn.neighbors import KNeighborsClassifier\n",
    "#from PIL import Image\n",
    "import numpy as np\n",
    "from sklearn.metrics import accuracy_score\n",
    "import tensorflow as tf\n",
    "#from keras.layers import *\n",
    "from tensorflow.keras import *\n",
    "from tensorflow.keras.layers import *\n",
    "from tensorflow.keras.preprocessing.image import array_to_img, img_to_array, load_img\n",
    "import np_utils\n",
    "from tensorflow.keras.utils import to_categorical\n",
    "from tensorflow import lite\n"
   ]
  },
  {
   "cell_type": "markdown",
   "metadata": {},
   "source": [
    "# Load dataset"
   ]
  },
  {
   "cell_type": "code",
   "execution_count": 2,
   "metadata": {},
   "outputs": [],
   "source": [
    "word={'a':0,'b':1,'c':2,'d':3,'e':4,'f':5,'g':6,'h':7,'i':8,'j':9,'k':10,'l':11,'m':12,'n':13,'o':14,'p':15,'q':16,'r':17,'s':18,'t':19,'u':20,'v':21,'w':22,'x':23,'y':24,'z':25}"
   ]
  },
  {
   "cell_type": "markdown",
   "metadata": {},
   "source": [
    "### User1 dataset"
   ]
  },
  {
   "cell_type": "code",
   "execution_count": 3,
   "metadata": {},
   "outputs": [],
   "source": [
    "data_x_1=[]\n",
    "data_y_1=[]\n",
    "test_x_1=[]\n",
    "test_y_1=[]\n",
    "\n",
    "cnt1=0 #user1 test데이터 수\n",
    "\n",
    "for j in range(0,100):\n",
    "    for i in ['a','b','c','d','e','f','g','h','i','j','k','l','m','n','o','p','q','r','s','t','u','v','w','x','y','z']:\n",
    "\n",
    "       \n",
    "       \n",
    "        \n",
    "        try:\n",
    "            f = open(\"matrixWav2\\\\cs\\\\\"+i+\"\\\\\"+i+str(j)+\".txt\")\n",
    "            line = f.readline()\n",
    "            temp=line.split(\",\")\n",
    "            f.close()\n",
    "        except:\n",
    "            continue\n",
    "        \n",
    "        \n",
    "        temp_np=np.array(list(map(float, temp)))\n",
    "        #temp_np=(temp_np - temp_np.min(axis=0)) / (temp_np.max(axis=0) - temp_np.min(axis=0)) #min-max scaling\n",
    "        temp_np=temp_np.reshape(1248,24,1) #not resize\n",
    "        \n",
    "        \n",
    "        if j in range(80,100):\n",
    "            cnt1+=1\n",
    "            test_x_1.append(temp_np)\n",
    "            test_y_1.append(word[i])\n",
    "        \n",
    "        else:\n",
    "            data_x_1.append(temp_np)\n",
    "            data_y_1.append(word[i])            \n",
    "\n",
    "            \n",
    "test_x_1=np.array(test_x_1)\n",
    "test_y_1=np.array(test_y_1)\n",
    "data_x_1=np.array(data_x_1)\n",
    "data_y_1=np.array(data_y_1)\n",
    "\n",
    "#one hot encoding은 나중에.\n",
    "#test_y_1 = to_categorical(test_y_1,num_classes=26)\n",
    "#data_y_1 = to_categorical(data_y_1,num_classes=26)"
   ]
  },
  {
   "cell_type": "code",
   "execution_count": 4,
   "metadata": {},
   "outputs": [],
   "source": [
    "# 사이킷런 kNN은 n차원 데이터 읽기 x -> 변환\n",
    "data_x_1= data_x_1.reshape(data_x_1.shape[0],-1)\n",
    "test_x_1= test_x_1.reshape(test_x_1.shape[0],-1)"
   ]
  },
  {
   "cell_type": "code",
   "execution_count": 5,
   "metadata": {},
   "outputs": [
    {
     "name": "stdout",
     "output_type": "stream",
     "text": [
      "(2064, 29952)\n",
      "(2064,)\n",
      "(520, 29952)\n",
      "(520,)\n"
     ]
    }
   ],
   "source": [
    "print(data_x_1.shape)\n",
    "print(data_y_1.shape)\n",
    "print(test_x_1.shape)\n",
    "print(test_y_1.shape)"
   ]
  },
  {
   "cell_type": "markdown",
   "metadata": {},
   "source": [
    "### User2 dataset"
   ]
  },
  {
   "cell_type": "code",
   "execution_count": 34,
   "metadata": {},
   "outputs": [],
   "source": [
    "data_x_2=[]\n",
    "data_y_2=[]\n",
    "test_x_2=[]\n",
    "test_y_2=[]\n",
    "\n",
    "\n",
    "cnt2=0\n",
    "\n",
    "for j in range(0,100):\n",
    "    for i in ['a','b','c','d','e','f','g','h','i','j','k','l','m','n','o','p','q','r','s','t','u','v','w','x','y','z']:\n",
    "        #print(i+str(j)+\".txt\")\n",
    "       \n",
    "       \n",
    "            \n",
    "        \n",
    "        \n",
    "        try:\n",
    "            f = open(\"matrixWav2\\\\yj\\\\\"+i+\"\\\\\"+i+str(j)+\".txt\")\n",
    "            line = f.readline()\n",
    "            temp=line.split(\",\")\n",
    "            f.close()\n",
    "        except:\n",
    "            continue\n",
    "        \n",
    "        \n",
    "        temp_np=np.array(list(map(float, temp)))\n",
    "        #temp_np=(temp_np - temp_np.min(axis=0)) / (temp_np.max(axis=0) - temp_np.min(axis=0)) #min-max scaling\n",
    "        temp_np=temp_np.reshape(1248,24,1) #not resize\n",
    "        \n",
    "        \n",
    "        if j in range(80,100):\n",
    "            cnt2+=1\n",
    "            test_x_2.append(temp_np)\n",
    "            test_y_2.append(word[i])\n",
    "        \n",
    "        else:\n",
    "            data_x_2.append(temp_np)\n",
    "            data_y_2.append(word[i])            \n",
    "\n",
    "            \n",
    "test_x_2=np.array(test_x_2)\n",
    "test_y_2=np.array(test_y_2)\n",
    "data_x_2=np.array(data_x_2)\n",
    "data_y_2=np.array(data_y_2)\n",
    "\n",
    "# one hot encoding은 나중에\n",
    "#test_y_2 = to_categorical(test_y_2,num_classes=26)\n",
    "#data_y_2 = to_categorical(data_y_2,num_classes=26)"
   ]
  },
  {
   "cell_type": "code",
   "execution_count": 35,
   "metadata": {},
   "outputs": [],
   "source": [
    "# 사이킷런 kNN은 n차원 데이터 읽기 x -> 변환\n",
    "data_x_2= data_x_2.reshape(data_x_2.shape[0],-1)\n",
    "test_x_2= test_x_2.reshape(test_x_2.shape[0],-1)"
   ]
  },
  {
   "cell_type": "code",
   "execution_count": 36,
   "metadata": {},
   "outputs": [
    {
     "name": "stdout",
     "output_type": "stream",
     "text": [
      "(2011, 29952)\n",
      "(2011,)\n",
      "(495, 29952)\n",
      "(495,)\n"
     ]
    }
   ],
   "source": [
    "print(data_x_2.shape)\n",
    "print(data_y_2.shape)\n",
    "print(test_x_2.shape)\n",
    "print(test_y_2.shape)"
   ]
  },
  {
   "cell_type": "markdown",
   "metadata": {},
   "source": [
    "### Merge data"
   ]
  },
  {
   "cell_type": "code",
   "execution_count": 37,
   "metadata": {},
   "outputs": [],
   "source": [
    "data_x=np.concatenate((data_x_1,data_x_2),axis=0)\n",
    "data_y=np.concatenate((data_y_1,data_y_2),axis=0)\n",
    "test_x=np.concatenate((test_x_1,test_x_2),axis=0)\n",
    "test_y=np.concatenate((test_y_1,test_y_2),axis=0)"
   ]
  },
  {
   "cell_type": "code",
   "execution_count": 38,
   "metadata": {},
   "outputs": [
    {
     "name": "stdout",
     "output_type": "stream",
     "text": [
      "(4075, 29952)\n",
      "(4075,)\n",
      "(1015, 29952)\n",
      "(1015,)\n"
     ]
    }
   ],
   "source": [
    "print(data_x.shape)\n",
    "print(data_y.shape)\n",
    "print(test_x.shape)\n",
    "print(test_y.shape)"
   ]
  },
  {
   "cell_type": "markdown",
   "metadata": {},
   "source": [
    "# Scikit learn "
   ]
  },
  {
   "cell_type": "markdown",
   "metadata": {},
   "source": [
    "## Train"
   ]
  },
  {
   "cell_type": "markdown",
   "metadata": {},
   "source": [
    "### User1"
   ]
  },
  {
   "cell_type": "code",
   "execution_count": 14,
   "metadata": {},
   "outputs": [
    {
     "data": {
      "text/plain": [
       "KNeighborsClassifier(algorithm='auto', leaf_size=30, metric='minkowski',\n",
       "                     metric_params=None, n_jobs=None, n_neighbors=4, p=2,\n",
       "                     weights='uniform')"
      ]
     },
     "execution_count": 14,
     "metadata": {},
     "output_type": "execute_result"
    }
   ],
   "source": [
    "neigh1 = KNeighborsClassifier(n_neighbors=4)\n",
    "neigh1.fit(data_x_1,data_y_1)"
   ]
  },
  {
   "cell_type": "markdown",
   "metadata": {},
   "source": [
    "### User2"
   ]
  },
  {
   "cell_type": "code",
   "execution_count": 17,
   "metadata": {
    "scrolled": true
   },
   "outputs": [
    {
     "data": {
      "text/plain": [
       "KNeighborsClassifier(algorithm='auto', leaf_size=30, metric='minkowski',\n",
       "                     metric_params=None, n_jobs=None, n_neighbors=4, p=2,\n",
       "                     weights='uniform')"
      ]
     },
     "execution_count": 17,
     "metadata": {},
     "output_type": "execute_result"
    }
   ],
   "source": [
    "neigh2 = KNeighborsClassifier(n_neighbors=4)\n",
    "neigh2.fit(data_x_2,data_y_2)"
   ]
  },
  {
   "cell_type": "markdown",
   "metadata": {},
   "source": [
    "### All"
   ]
  },
  {
   "cell_type": "code",
   "execution_count": 20,
   "metadata": {},
   "outputs": [
    {
     "data": {
      "text/plain": [
       "KNeighborsClassifier(algorithm='auto', leaf_size=30, metric='minkowski',\n",
       "                     metric_params=None, n_jobs=None, n_neighbors=4, p=2,\n",
       "                     weights='uniform')"
      ]
     },
     "execution_count": 20,
     "metadata": {},
     "output_type": "execute_result"
    }
   ],
   "source": [
    "neigh = KNeighborsClassifier(n_neighbors=4)\n",
    "neigh.fit(data_x,data_y)"
   ]
  },
  {
   "cell_type": "markdown",
   "metadata": {},
   "source": [
    "## Test"
   ]
  },
  {
   "cell_type": "markdown",
   "metadata": {},
   "source": [
    "### User1"
   ]
  },
  {
   "cell_type": "code",
   "execution_count": 15,
   "metadata": {},
   "outputs": [],
   "source": [
    "pred_y1=neigh1.predict(test_x_1)"
   ]
  },
  {
   "cell_type": "markdown",
   "metadata": {},
   "source": [
    "### User2"
   ]
  },
  {
   "cell_type": "code",
   "execution_count": 18,
   "metadata": {},
   "outputs": [],
   "source": [
    "pred_y2=neigh2.predict(test_x_2)"
   ]
  },
  {
   "cell_type": "markdown",
   "metadata": {},
   "source": [
    "### All"
   ]
  },
  {
   "cell_type": "code",
   "execution_count": 22,
   "metadata": {},
   "outputs": [],
   "source": [
    "pred_y=neigh.predict(test_x)"
   ]
  },
  {
   "cell_type": "markdown",
   "metadata": {},
   "source": [
    "## Compute accuracy"
   ]
  },
  {
   "cell_type": "markdown",
   "metadata": {},
   "source": [
    "### User1"
   ]
  },
  {
   "cell_type": "code",
   "execution_count": 16,
   "metadata": {
    "scrolled": true
   },
   "outputs": [
    {
     "data": {
      "text/plain": [
       "0.9288461538461539"
      ]
     },
     "execution_count": 16,
     "metadata": {},
     "output_type": "execute_result"
    }
   ],
   "source": [
    "accuracy_score(test_y_1,pred_y1)"
   ]
  },
  {
   "cell_type": "markdown",
   "metadata": {},
   "source": [
    "### Label accuracy in User1"
   ]
  },
  {
   "cell_type": "code",
   "execution_count": 52,
   "metadata": {},
   "outputs": [
    {
     "name": "stdout",
     "output_type": "stream",
     "text": [
      "{'a': 0.85, 'b': 0.6, 'c': 1.0, 'd': 1.0, 'e': 0.8, 'f': 0.9, 'g': 0.95, 'h': 0.9, 'i': 0.9, 'j': 0.9, 'k': 1.0, 'l': 0.8, 'm': 1.0, 'n': 1.0, 'o': 1.0, 'p': 1.0, 'q': 1.0, 'r': 1.0, 's': 1.0, 't': 0.8, 'u': 0.8, 'v': 1.0, 'w': 1.0, 'x': 1.0, 'y': 1.0, 'z': 0.95}\n"
     ]
    }
   ],
   "source": [
    "alpha_result=list([0]*26)\n",
    "alpha_cnt=list([0]*26)\n",
    "for idx,i in enumerate(test_y_1):\n",
    "    alpha_cnt[i]+=1\n",
    "    if i==pred_y1[idx]:\n",
    "        alpha_result[i]+=1\n",
    "alpha_acc={chr(i):0 for i in range(ord('a'),ord('z')+1)}\n",
    "for idx,i in enumerate(alpha_result):\n",
    "    if(alpha_cnt[idx]!=0):\n",
    "        alpha_acc[chr(idx+ord('a'))]=(alpha_result[idx]/alpha_cnt[idx])\n",
    "print(alpha_acc)"
   ]
  },
  {
   "cell_type": "markdown",
   "metadata": {},
   "source": [
    "### User2"
   ]
  },
  {
   "cell_type": "code",
   "execution_count": 19,
   "metadata": {
    "scrolled": true
   },
   "outputs": [
    {
     "data": {
      "text/plain": [
       "0.8303030303030303"
      ]
     },
     "execution_count": 19,
     "metadata": {},
     "output_type": "execute_result"
    }
   ],
   "source": [
    "accuracy_score(test_y_2,pred_y2)"
   ]
  },
  {
   "cell_type": "markdown",
   "metadata": {},
   "source": [
    "### Label accuracy in User2"
   ]
  },
  {
   "cell_type": "code",
   "execution_count": 53,
   "metadata": {},
   "outputs": [
    {
     "name": "stdout",
     "output_type": "stream",
     "text": [
      "{'a': 1.0, 'b': 1.0, 'c': 0.9, 'd': 1.0, 'e': 0.65, 'f': 0.95, 'g': 0.7368421052631579, 'h': 0.85, 'i': 0.6111111111111112, 'j': 0.7, 'k': 1.0, 'l': 0.95, 'm': 0.95, 'n': 0.85, 'o': 0.8, 'p': 0.75, 'q': 0.8947368421052632, 'r': 0.9, 's': 0.6363636363636364, 't': 0.9, 'u': 0.65, 'v': 0.25, 'w': 0.7, 'x': 0.95, 'y': 1.0, 'z': 0.85}\n"
     ]
    }
   ],
   "source": [
    "alpha_result=list([0]*26)\n",
    "alpha_cnt=list([0]*26)\n",
    "for idx,i in enumerate(test_y_2):\n",
    "    alpha_cnt[i]+=1\n",
    "    if i==pred_y2[idx]:\n",
    "        alpha_result[i]+=1\n",
    "alpha_acc={chr(i):0 for i in range(ord('a'),ord('z')+1)}\n",
    "for idx,i in enumerate(alpha_result):\n",
    "    if(alpha_cnt[idx]!=0):\n",
    "        alpha_acc[chr(idx+ord('a'))]=(alpha_result[idx]/alpha_cnt[idx])\n",
    "print(alpha_acc)"
   ]
  },
  {
   "cell_type": "markdown",
   "metadata": {},
   "source": [
    "### All"
   ]
  },
  {
   "cell_type": "code",
   "execution_count": 23,
   "metadata": {
    "scrolled": true
   },
   "outputs": [
    {
     "data": {
      "text/plain": [
       "0.8817733990147784"
      ]
     },
     "execution_count": 23,
     "metadata": {},
     "output_type": "execute_result"
    }
   ],
   "source": [
    "accuracy_score(test_y,pred_y)"
   ]
  },
  {
   "cell_type": "markdown",
   "metadata": {},
   "source": [
    "### User accuracy in All data"
   ]
  },
  {
   "cell_type": "code",
   "execution_count": 24,
   "metadata": {},
   "outputs": [
    {
     "name": "stdout",
     "output_type": "stream",
     "text": [
      "92.5 83.63636363636363\n"
     ]
    }
   ],
   "source": [
    "result1=0\n",
    "result2=0\n",
    "#result3=0\n",
    "\n",
    "for i in enumerate(test_y):\n",
    "    if i[1]!=pred_y[i[0]]:\n",
    "        if(i[0] in range(0,cnt1)):\n",
    "            result1+=1\n",
    "        elif(i[0] in range(cnt1,cnt1+cnt2)):\n",
    "            result2+=1\n",
    "        #elif(i[0] in range (cnt1+cnt2,cnt1+cnt2+cnt3)):\n",
    "            #result3+=1\n",
    "            \n",
    "result1=((cnt1-result1)/cnt1)*100\n",
    "result2=((cnt2-result2)/cnt2)*100\n",
    "#result3=((cnt3-result3)/cnt3)*100\n",
    "\n",
    "print(result1,result2) #,result3)"
   ]
  },
  {
   "cell_type": "markdown",
   "metadata": {},
   "source": [
    "### Label accuracy in All data"
   ]
  },
  {
   "cell_type": "code",
   "execution_count": 25,
   "metadata": {},
   "outputs": [
    {
     "name": "stdout",
     "output_type": "stream",
     "text": [
      "{'a': 0.8157894736842105, 'b': 0.9, 'c': 0.9, 'd': 1.0, 'e': 0.725, 'f': 0.9, 'g': 0.8717948717948718, 'h': 0.875, 'i': 0.7631578947368421, 'j': 0.8666666666666667, 'k': 1.0, 'l': 0.85, 'm': 0.975, 'n': 0.95, 'o': 0.9, 'p': 0.9, 'q': 0.8974358974358975, 'r': 0.95, 's': 0.8709677419354839, 't': 0.85, 'u': 0.7, 'v': 0.6, 'w': 1.0, 'x': 0.975, 'y': 0.975, 'z': 0.9}\n"
     ]
    }
   ],
   "source": [
    "alpha_result=list([0]*26)\n",
    "alpha_cnt=list([0]*26)\n",
    "for idx,i in enumerate(test_y):\n",
    "    alpha_cnt[i]+=1\n",
    "    if i==pred_y[idx]:\n",
    "        alpha_result[i]+=1\n",
    "alpha_acc={chr(i):0 for i in range(ord('a'),ord('z')+1)}\n",
    "for idx,i in enumerate(alpha_result):\n",
    "    if(alpha_cnt[idx]!=0):\n",
    "        alpha_acc[chr(idx+ord('a'))]=(alpha_result[idx]/alpha_cnt[idx])\n",
    "print(alpha_acc)"
   ]
  },
  {
   "cell_type": "markdown",
   "metadata": {},
   "source": [
    "### Result in All data"
   ]
  },
  {
   "cell_type": "code",
   "execution_count": 26,
   "metadata": {},
   "outputs": [
    {
     "name": "stdout",
     "output_type": "stream",
     "text": [
      "[ 0 ] real: a | predict: d\n",
      "[ 5 ] real: f | predict: h\n",
      "[ 7 ] real: h | predict: l\n",
      "[ 30 ] real: e | predict: e\n",
      "[ 52 ] real: a | predict: d\n",
      "[ 56 ] real: e | predict: e\n",
      "[ 78 ] real: a | predict: d\n",
      "[ 83 ] real: f | predict: h\n",
      "[ 99 ] real: v | predict: v\n",
      "[ 130 ] real: a | predict: d\n",
      "[ 172 ] real: q | predict: q\n",
      "[ 182 ] real: a | predict: d\n",
      "[ 183 ] real: b | predict: b\n",
      "[ 189 ] real: h | predict: l\n",
      "[ 190 ] real: i | predict: i\n",
      "[ 234 ] real: a | predict: d\n",
      "[ 235 ] real: b | predict: b\n",
      "[ 240 ] real: g | predict: g\n",
      "[ 254 ] real: u | predict: u\n",
      "[ 269 ] real: j | predict: j\n",
      "[ 279 ] real: t | predict: t\n",
      "[ 284 ] real: y | predict: y\n",
      "[ 285 ] real: z | predict: z\n",
      "[ 294 ] real: i | predict: i\n",
      "[ 295 ] real: j | predict: j\n",
      "[ 306 ] real: u | predict: u\n",
      "[ 339 ] real: b | predict: b\n",
      "[ 368 ] real: e | predict: e\n",
      "[ 383 ] real: t | predict: t\n",
      "[ 384 ] real: u | predict: u\n",
      "[ 390 ] real: a | predict: d\n",
      "[ 409 ] real: t | predict: t\n",
      "[ 420 ] real: e | predict: e\n",
      "[ 453 ] real: l | predict: l\n",
      "[ 469 ] real: b | predict: b\n",
      "[ 479 ] real: l | predict: l\n",
      "[ 488 ] real: u | predict: u\n",
      "[ 505 ] real: l | predict: l\n",
      "[ 513 ] real: t | predict: t\n",
      "[ 524 ] real: e | predict: e\n",
      "[ 528 ] real: i | predict: i\n",
      "[ 531 ] real: l | predict: l\n",
      "[ 540 ] real: u | predict: u\n",
      "[ 543 ] real: x | predict: x\n",
      "[ 545 ] real: z | predict: z\n",
      "[ 550 ] real: e | predict: e\n",
      "[ 552 ] real: g | predict: g\n",
      "[ 557 ] real: l | predict: l\n",
      "[ 567 ] real: v | predict: v\n",
      "[ 576 ] real: e | predict: e\n",
      "[ 580 ] real: i | predict: i\n",
      "[ 583 ] real: l | predict: l\n",
      "[ 590 ] real: s | predict: s\n",
      "[ 592 ] real: u | predict: u\n",
      "[ 593 ] real: v | predict: v\n",
      "[ 602 ] real: e | predict: e\n",
      "[ 607 ] real: j | predict: j\n",
      "[ 611 ] real: n | predict: n\n",
      "[ 619 ] real: v | predict: v\n",
      "[ 631 ] real: h | predict: l\n",
      "[ 642 ] real: s | predict: s\n",
      "[ 645 ] real: v | predict: v\n",
      "[ 657 ] real: h | predict: l\n",
      "[ 664 ] real: p | predict: p\n",
      "[ 667 ] real: s | predict: s\n",
      "[ 670 ] real: v | predict: v\n",
      "[ 677 ] real: c | predict: c\n",
      "[ 679 ] real: e | predict: e\n",
      "[ 689 ] real: p | predict: p\n",
      "[ 694 ] real: v | predict: v\n",
      "[ 701 ] real: c | predict: c\n",
      "[ 704 ] real: f | predict: h\n",
      "[ 706 ] real: h | predict: l\n",
      "[ 713 ] real: p | predict: p\n",
      "[ 727 ] real: e | predict: e\n",
      "[ 737 ] real: q | predict: q\n",
      "[ 741 ] real: v | predict: v\n",
      "[ 745 ] real: z | predict: z\n",
      "[ 749 ] real: e | predict: e\n",
      "[ 751 ] real: g | predict: g\n",
      "[ 763 ] real: v | predict: v\n",
      "[ 777 ] real: j | predict: j\n",
      "[ 787 ] real: t | predict: t\n",
      "[ 788 ] real: u | predict: u\n",
      "[ 789 ] real: v | predict: v\n",
      "[ 800 ] real: g | predict: g\n",
      "[ 814 ] real: u | predict: u\n",
      "[ 815 ] real: v | predict: v\n",
      "[ 840 ] real: u | predict: u\n",
      "[ 841 ] real: v | predict: v\n",
      "[ 860 ] real: o | predict: o\n",
      "[ 867 ] real: v | predict: v\n",
      "[ 878 ] real: g | predict: g\n",
      "[ 880 ] real: i | predict: i\n",
      "[ 889 ] real: r | predict: r\n",
      "[ 890 ] real: s | predict: s\n",
      "[ 892 ] real: u | predict: u\n",
      "[ 897 ] real: z | predict: z\n",
      "[ 906 ] real: i | predict: i\n",
      "[ 913 ] real: q | predict: q\n",
      "[ 914 ] real: r | predict: r\n",
      "[ 917 ] real: v | predict: v\n",
      "[ 924 ] real: c | predict: c\n",
      "[ 930 ] real: i | predict: i\n",
      "[ 935 ] real: o | predict: o\n",
      "[ 937 ] real: q | predict: q\n",
      "[ 954 ] real: i | predict: i\n",
      "[ 959 ] real: o | predict: o\n",
      "[ 960 ] real: p | predict: p\n",
      "[ 972 ] real: c | predict: c\n",
      "[ 975 ] real: f | predict: h\n",
      "[ 978 ] real: i | predict: i\n",
      "[ 981 ] real: m | predict: m\n",
      "[ 982 ] real: n | predict: n\n",
      "[ 987 ] real: t | predict: t\n",
      "[ 988 ] real: u | predict: u\n",
      "[ 989 ] real: v | predict: v\n",
      "[ 1005 ] real: o | predict: o\n",
      "[ 1009 ] real: u | predict: u\n",
      "[ 1010 ] real: v | predict: v\n"
     ]
    }
   ],
   "source": [
    "for idx,i in enumerate(test_y):\n",
    "    if i!=pred_y[idx]:\n",
    "        print(\"[\",idx,'] real:',list(word.keys())[i],'| predict:',list(word.keys())[pred_y[i]])"
   ]
  },
  {
   "cell_type": "code",
   "execution_count": null,
   "metadata": {},
   "outputs": [],
   "source": []
  },
  {
   "cell_type": "markdown",
   "metadata": {},
   "source": [
    "# Tensorflow"
   ]
  },
  {
   "cell_type": "markdown",
   "metadata": {},
   "source": [
    "Reference : https://hubring.tistory.com/23"
   ]
  },
  {
   "cell_type": "markdown",
   "metadata": {},
   "source": [
    "### Select data"
   ]
  },
  {
   "cell_type": "code",
   "execution_count": 41,
   "metadata": {},
   "outputs": [],
   "source": [
    "data_train_x=data_x_1\n",
    "data_train_y=to_categorical(data_y_1,num_classes=26)\n",
    "data_test_x=test_x_1\n",
    "data_test_y=to_categorical(test_y_1,num_classes=26)"
   ]
  },
  {
   "cell_type": "markdown",
   "metadata": {},
   "source": [
    "### Setting"
   ]
  },
  {
   "cell_type": "code",
   "execution_count": 27,
   "metadata": {
    "scrolled": true
   },
   "outputs": [
    {
     "name": "stdout",
     "output_type": "stream",
     "text": [
      "WARNING:tensorflow:From C:\\Users\\gosan\\Anaconda3\\lib\\site-packages\\tensorflow\\python\\compat\\v2_compat.py:111: disable_resource_variables (from tensorflow.python.ops.variable_scope) is deprecated and will be removed in a future version.\n",
      "Instructions for updating:\n",
      "non-resource variables are not supported in the long term\n"
     ]
    }
   ],
   "source": [
    "import tensorflow.compat.v1 as tf \n",
    "tf.disable_v2_behavior()"
   ]
  },
  {
   "cell_type": "markdown",
   "metadata": {},
   "source": [
    "### Train & Predict"
   ]
  },
  {
   "cell_type": "code",
   "execution_count": 49,
   "metadata": {},
   "outputs": [],
   "source": [
    "# region k-NN algorithm \n",
    "\n",
    "# x_data_train : training data 1248*24=29952\n",
    "# y_data_train : training data one hot encoding label\n",
    "# x_data_test : test data 1248*24=29952\n",
    "x_data_train = tf.placeholder(tf.float64, [None, 29952])\n",
    "y_data_train = tf.placeholder(tf.int64,[None, 26])\n",
    "x_data_test = tf.placeholder(tf.float64, [29952])\n",
    "paramK = tf.placeholder(tf.int32)\n",
    "\n",
    "# distance : K-Nearest Neighbor - 오차 거리를 구한다(유클리드 거리)\n",
    "distance = tf.reduce_sum(tf.abs(tf.add(x_data_train, tf.negative(x_data_test))), reduction_indices=1)\n",
    "\n",
    "# nearest k points\n",
    "_, top_k_indices = tf.nn.top_k(tf.negative(distance), k=paramK) #가장 가까운 K개의 인덱스를 가져온다. \n",
    "top_k_label = tf.gather(y_data_train, top_k_indices)  #Index에 해당하는 숫자 라벨를 가져온다.\n",
    "\n",
    "sum_up_predictions = tf.reduce_sum(top_k_label, axis=0) #공통되는 숫자 라벨의 개수를 더한다. \n",
    "prediction = tf.argmax(sum_up_predictions) #가장 가까운 숫자값을 구한다.\n",
    "\n",
    "# endregion\n"
   ]
  },
  {
   "cell_type": "code",
   "execution_count": 50,
   "metadata": {},
   "outputs": [
    {
     "name": "stdout",
     "output_type": "stream",
     "text": [
      "Iteration :  0 Real label :  0 Predict label :  20\n",
      "Iteration :  1 Real label :  1 Predict label :  1\n",
      "Iteration :  2 Real label :  2 Predict label :  2\n",
      "Iteration :  3 Real label :  3 Predict label :  3\n",
      "Iteration :  4 Real label :  4 Predict label :  4\n",
      "Iteration :  5 Real label :  5 Predict label :  8\n",
      "Iteration :  6 Real label :  6 Predict label :  6\n",
      "Iteration :  7 Real label :  7 Predict label :  7\n",
      "Iteration :  8 Real label :  8 Predict label :  8\n",
      "Iteration :  9 Real label :  9 Predict label :  9\n",
      "Iteration :  10 Real label :  10 Predict label :  10\n",
      "Iteration :  11 Real label :  11 Predict label :  11\n",
      "Iteration :  12 Real label :  12 Predict label :  12\n",
      "Iteration :  13 Real label :  13 Predict label :  13\n",
      "Iteration :  14 Real label :  14 Predict label :  14\n",
      "Iteration :  15 Real label :  15 Predict label :  15\n",
      "Iteration :  16 Real label :  16 Predict label :  16\n",
      "Iteration :  17 Real label :  17 Predict label :  17\n",
      "Iteration :  18 Real label :  18 Predict label :  18\n",
      "Iteration :  19 Real label :  19 Predict label :  19\n",
      "Iteration :  20 Real label :  20 Predict label :  20\n",
      "Iteration :  21 Real label :  21 Predict label :  21\n",
      "Iteration :  22 Real label :  22 Predict label :  22\n",
      "Iteration :  23 Real label :  23 Predict label :  23\n",
      "Iteration :  24 Real label :  24 Predict label :  24\n",
      "Iteration :  25 Real label :  25 Predict label :  25\n",
      "Iteration :  26 Real label :  0 Predict label :  0\n",
      "Iteration :  27 Real label :  1 Predict label :  1\n",
      "Iteration :  28 Real label :  2 Predict label :  2\n",
      "Iteration :  29 Real label :  3 Predict label :  3\n",
      "Iteration :  30 Real label :  4 Predict label :  2\n",
      "Iteration :  31 Real label :  5 Predict label :  5\n",
      "Iteration :  32 Real label :  6 Predict label :  6\n",
      "Iteration :  33 Real label :  7 Predict label :  7\n",
      "Iteration :  34 Real label :  8 Predict label :  8\n",
      "Iteration :  35 Real label :  9 Predict label :  9\n",
      "Iteration :  36 Real label :  10 Predict label :  10\n",
      "Iteration :  37 Real label :  11 Predict label :  11\n",
      "Iteration :  38 Real label :  12 Predict label :  12\n",
      "Iteration :  39 Real label :  13 Predict label :  13\n",
      "Iteration :  40 Real label :  14 Predict label :  14\n",
      "Iteration :  41 Real label :  15 Predict label :  15\n",
      "Iteration :  42 Real label :  16 Predict label :  16\n",
      "Iteration :  43 Real label :  17 Predict label :  17\n",
      "Iteration :  44 Real label :  18 Predict label :  14\n",
      "Iteration :  45 Real label :  19 Predict label :  19\n",
      "Iteration :  46 Real label :  20 Predict label :  20\n",
      "Iteration :  47 Real label :  21 Predict label :  21\n",
      "Iteration :  48 Real label :  22 Predict label :  22\n",
      "Iteration :  49 Real label :  23 Predict label :  23\n",
      "Iteration :  50 Real label :  24 Predict label :  24\n",
      "Iteration :  51 Real label :  25 Predict label :  25\n",
      "Iteration :  52 Real label :  0 Predict label :  20\n",
      "Iteration :  53 Real label :  1 Predict label :  1\n",
      "Iteration :  54 Real label :  2 Predict label :  2\n",
      "Iteration :  55 Real label :  3 Predict label :  3\n",
      "Iteration :  56 Real label :  4 Predict label :  2\n",
      "Iteration :  57 Real label :  5 Predict label :  5\n",
      "Iteration :  58 Real label :  6 Predict label :  6\n",
      "Iteration :  59 Real label :  7 Predict label :  7\n",
      "Iteration :  60 Real label :  8 Predict label :  8\n",
      "Iteration :  61 Real label :  9 Predict label :  9\n",
      "Iteration :  62 Real label :  10 Predict label :  10\n",
      "Iteration :  63 Real label :  11 Predict label :  11\n",
      "Iteration :  64 Real label :  12 Predict label :  12\n",
      "Iteration :  65 Real label :  13 Predict label :  13\n",
      "Iteration :  66 Real label :  14 Predict label :  14\n",
      "Iteration :  67 Real label :  15 Predict label :  15\n",
      "Iteration :  68 Real label :  16 Predict label :  16\n",
      "Iteration :  69 Real label :  17 Predict label :  17\n",
      "Iteration :  70 Real label :  18 Predict label :  18\n",
      "Iteration :  71 Real label :  19 Predict label :  19\n",
      "Iteration :  72 Real label :  20 Predict label :  20\n",
      "Iteration :  73 Real label :  21 Predict label :  21\n",
      "Iteration :  74 Real label :  22 Predict label :  22\n",
      "Iteration :  75 Real label :  23 Predict label :  23\n",
      "Iteration :  76 Real label :  24 Predict label :  24\n",
      "Iteration :  77 Real label :  25 Predict label :  25\n",
      "Iteration :  78 Real label :  0 Predict label :  0\n",
      "Iteration :  79 Real label :  1 Predict label :  1\n",
      "Iteration :  80 Real label :  2 Predict label :  2\n",
      "Iteration :  81 Real label :  3 Predict label :  3\n",
      "Iteration :  82 Real label :  4 Predict label :  4\n",
      "Iteration :  83 Real label :  5 Predict label :  8\n",
      "Iteration :  84 Real label :  6 Predict label :  6\n",
      "Iteration :  85 Real label :  7 Predict label :  7\n",
      "Iteration :  86 Real label :  8 Predict label :  8\n",
      "Iteration :  87 Real label :  9 Predict label :  9\n",
      "Iteration :  88 Real label :  10 Predict label :  10\n",
      "Iteration :  89 Real label :  11 Predict label :  11\n",
      "Iteration :  90 Real label :  12 Predict label :  12\n",
      "Iteration :  91 Real label :  13 Predict label :  13\n",
      "Iteration :  92 Real label :  14 Predict label :  14\n",
      "Iteration :  93 Real label :  15 Predict label :  15\n",
      "Iteration :  94 Real label :  16 Predict label :  16\n",
      "Iteration :  95 Real label :  17 Predict label :  17\n",
      "Iteration :  96 Real label :  18 Predict label :  18\n",
      "Iteration :  97 Real label :  19 Predict label :  19\n",
      "Iteration :  98 Real label :  20 Predict label :  20\n",
      "Iteration :  99 Real label :  21 Predict label :  21\n",
      "Iteration :  100 Real label :  22 Predict label :  22\n",
      "Iteration :  101 Real label :  23 Predict label :  23\n",
      "Iteration :  102 Real label :  24 Predict label :  24\n",
      "Iteration :  103 Real label :  25 Predict label :  25\n",
      "Iteration :  104 Real label :  0 Predict label :  0\n",
      "Iteration :  105 Real label :  1 Predict label :  1\n",
      "Iteration :  106 Real label :  2 Predict label :  2\n",
      "Iteration :  107 Real label :  3 Predict label :  3\n",
      "Iteration :  108 Real label :  4 Predict label :  4\n",
      "Iteration :  109 Real label :  5 Predict label :  5\n",
      "Iteration :  110 Real label :  6 Predict label :  6\n",
      "Iteration :  111 Real label :  7 Predict label :  7\n",
      "Iteration :  112 Real label :  8 Predict label :  8\n",
      "Iteration :  113 Real label :  9 Predict label :  9\n",
      "Iteration :  114 Real label :  10 Predict label :  10\n",
      "Iteration :  115 Real label :  11 Predict label :  11\n",
      "Iteration :  116 Real label :  12 Predict label :  12\n",
      "Iteration :  117 Real label :  13 Predict label :  13\n",
      "Iteration :  118 Real label :  14 Predict label :  14\n",
      "Iteration :  119 Real label :  15 Predict label :  15\n",
      "Iteration :  120 Real label :  16 Predict label :  16\n",
      "Iteration :  121 Real label :  17 Predict label :  17\n",
      "Iteration :  122 Real label :  18 Predict label :  18\n",
      "Iteration :  123 Real label :  19 Predict label :  19\n",
      "Iteration :  124 Real label :  20 Predict label :  20\n",
      "Iteration :  125 Real label :  21 Predict label :  21\n",
      "Iteration :  126 Real label :  22 Predict label :  22\n",
      "Iteration :  127 Real label :  23 Predict label :  23\n",
      "Iteration :  128 Real label :  24 Predict label :  24\n",
      "Iteration :  129 Real label :  25 Predict label :  25\n",
      "Iteration :  130 Real label :  0 Predict label :  20\n",
      "Iteration :  131 Real label :  1 Predict label :  1\n",
      "Iteration :  132 Real label :  2 Predict label :  2\n",
      "Iteration :  133 Real label :  3 Predict label :  3\n",
      "Iteration :  134 Real label :  4 Predict label :  4\n",
      "Iteration :  135 Real label :  5 Predict label :  5\n",
      "Iteration :  136 Real label :  6 Predict label :  6\n",
      "Iteration :  137 Real label :  7 Predict label :  7\n",
      "Iteration :  138 Real label :  8 Predict label :  8\n",
      "Iteration :  139 Real label :  9 Predict label :  9\n",
      "Iteration :  140 Real label :  10 Predict label :  10\n",
      "Iteration :  141 Real label :  11 Predict label :  11\n",
      "Iteration :  142 Real label :  12 Predict label :  12\n",
      "Iteration :  143 Real label :  13 Predict label :  13\n",
      "Iteration :  144 Real label :  14 Predict label :  14\n",
      "Iteration :  145 Real label :  15 Predict label :  15\n",
      "Iteration :  146 Real label :  16 Predict label :  16\n",
      "Iteration :  147 Real label :  17 Predict label :  17\n",
      "Iteration :  148 Real label :  18 Predict label :  18\n",
      "Iteration :  149 Real label :  19 Predict label :  19\n",
      "Iteration :  150 Real label :  20 Predict label :  20\n",
      "Iteration :  151 Real label :  21 Predict label :  21\n",
      "Iteration :  152 Real label :  22 Predict label :  22\n",
      "Iteration :  153 Real label :  23 Predict label :  23\n",
      "Iteration :  154 Real label :  24 Predict label :  24\n",
      "Iteration :  155 Real label :  25 Predict label :  25\n"
     ]
    },
    {
     "name": "stdout",
     "output_type": "stream",
     "text": [
      "Iteration :  156 Real label :  0 Predict label :  0\n",
      "Iteration :  157 Real label :  1 Predict label :  1\n",
      "Iteration :  158 Real label :  2 Predict label :  2\n",
      "Iteration :  159 Real label :  3 Predict label :  3\n",
      "Iteration :  160 Real label :  4 Predict label :  4\n",
      "Iteration :  161 Real label :  5 Predict label :  5\n",
      "Iteration :  162 Real label :  6 Predict label :  6\n",
      "Iteration :  163 Real label :  7 Predict label :  7\n",
      "Iteration :  164 Real label :  8 Predict label :  8\n",
      "Iteration :  165 Real label :  9 Predict label :  9\n",
      "Iteration :  166 Real label :  10 Predict label :  10\n",
      "Iteration :  167 Real label :  11 Predict label :  11\n",
      "Iteration :  168 Real label :  12 Predict label :  12\n",
      "Iteration :  169 Real label :  13 Predict label :  13\n",
      "Iteration :  170 Real label :  14 Predict label :  14\n",
      "Iteration :  171 Real label :  15 Predict label :  15\n",
      "Iteration :  172 Real label :  16 Predict label :  16\n",
      "Iteration :  173 Real label :  17 Predict label :  17\n",
      "Iteration :  174 Real label :  18 Predict label :  18\n",
      "Iteration :  175 Real label :  19 Predict label :  19\n",
      "Iteration :  176 Real label :  20 Predict label :  20\n",
      "Iteration :  177 Real label :  21 Predict label :  21\n",
      "Iteration :  178 Real label :  22 Predict label :  22\n",
      "Iteration :  179 Real label :  23 Predict label :  23\n",
      "Iteration :  180 Real label :  24 Predict label :  24\n",
      "Iteration :  181 Real label :  25 Predict label :  25\n",
      "Iteration :  182 Real label :  0 Predict label :  20\n",
      "Iteration :  183 Real label :  1 Predict label :  1\n",
      "Iteration :  184 Real label :  2 Predict label :  2\n",
      "Iteration :  185 Real label :  3 Predict label :  3\n",
      "Iteration :  186 Real label :  4 Predict label :  4\n",
      "Iteration :  187 Real label :  5 Predict label :  5\n",
      "Iteration :  188 Real label :  6 Predict label :  6\n",
      "Iteration :  189 Real label :  7 Predict label :  10\n",
      "Iteration :  190 Real label :  8 Predict label :  11\n",
      "Iteration :  191 Real label :  9 Predict label :  9\n",
      "Iteration :  192 Real label :  10 Predict label :  10\n",
      "Iteration :  193 Real label :  11 Predict label :  11\n",
      "Iteration :  194 Real label :  12 Predict label :  12\n",
      "Iteration :  195 Real label :  13 Predict label :  13\n",
      "Iteration :  196 Real label :  14 Predict label :  14\n",
      "Iteration :  197 Real label :  15 Predict label :  15\n",
      "Iteration :  198 Real label :  16 Predict label :  16\n",
      "Iteration :  199 Real label :  17 Predict label :  17\n",
      "Iteration :  200 Real label :  18 Predict label :  18\n",
      "Iteration :  201 Real label :  19 Predict label :  19\n",
      "Iteration :  202 Real label :  20 Predict label :  20\n",
      "Iteration :  203 Real label :  21 Predict label :  21\n",
      "Iteration :  204 Real label :  22 Predict label :  22\n",
      "Iteration :  205 Real label :  23 Predict label :  23\n",
      "Iteration :  206 Real label :  24 Predict label :  24\n",
      "Iteration :  207 Real label :  25 Predict label :  25\n",
      "Iteration :  208 Real label :  0 Predict label :  0\n",
      "Iteration :  209 Real label :  1 Predict label :  1\n",
      "Iteration :  210 Real label :  2 Predict label :  2\n",
      "Iteration :  211 Real label :  3 Predict label :  3\n",
      "Iteration :  212 Real label :  4 Predict label :  4\n",
      "Iteration :  213 Real label :  5 Predict label :  5\n",
      "Iteration :  214 Real label :  6 Predict label :  6\n",
      "Iteration :  215 Real label :  7 Predict label :  7\n",
      "Iteration :  216 Real label :  8 Predict label :  8\n",
      "Iteration :  217 Real label :  9 Predict label :  9\n",
      "Iteration :  218 Real label :  10 Predict label :  10\n",
      "Iteration :  219 Real label :  11 Predict label :  11\n",
      "Iteration :  220 Real label :  12 Predict label :  12\n",
      "Iteration :  221 Real label :  13 Predict label :  13\n",
      "Iteration :  222 Real label :  14 Predict label :  14\n",
      "Iteration :  223 Real label :  15 Predict label :  15\n",
      "Iteration :  224 Real label :  16 Predict label :  16\n",
      "Iteration :  225 Real label :  17 Predict label :  17\n",
      "Iteration :  226 Real label :  18 Predict label :  18\n",
      "Iteration :  227 Real label :  19 Predict label :  19\n",
      "Iteration :  228 Real label :  20 Predict label :  20\n",
      "Iteration :  229 Real label :  21 Predict label :  21\n",
      "Iteration :  230 Real label :  22 Predict label :  22\n",
      "Iteration :  231 Real label :  23 Predict label :  23\n",
      "Iteration :  232 Real label :  24 Predict label :  24\n",
      "Iteration :  233 Real label :  25 Predict label :  25\n",
      "Iteration :  234 Real label :  0 Predict label :  0\n",
      "Iteration :  235 Real label :  1 Predict label :  3\n",
      "Iteration :  236 Real label :  2 Predict label :  2\n",
      "Iteration :  237 Real label :  3 Predict label :  3\n",
      "Iteration :  238 Real label :  4 Predict label :  4\n",
      "Iteration :  239 Real label :  5 Predict label :  5\n",
      "Iteration :  240 Real label :  6 Predict label :  9\n",
      "Iteration :  241 Real label :  7 Predict label :  7\n",
      "Iteration :  242 Real label :  8 Predict label :  8\n",
      "Iteration :  243 Real label :  9 Predict label :  9\n",
      "Iteration :  244 Real label :  10 Predict label :  10\n",
      "Iteration :  245 Real label :  11 Predict label :  11\n",
      "Iteration :  246 Real label :  12 Predict label :  12\n",
      "Iteration :  247 Real label :  13 Predict label :  13\n",
      "Iteration :  248 Real label :  14 Predict label :  14\n",
      "Iteration :  249 Real label :  15 Predict label :  15\n",
      "Iteration :  250 Real label :  16 Predict label :  16\n",
      "Iteration :  251 Real label :  17 Predict label :  17\n",
      "Iteration :  252 Real label :  18 Predict label :  18\n",
      "Iteration :  253 Real label :  19 Predict label :  19\n",
      "Iteration :  254 Real label :  20 Predict label :  18\n",
      "Iteration :  255 Real label :  21 Predict label :  21\n",
      "Iteration :  256 Real label :  22 Predict label :  22\n",
      "Iteration :  257 Real label :  23 Predict label :  23\n",
      "Iteration :  258 Real label :  24 Predict label :  24\n",
      "Iteration :  259 Real label :  25 Predict label :  25\n",
      "Iteration :  260 Real label :  0 Predict label :  0\n",
      "Iteration :  261 Real label :  1 Predict label :  7\n",
      "Iteration :  262 Real label :  2 Predict label :  2\n",
      "Iteration :  263 Real label :  3 Predict label :  3\n",
      "Iteration :  264 Real label :  4 Predict label :  4\n",
      "Iteration :  265 Real label :  5 Predict label :  5\n",
      "Iteration :  266 Real label :  6 Predict label :  6\n",
      "Iteration :  267 Real label :  7 Predict label :  7\n",
      "Iteration :  268 Real label :  8 Predict label :  8\n",
      "Iteration :  269 Real label :  9 Predict label :  7\n",
      "Iteration :  270 Real label :  10 Predict label :  10\n",
      "Iteration :  271 Real label :  11 Predict label :  11\n",
      "Iteration :  272 Real label :  12 Predict label :  12\n",
      "Iteration :  273 Real label :  13 Predict label :  13\n",
      "Iteration :  274 Real label :  14 Predict label :  14\n",
      "Iteration :  275 Real label :  15 Predict label :  15\n",
      "Iteration :  276 Real label :  16 Predict label :  16\n",
      "Iteration :  277 Real label :  17 Predict label :  17\n",
      "Iteration :  278 Real label :  18 Predict label :  18\n",
      "Iteration :  279 Real label :  19 Predict label :  8\n",
      "Iteration :  280 Real label :  20 Predict label :  20\n",
      "Iteration :  281 Real label :  21 Predict label :  21\n",
      "Iteration :  282 Real label :  22 Predict label :  22\n",
      "Iteration :  283 Real label :  23 Predict label :  23\n",
      "Iteration :  284 Real label :  24 Predict label :  24\n",
      "Iteration :  285 Real label :  25 Predict label :  6\n",
      "Iteration :  286 Real label :  0 Predict label :  0\n",
      "Iteration :  287 Real label :  1 Predict label :  1\n",
      "Iteration :  288 Real label :  2 Predict label :  2\n",
      "Iteration :  289 Real label :  3 Predict label :  3\n",
      "Iteration :  290 Real label :  4 Predict label :  4\n",
      "Iteration :  291 Real label :  5 Predict label :  5\n",
      "Iteration :  292 Real label :  6 Predict label :  6\n",
      "Iteration :  293 Real label :  7 Predict label :  7\n",
      "Iteration :  294 Real label :  8 Predict label :  11\n",
      "Iteration :  295 Real label :  9 Predict label :  11\n",
      "Iteration :  296 Real label :  10 Predict label :  10\n",
      "Iteration :  297 Real label :  11 Predict label :  21\n",
      "Iteration :  298 Real label :  12 Predict label :  12\n",
      "Iteration :  299 Real label :  13 Predict label :  13\n",
      "Iteration :  300 Real label :  14 Predict label :  14\n",
      "Iteration :  301 Real label :  15 Predict label :  15\n",
      "Iteration :  302 Real label :  16 Predict label :  16\n",
      "Iteration :  303 Real label :  17 Predict label :  17\n",
      "Iteration :  304 Real label :  18 Predict label :  18\n",
      "Iteration :  305 Real label :  19 Predict label :  19\n",
      "Iteration :  306 Real label :  20 Predict label :  0\n",
      "Iteration :  307 Real label :  21 Predict label :  21\n",
      "Iteration :  308 Real label :  22 Predict label :  22\n",
      "Iteration :  309 Real label :  23 Predict label :  23\n"
     ]
    },
    {
     "name": "stdout",
     "output_type": "stream",
     "text": [
      "Iteration :  310 Real label :  24 Predict label :  24\n",
      "Iteration :  311 Real label :  25 Predict label :  25\n",
      "Iteration :  312 Real label :  0 Predict label :  0\n",
      "Iteration :  313 Real label :  1 Predict label :  3\n",
      "Iteration :  314 Real label :  2 Predict label :  2\n",
      "Iteration :  315 Real label :  3 Predict label :  3\n",
      "Iteration :  316 Real label :  4 Predict label :  4\n",
      "Iteration :  317 Real label :  5 Predict label :  5\n",
      "Iteration :  318 Real label :  6 Predict label :  6\n",
      "Iteration :  319 Real label :  7 Predict label :  7\n",
      "Iteration :  320 Real label :  8 Predict label :  8\n",
      "Iteration :  321 Real label :  9 Predict label :  9\n",
      "Iteration :  322 Real label :  10 Predict label :  10\n",
      "Iteration :  323 Real label :  11 Predict label :  11\n",
      "Iteration :  324 Real label :  12 Predict label :  12\n",
      "Iteration :  325 Real label :  13 Predict label :  13\n",
      "Iteration :  326 Real label :  14 Predict label :  14\n",
      "Iteration :  327 Real label :  15 Predict label :  15\n",
      "Iteration :  328 Real label :  16 Predict label :  16\n",
      "Iteration :  329 Real label :  17 Predict label :  17\n",
      "Iteration :  330 Real label :  18 Predict label :  18\n",
      "Iteration :  331 Real label :  19 Predict label :  19\n",
      "Iteration :  332 Real label :  20 Predict label :  20\n",
      "Iteration :  333 Real label :  21 Predict label :  21\n",
      "Iteration :  334 Real label :  22 Predict label :  22\n",
      "Iteration :  335 Real label :  23 Predict label :  23\n",
      "Iteration :  336 Real label :  24 Predict label :  24\n",
      "Iteration :  337 Real label :  25 Predict label :  25\n",
      "Iteration :  338 Real label :  0 Predict label :  0\n",
      "Iteration :  339 Real label :  1 Predict label :  3\n",
      "Iteration :  340 Real label :  2 Predict label :  2\n",
      "Iteration :  341 Real label :  3 Predict label :  3\n",
      "Iteration :  342 Real label :  4 Predict label :  4\n",
      "Iteration :  343 Real label :  5 Predict label :  5\n",
      "Iteration :  344 Real label :  6 Predict label :  6\n",
      "Iteration :  345 Real label :  7 Predict label :  7\n",
      "Iteration :  346 Real label :  8 Predict label :  8\n",
      "Iteration :  347 Real label :  9 Predict label :  9\n",
      "Iteration :  348 Real label :  10 Predict label :  10\n",
      "Iteration :  349 Real label :  11 Predict label :  11\n",
      "Iteration :  350 Real label :  12 Predict label :  12\n",
      "Iteration :  351 Real label :  13 Predict label :  13\n",
      "Iteration :  352 Real label :  14 Predict label :  14\n",
      "Iteration :  353 Real label :  15 Predict label :  15\n",
      "Iteration :  354 Real label :  16 Predict label :  16\n",
      "Iteration :  355 Real label :  17 Predict label :  17\n",
      "Iteration :  356 Real label :  18 Predict label :  18\n",
      "Iteration :  357 Real label :  19 Predict label :  19\n",
      "Iteration :  358 Real label :  20 Predict label :  20\n",
      "Iteration :  359 Real label :  21 Predict label :  21\n",
      "Iteration :  360 Real label :  22 Predict label :  22\n",
      "Iteration :  361 Real label :  23 Predict label :  23\n",
      "Iteration :  362 Real label :  24 Predict label :  24\n",
      "Iteration :  363 Real label :  25 Predict label :  25\n",
      "Iteration :  364 Real label :  0 Predict label :  0\n",
      "Iteration :  365 Real label :  1 Predict label :  1\n",
      "Iteration :  366 Real label :  2 Predict label :  2\n",
      "Iteration :  367 Real label :  3 Predict label :  3\n",
      "Iteration :  368 Real label :  4 Predict label :  2\n",
      "Iteration :  369 Real label :  5 Predict label :  5\n",
      "Iteration :  370 Real label :  6 Predict label :  6\n",
      "Iteration :  371 Real label :  7 Predict label :  7\n",
      "Iteration :  372 Real label :  8 Predict label :  8\n",
      "Iteration :  373 Real label :  9 Predict label :  9\n",
      "Iteration :  374 Real label :  10 Predict label :  10\n",
      "Iteration :  375 Real label :  11 Predict label :  11\n",
      "Iteration :  376 Real label :  12 Predict label :  12\n",
      "Iteration :  377 Real label :  13 Predict label :  13\n",
      "Iteration :  378 Real label :  14 Predict label :  14\n",
      "Iteration :  379 Real label :  15 Predict label :  15\n",
      "Iteration :  380 Real label :  16 Predict label :  16\n",
      "Iteration :  381 Real label :  17 Predict label :  17\n",
      "Iteration :  382 Real label :  18 Predict label :  18\n",
      "Iteration :  383 Real label :  19 Predict label :  21\n",
      "Iteration :  384 Real label :  20 Predict label :  0\n",
      "Iteration :  385 Real label :  21 Predict label :  21\n",
      "Iteration :  386 Real label :  22 Predict label :  22\n",
      "Iteration :  387 Real label :  23 Predict label :  23\n",
      "Iteration :  388 Real label :  24 Predict label :  24\n",
      "Iteration :  389 Real label :  25 Predict label :  25\n",
      "Iteration :  390 Real label :  0 Predict label :  0\n",
      "Iteration :  391 Real label :  1 Predict label :  1\n",
      "Iteration :  392 Real label :  2 Predict label :  2\n",
      "Iteration :  393 Real label :  3 Predict label :  3\n",
      "Iteration :  394 Real label :  4 Predict label :  4\n",
      "Iteration :  395 Real label :  5 Predict label :  5\n",
      "Iteration :  396 Real label :  6 Predict label :  6\n",
      "Iteration :  397 Real label :  7 Predict label :  7\n",
      "Iteration :  398 Real label :  8 Predict label :  8\n",
      "Iteration :  399 Real label :  9 Predict label :  9\n",
      "Iteration :  400 Real label :  10 Predict label :  10\n",
      "Iteration :  401 Real label :  11 Predict label :  11\n",
      "Iteration :  402 Real label :  12 Predict label :  12\n",
      "Iteration :  403 Real label :  13 Predict label :  13\n",
      "Iteration :  404 Real label :  14 Predict label :  14\n",
      "Iteration :  405 Real label :  15 Predict label :  15\n",
      "Iteration :  406 Real label :  16 Predict label :  16\n",
      "Iteration :  407 Real label :  17 Predict label :  17\n",
      "Iteration :  408 Real label :  18 Predict label :  18\n",
      "Iteration :  409 Real label :  19 Predict label :  11\n",
      "Iteration :  410 Real label :  20 Predict label :  20\n",
      "Iteration :  411 Real label :  21 Predict label :  21\n",
      "Iteration :  412 Real label :  22 Predict label :  22\n",
      "Iteration :  413 Real label :  23 Predict label :  23\n",
      "Iteration :  414 Real label :  24 Predict label :  24\n",
      "Iteration :  415 Real label :  25 Predict label :  25\n",
      "Iteration :  416 Real label :  0 Predict label :  0\n",
      "Iteration :  417 Real label :  1 Predict label :  1\n",
      "Iteration :  418 Real label :  2 Predict label :  2\n",
      "Iteration :  419 Real label :  3 Predict label :  3\n",
      "Iteration :  420 Real label :  4 Predict label :  2\n",
      "Iteration :  421 Real label :  5 Predict label :  5\n",
      "Iteration :  422 Real label :  6 Predict label :  6\n",
      "Iteration :  423 Real label :  7 Predict label :  7\n",
      "Iteration :  424 Real label :  8 Predict label :  8\n",
      "Iteration :  425 Real label :  9 Predict label :  9\n",
      "Iteration :  426 Real label :  10 Predict label :  10\n",
      "Iteration :  427 Real label :  11 Predict label :  11\n",
      "Iteration :  428 Real label :  12 Predict label :  12\n",
      "Iteration :  429 Real label :  13 Predict label :  13\n",
      "Iteration :  430 Real label :  14 Predict label :  14\n",
      "Iteration :  431 Real label :  15 Predict label :  15\n",
      "Iteration :  432 Real label :  16 Predict label :  16\n",
      "Iteration :  433 Real label :  17 Predict label :  17\n",
      "Iteration :  434 Real label :  18 Predict label :  18\n",
      "Iteration :  435 Real label :  19 Predict label :  19\n",
      "Iteration :  436 Real label :  20 Predict label :  20\n",
      "Iteration :  437 Real label :  21 Predict label :  21\n",
      "Iteration :  438 Real label :  22 Predict label :  22\n",
      "Iteration :  439 Real label :  23 Predict label :  23\n",
      "Iteration :  440 Real label :  24 Predict label :  24\n",
      "Iteration :  441 Real label :  25 Predict label :  25\n",
      "Iteration :  442 Real label :  0 Predict label :  0\n",
      "Iteration :  443 Real label :  1 Predict label :  3\n",
      "Iteration :  444 Real label :  2 Predict label :  2\n",
      "Iteration :  445 Real label :  3 Predict label :  3\n",
      "Iteration :  446 Real label :  4 Predict label :  4\n",
      "Iteration :  447 Real label :  5 Predict label :  5\n",
      "Iteration :  448 Real label :  6 Predict label :  6\n",
      "Iteration :  449 Real label :  7 Predict label :  7\n",
      "Iteration :  450 Real label :  8 Predict label :  11\n",
      "Iteration :  451 Real label :  9 Predict label :  9\n",
      "Iteration :  452 Real label :  10 Predict label :  10\n",
      "Iteration :  453 Real label :  11 Predict label :  21\n",
      "Iteration :  454 Real label :  12 Predict label :  12\n",
      "Iteration :  455 Real label :  13 Predict label :  13\n",
      "Iteration :  456 Real label :  14 Predict label :  14\n",
      "Iteration :  457 Real label :  15 Predict label :  15\n",
      "Iteration :  458 Real label :  16 Predict label :  16\n",
      "Iteration :  459 Real label :  17 Predict label :  17\n",
      "Iteration :  460 Real label :  18 Predict label :  18\n",
      "Iteration :  461 Real label :  19 Predict label :  19\n",
      "Iteration :  462 Real label :  20 Predict label :  20\n",
      "Iteration :  463 Real label :  21 Predict label :  21\n"
     ]
    },
    {
     "name": "stdout",
     "output_type": "stream",
     "text": [
      "Iteration :  464 Real label :  22 Predict label :  22\n",
      "Iteration :  465 Real label :  23 Predict label :  23\n",
      "Iteration :  466 Real label :  24 Predict label :  24\n",
      "Iteration :  467 Real label :  25 Predict label :  25\n",
      "Iteration :  468 Real label :  0 Predict label :  0\n",
      "Iteration :  469 Real label :  1 Predict label :  9\n",
      "Iteration :  470 Real label :  2 Predict label :  2\n",
      "Iteration :  471 Real label :  3 Predict label :  3\n",
      "Iteration :  472 Real label :  4 Predict label :  4\n",
      "Iteration :  473 Real label :  5 Predict label :  5\n",
      "Iteration :  474 Real label :  6 Predict label :  6\n",
      "Iteration :  475 Real label :  7 Predict label :  7\n",
      "Iteration :  476 Real label :  8 Predict label :  8\n",
      "Iteration :  477 Real label :  9 Predict label :  9\n",
      "Iteration :  478 Real label :  10 Predict label :  10\n",
      "Iteration :  479 Real label :  11 Predict label :  21\n",
      "Iteration :  480 Real label :  12 Predict label :  12\n",
      "Iteration :  481 Real label :  13 Predict label :  13\n",
      "Iteration :  482 Real label :  14 Predict label :  14\n",
      "Iteration :  483 Real label :  15 Predict label :  15\n",
      "Iteration :  484 Real label :  16 Predict label :  16\n",
      "Iteration :  485 Real label :  17 Predict label :  17\n",
      "Iteration :  486 Real label :  18 Predict label :  18\n",
      "Iteration :  487 Real label :  19 Predict label :  19\n",
      "Iteration :  488 Real label :  20 Predict label :  0\n",
      "Iteration :  489 Real label :  21 Predict label :  21\n",
      "Iteration :  490 Real label :  22 Predict label :  22\n",
      "Iteration :  491 Real label :  23 Predict label :  23\n",
      "Iteration :  492 Real label :  24 Predict label :  24\n",
      "Iteration :  493 Real label :  25 Predict label :  25\n",
      "Iteration :  494 Real label :  0 Predict label :  0\n",
      "Iteration :  495 Real label :  1 Predict label :  0\n",
      "Iteration :  496 Real label :  2 Predict label :  2\n",
      "Iteration :  497 Real label :  3 Predict label :  3\n",
      "Iteration :  498 Real label :  4 Predict label :  4\n",
      "Iteration :  499 Real label :  5 Predict label :  5\n",
      "Iteration :  500 Real label :  6 Predict label :  6\n",
      "Iteration :  501 Real label :  7 Predict label :  7\n",
      "Iteration :  502 Real label :  8 Predict label :  8\n",
      "Iteration :  503 Real label :  9 Predict label :  9\n",
      "Iteration :  504 Real label :  10 Predict label :  10\n",
      "Iteration :  505 Real label :  11 Predict label :  21\n",
      "Iteration :  506 Real label :  12 Predict label :  12\n",
      "Iteration :  507 Real label :  13 Predict label :  13\n",
      "Iteration :  508 Real label :  14 Predict label :  14\n",
      "Iteration :  509 Real label :  15 Predict label :  15\n",
      "Iteration :  510 Real label :  16 Predict label :  16\n",
      "Iteration :  511 Real label :  17 Predict label :  17\n",
      "Iteration :  512 Real label :  18 Predict label :  18\n",
      "Iteration :  513 Real label :  19 Predict label :  17\n",
      "Iteration :  514 Real label :  20 Predict label :  20\n",
      "Iteration :  515 Real label :  21 Predict label :  21\n",
      "Iteration :  516 Real label :  22 Predict label :  22\n",
      "Iteration :  517 Real label :  23 Predict label :  23\n",
      "Iteration :  518 Real label :  24 Predict label :  24\n",
      "Iteration :  519 Real label :  25 Predict label :  25\n"
     ]
    }
   ],
   "source": [
    "# Tensorflow 세션 실행\n",
    "init = tf.initialize_all_variables()\n",
    "\n",
    "sess = tf.Session()\n",
    "sess.run(init)\n",
    "\n",
    "\n",
    "# 정확도를 초기화\n",
    "accuracy = 0\n",
    "confusion_matrix = [[0 for i in range(26)] for j in range(26)]\n",
    "\n",
    "\n",
    "for i in range(len(data_test_x)):\n",
    "\n",
    "    # k-NN 알고리즘 수행 예측된 숫자를 구한다.\n",
    "    pre_label = sess.run(prediction, feed_dict={x_data_train: data_train_x, y_data_train: data_train_y, x_data_test: data_test_x[i,:], paramK :  4})\n",
    "    real_label = np.argmax(data_test_y[i])\n",
    "\n",
    "    #nn_index의 라벨값과 실제 라벨값을 비교한다.\n",
    "    print(\"Iteration : \", i,\"Real label : \", real_label,\"Predict label : \", pre_label)\n",
    "\n",
    "    confusion_matrix[real_label][pre_label] +=1\n",
    "\n",
    "    # 예측도 파악\n",
    "    # KNN은 비교 데이터에서 가장 가까운 것을 찾는 것이므로 매번 확률을 갱신해야한다(가중치를 찾는게 아니다)\n",
    "    # 가장 가까운 것이 무엇이 될지 모름\n",
    "    if pre_label == real_label :\n",
    "        accuracy += 1./len(data_test_x)\n",
    "   \n",
    "\n",
    "\n",
    "\n"
   ]
  },
  {
   "cell_type": "code",
   "execution_count": 51,
   "metadata": {},
   "outputs": [
    {
     "name": "stdout",
     "output_type": "stream",
     "text": [
      "Accuracy :  92.69  %\n",
      "The resulting confusion matrix\n",
      "a [16, 0, 0, 0, 0, 0, 0, 0, 0, 0, 0, 0, 0, 0, 0, 0, 0, 0, 0, 0, 4, 0, 0, 0, 0, 0] acc =  0.8\n",
      "b [1, 13, 0, 4, 0, 0, 0, 1, 0, 1, 0, 0, 0, 0, 0, 0, 0, 0, 0, 0, 0, 0, 0, 0, 0, 0] acc =  0.65\n",
      "c [0, 0, 20, 0, 0, 0, 0, 0, 0, 0, 0, 0, 0, 0, 0, 0, 0, 0, 0, 0, 0, 0, 0, 0, 0, 0] acc =  1.0\n",
      "d [0, 0, 0, 20, 0, 0, 0, 0, 0, 0, 0, 0, 0, 0, 0, 0, 0, 0, 0, 0, 0, 0, 0, 0, 0, 0] acc =  1.0\n",
      "e [0, 0, 4, 0, 16, 0, 0, 0, 0, 0, 0, 0, 0, 0, 0, 0, 0, 0, 0, 0, 0, 0, 0, 0, 0, 0] acc =  0.8\n",
      "f [0, 0, 0, 0, 0, 18, 0, 0, 2, 0, 0, 0, 0, 0, 0, 0, 0, 0, 0, 0, 0, 0, 0, 0, 0, 0] acc =  0.9\n",
      "g [0, 0, 0, 0, 0, 0, 19, 0, 0, 1, 0, 0, 0, 0, 0, 0, 0, 0, 0, 0, 0, 0, 0, 0, 0, 0] acc =  0.95\n",
      "h [0, 0, 0, 0, 0, 0, 0, 19, 0, 0, 1, 0, 0, 0, 0, 0, 0, 0, 0, 0, 0, 0, 0, 0, 0, 0] acc =  0.95\n",
      "i [0, 0, 0, 0, 0, 0, 0, 0, 17, 0, 0, 3, 0, 0, 0, 0, 0, 0, 0, 0, 0, 0, 0, 0, 0, 0] acc =  0.85\n",
      "j [0, 0, 0, 0, 0, 0, 0, 1, 0, 18, 0, 1, 0, 0, 0, 0, 0, 0, 0, 0, 0, 0, 0, 0, 0, 0] acc =  0.9\n",
      "k [0, 0, 0, 0, 0, 0, 0, 0, 0, 0, 20, 0, 0, 0, 0, 0, 0, 0, 0, 0, 0, 0, 0, 0, 0, 0] acc =  1.0\n",
      "l [0, 0, 0, 0, 0, 0, 0, 0, 0, 0, 0, 16, 0, 0, 0, 0, 0, 0, 0, 0, 0, 4, 0, 0, 0, 0] acc =  0.8\n",
      "m [0, 0, 0, 0, 0, 0, 0, 0, 0, 0, 0, 0, 20, 0, 0, 0, 0, 0, 0, 0, 0, 0, 0, 0, 0, 0] acc =  1.0\n",
      "n [0, 0, 0, 0, 0, 0, 0, 0, 0, 0, 0, 0, 0, 20, 0, 0, 0, 0, 0, 0, 0, 0, 0, 0, 0, 0] acc =  1.0\n",
      "o [0, 0, 0, 0, 0, 0, 0, 0, 0, 0, 0, 0, 0, 0, 20, 0, 0, 0, 0, 0, 0, 0, 0, 0, 0, 0] acc =  1.0\n",
      "p [0, 0, 0, 0, 0, 0, 0, 0, 0, 0, 0, 0, 0, 0, 0, 20, 0, 0, 0, 0, 0, 0, 0, 0, 0, 0] acc =  1.0\n",
      "q [0, 0, 0, 0, 0, 0, 0, 0, 0, 0, 0, 0, 0, 0, 0, 0, 20, 0, 0, 0, 0, 0, 0, 0, 0, 0] acc =  1.0\n",
      "r [0, 0, 0, 0, 0, 0, 0, 0, 0, 0, 0, 0, 0, 0, 0, 0, 0, 20, 0, 0, 0, 0, 0, 0, 0, 0] acc =  1.0\n",
      "s [0, 0, 0, 0, 0, 0, 0, 0, 0, 0, 0, 0, 0, 0, 1, 0, 0, 0, 19, 0, 0, 0, 0, 0, 0, 0] acc =  0.95\n",
      "t [0, 0, 0, 0, 0, 0, 0, 0, 1, 0, 0, 1, 0, 0, 0, 0, 0, 1, 0, 16, 0, 1, 0, 0, 0, 0] acc =  0.8\n",
      "u [3, 0, 0, 0, 0, 0, 0, 0, 0, 0, 0, 0, 0, 0, 0, 0, 0, 0, 1, 0, 16, 0, 0, 0, 0, 0] acc =  0.8\n",
      "v [0, 0, 0, 0, 0, 0, 0, 0, 0, 0, 0, 0, 0, 0, 0, 0, 0, 0, 0, 0, 0, 20, 0, 0, 0, 0] acc =  1.0\n",
      "w [0, 0, 0, 0, 0, 0, 0, 0, 0, 0, 0, 0, 0, 0, 0, 0, 0, 0, 0, 0, 0, 0, 20, 0, 0, 0] acc =  1.0\n",
      "x [0, 0, 0, 0, 0, 0, 0, 0, 0, 0, 0, 0, 0, 0, 0, 0, 0, 0, 0, 0, 0, 0, 0, 20, 0, 0] acc =  1.0\n",
      "y [0, 0, 0, 0, 0, 0, 0, 0, 0, 0, 0, 0, 0, 0, 0, 0, 0, 0, 0, 0, 0, 0, 0, 0, 20, 0] acc =  1.0\n",
      "z [0, 0, 0, 0, 0, 0, 1, 0, 0, 0, 0, 0, 0, 0, 0, 0, 0, 0, 0, 0, 0, 0, 0, 0, 0, 19] acc =  0.95\n"
     ]
    }
   ],
   "source": [
    "\n",
    "print(\"Accuracy : \", round(accuracy*100, 2),\" %\")\n",
    "print(\"The resulting confusion matrix\")\n",
    "# confusion matrix 생성\n",
    "for i in range(26):\n",
    "    print(chr(ord('a')+i),confusion_matrix[i],\"acc = \",confusion_matrix[i][i]/np.sum(confusion_matrix[i]))"
   ]
  },
  {
   "cell_type": "code",
   "execution_count": 63,
   "metadata": {},
   "outputs": [
    {
     "data": {
      "text/plain": [
       "25"
      ]
     },
     "execution_count": 63,
     "metadata": {},
     "output_type": "execute_result"
    }
   ],
   "source": [
    "pre_label"
   ]
  },
  {
   "cell_type": "code",
   "execution_count": null,
   "metadata": {},
   "outputs": [],
   "source": []
  },
  {
   "cell_type": "markdown",
   "metadata": {},
   "source": [
    "## Convert session to tflite "
   ]
  },
  {
   "cell_type": "code",
   "execution_count": null,
   "metadata": {},
   "outputs": [],
   "source": [
    "converter = tf.lite.TFLiteConverter.from_session(sess, input_tensors=model.inputs, output_tensors=model.outputs)"
   ]
  },
  {
   "cell_type": "code",
   "execution_count": null,
   "metadata": {},
   "outputs": [],
   "source": [
    "converter = tf.compat.v1.lite.TFLiteConverter.from_session(sess, input_tensors=model.inputs, output_tensors=model.outputs)"
   ]
  },
  {
   "cell_type": "code",
   "execution_count": 61,
   "metadata": {},
   "outputs": [],
   "source": [
    "input_ts=list({x_data_train: data_train_x, y_data_train: data_train_y, x_data_test: data_test_x[i,:], paramK :  4}.values())"
   ]
  },
  {
   "cell_type": "code",
   "execution_count": 69,
   "metadata": {},
   "outputs": [],
   "source": [
    "input_ts2=list([x_data_train,y_data_train,x_data_test,paramK])"
   ]
  },
  {
   "cell_type": "code",
   "execution_count": 73,
   "metadata": {},
   "outputs": [
    {
     "data": {
      "text/plain": [
       "4"
      ]
     },
     "execution_count": 73,
     "metadata": {},
     "output_type": "execute_result"
    }
   ],
   "source": [
    "len(input_ts2)"
   ]
  },
  {
   "cell_type": "code",
   "execution_count": 71,
   "metadata": {},
   "outputs": [
    {
     "data": {
      "text/plain": [
       "<tf.Tensor 'Placeholder_8:0' shape=(?, 29952) dtype=float64>"
      ]
     },
     "execution_count": 71,
     "metadata": {},
     "output_type": "execute_result"
    }
   ],
   "source": [
    "input_ts2[0]"
   ]
  },
  {
   "cell_type": "code",
   "execution_count": 72,
   "metadata": {},
   "outputs": [
    {
     "data": {
      "text/plain": [
       "<tf.Tensor 'Placeholder_9:0' shape=(?, 26) dtype=int64>"
      ]
     },
     "execution_count": 72,
     "metadata": {},
     "output_type": "execute_result"
    }
   ],
   "source": [
    "input_ts2[1]"
   ]
  },
  {
   "cell_type": "markdown",
   "metadata": {},
   "source": [
    "# 개선점"
   ]
  },
  {
   "cell_type": "markdown",
   "metadata": {},
   "source": [
    "input tensor 모양을 [<tf.Tensor 'input_1:0' shape=(?, 29952) dtype=float32>] 이런식으로 만들어줘야함.."
   ]
  },
  {
   "cell_type": "markdown",
   "metadata": {},
   "source": [
    "-> tensorflow code 수정?"
   ]
  },
  {
   "cell_type": "markdown",
   "metadata": {},
   "source": [
    "# Version2"
   ]
  },
  {
   "cell_type": "markdown",
   "metadata": {},
   "source": [
    "기존 구조는 매번 천단위 train 데이터와 1개의 test데이터 사이의 거리를 구해서 상위4개의 라벨을 바탕으로 예측하는 것"
   ]
  },
  {
   "cell_type": "markdown",
   "metadata": {},
   "source": [
    "각 label별로 평균 중심점을 구해서 26개의 데이터로 축소 -> 테스트 데이터가 들어오면 26개의 데이터와의 거리를 바탕으로 예측"
   ]
  },
  {
   "cell_type": "markdown",
   "metadata": {},
   "source": [
    "기존 코드보다 정확도가 얼마나 떨어질지가 의문.."
   ]
  },
  {
   "cell_type": "markdown",
   "metadata": {},
   "source": [
    "## Data separation"
   ]
  },
  {
   "cell_type": "markdown",
   "metadata": {},
   "source": [
    "### User1"
   ]
  },
  {
   "cell_type": "code",
   "execution_count": 6,
   "metadata": {},
   "outputs": [],
   "source": [
    "labels1=[]\n",
    "for i in range(26):\n",
    "    temp=[]\n",
    "    for idx,j in enumerate(data_y_1):\n",
    "        if(j==i):\n",
    "            temp.append(data_x_1[idx].tolist())\n",
    "    labels1.append(temp[:])"
   ]
  },
  {
   "cell_type": "code",
   "execution_count": 7,
   "metadata": {},
   "outputs": [
    {
     "data": {
      "text/plain": [
       "26"
      ]
     },
     "execution_count": 7,
     "metadata": {},
     "output_type": "execute_result"
    }
   ],
   "source": [
    "len(labels1)"
   ]
  },
  {
   "cell_type": "code",
   "execution_count": 9,
   "metadata": {
    "collapsed": true
   },
   "outputs": [
    {
     "name": "stdout",
     "output_type": "stream",
     "text": [
      "0 : 79\n",
      "1 : 80\n",
      "2 : 80\n",
      "3 : 80\n",
      "4 : 80\n",
      "5 : 80\n",
      "6 : 69\n",
      "7 : 80\n",
      "8 : 80\n",
      "9 : 78\n",
      "10 : 79\n",
      "11 : 80\n",
      "12 : 79\n",
      "13 : 80\n",
      "14 : 80\n",
      "15 : 80\n",
      "16 : 80\n",
      "17 : 80\n",
      "18 : 80\n",
      "19 : 80\n",
      "20 : 80\n",
      "21 : 80\n",
      "22 : 80\n",
      "23 : 80\n",
      "24 : 80\n",
      "25 : 80\n"
     ]
    }
   ],
   "source": [
    "for i in range(26):\n",
    "    print(i,\":\",len(labels1[i]))"
   ]
  },
  {
   "cell_type": "code",
   "execution_count": 17,
   "metadata": {},
   "outputs": [],
   "source": [
    "centroid1=[]\n",
    "for i in range(26):\n",
    "    centroid1.append(np.mean(labels1[i],axis=0))"
   ]
  },
  {
   "cell_type": "code",
   "execution_count": 21,
   "metadata": {
    "collapsed": true
   },
   "outputs": [
    {
     "data": {
      "text/plain": [
       "[array([-42.86217584, -42.47692695, -42.61891138, ..., -70.87655125,\n",
       "        -70.95061299, -71.04935618]),\n",
       " array([-45.61665409, -45.61422906, -45.46531947, ..., -71.43911869,\n",
       "        -71.40485322, -71.46578341]),\n",
       " array([-42.90768357, -43.75992257, -43.6384705 , ..., -70.59286605,\n",
       "        -70.73431345, -70.59190534]),\n",
       " array([-42.48514159, -42.59611954, -41.52035784, ..., -72.83279681,\n",
       "        -72.10221544, -71.73175501]),\n",
       " array([-42.35030881, -42.15176853, -43.3280671 , ..., -64.92977454,\n",
       "        -65.02153623, -65.19979825]),\n",
       " array([-42.95519379, -42.79909938, -42.72239799, ..., -70.85547288,\n",
       "        -71.08081786, -71.18113984]),\n",
       " array([-42.58818238, -41.63993499, -41.84129794, ..., -69.57501906,\n",
       "        -69.55581959, -69.56153999]),\n",
       " array([-43.682846  , -42.01528447, -41.80389671, ..., -69.38629054,\n",
       "        -69.64974727, -70.10450204]),\n",
       " array([-47.19297424, -47.31687435, -46.85571981, ..., -66.78839686,\n",
       "        -66.98810664, -67.20300125]),\n",
       " array([-47.18163347, -46.86457462, -47.35460472, ..., -68.01835735,\n",
       "        -68.68400587, -68.49618192]),\n",
       " array([-40.96987934, -41.73740095, -40.81799546, ..., -70.60554865,\n",
       "        -70.78837238, -70.84890529]),\n",
       " array([-46.51503216, -45.61380658, -45.64124953, ..., -68.59317135,\n",
       "        -68.9303072 , -69.27384026]),\n",
       " array([-45.23789282, -44.8237753 , -45.43090254, ..., -70.09258591,\n",
       "        -70.19840699, -70.23596261]),\n",
       " array([-49.31993747, -49.1419374 , -47.6005739 , ..., -69.85351271,\n",
       "        -69.92948764, -70.14782914]),\n",
       " array([-43.49512621, -44.0330218 , -43.05761021, ..., -69.54696769,\n",
       "        -69.5371447 , -69.62229026]),\n",
       " array([-46.54319045, -44.97161829, -45.45727116, ..., -71.97618244,\n",
       "        -72.00102577, -72.17864514]),\n",
       " array([-42.08940103, -41.22764276, -41.52593919, ..., -71.76089326,\n",
       "        -71.8179449 , -71.59474614]),\n",
       " array([-53.83234271, -55.1052492 , -53.73170402, ..., -71.96519381,\n",
       "        -72.09555586, -72.28052571]),\n",
       " array([-44.83188336, -45.10098299, -43.69127379, ..., -72.41874139,\n",
       "        -72.5933383 , -72.73675019]),\n",
       " array([-46.21264799, -43.4891372 , -44.37972863, ..., -71.1506846 ,\n",
       "        -71.06765502, -70.93985603]),\n",
       " array([-48.27307449, -48.89095762, -47.07783089, ..., -71.0738849 ,\n",
       "        -70.87571596, -71.13348752]),\n",
       " array([-47.86251986, -48.56972413, -48.72411615, ..., -69.9360699 ,\n",
       "        -69.86232059, -69.89997825]),\n",
       " array([-47.4982023 , -47.72605337, -47.90841566, ..., -71.81140416,\n",
       "        -71.60492685, -71.396916  ]),\n",
       " array([-49.09427927, -50.05405426, -49.48689641, ..., -72.48918767,\n",
       "        -72.39055837, -72.37368516]),\n",
       " array([-45.58372898, -44.45508497, -45.00595036, ..., -71.34507097,\n",
       "        -70.9614118 , -70.68170884]),\n",
       " array([-44.6235973 , -43.89124295, -44.40143623, ..., -71.13379751,\n",
       "        -71.45335011, -71.5046091 ])]"
      ]
     },
     "execution_count": 21,
     "metadata": {},
     "output_type": "execute_result"
    }
   ],
   "source": [
    "centroid1"
   ]
  },
  {
   "cell_type": "code",
   "execution_count": 22,
   "metadata": {},
   "outputs": [],
   "source": [
    "centroid_y1=[i for i in range(26)]"
   ]
  },
  {
   "cell_type": "markdown",
   "metadata": {},
   "source": [
    "### User2"
   ]
  },
  {
   "cell_type": "code",
   "execution_count": 39,
   "metadata": {},
   "outputs": [],
   "source": [
    "labels2=[]\n",
    "for i in range(26):\n",
    "    temp=[]\n",
    "    for idx,j in enumerate(data_y_2):\n",
    "        if(j==i):\n",
    "            temp.append(data_x_2[idx].tolist())\n",
    "    labels2.append(temp[:])"
   ]
  },
  {
   "cell_type": "code",
   "execution_count": 40,
   "metadata": {},
   "outputs": [
    {
     "data": {
      "text/plain": [
       "26"
      ]
     },
     "execution_count": 40,
     "metadata": {},
     "output_type": "execute_result"
    }
   ],
   "source": [
    "len(labels2)"
   ]
  },
  {
   "cell_type": "code",
   "execution_count": 41,
   "metadata": {
    "collapsed": true
   },
   "outputs": [
    {
     "name": "stdout",
     "output_type": "stream",
     "text": [
      "0 : 80\n",
      "1 : 80\n",
      "2 : 80\n",
      "3 : 80\n",
      "4 : 79\n",
      "5 : 78\n",
      "6 : 76\n",
      "7 : 79\n",
      "8 : 72\n",
      "9 : 60\n",
      "10 : 80\n",
      "11 : 80\n",
      "12 : 80\n",
      "13 : 80\n",
      "14 : 80\n",
      "15 : 79\n",
      "16 : 80\n",
      "17 : 79\n",
      "18 : 57\n",
      "19 : 79\n",
      "20 : 79\n",
      "21 : 80\n",
      "22 : 80\n",
      "23 : 79\n",
      "24 : 75\n",
      "25 : 80\n"
     ]
    }
   ],
   "source": [
    "for i in range(26):\n",
    "    print(i,\":\",len(labels2[i]))"
   ]
  },
  {
   "cell_type": "code",
   "execution_count": 42,
   "metadata": {},
   "outputs": [],
   "source": [
    "centroid2=[]\n",
    "for i in range(26):\n",
    "    centroid2.append(np.mean(labels2[i],axis=0))"
   ]
  },
  {
   "cell_type": "code",
   "execution_count": 43,
   "metadata": {
    "collapsed": true
   },
   "outputs": [
    {
     "data": {
      "text/plain": [
       "[array([-43.8920859 , -44.38233355, -43.78554054, ..., -66.9154869 ,\n",
       "        -67.34931844, -68.03141804]),\n",
       " array([-45.20289851, -45.11429259, -44.95387199, ..., -71.67065816,\n",
       "        -71.74056665, -71.54488387]),\n",
       " array([-44.24947489, -45.46022049, -43.4073073 , ..., -67.98905174,\n",
       "        -68.06861525, -68.16018666]),\n",
       " array([-44.4866901 , -43.12031532, -41.53627372, ..., -68.09965367,\n",
       "        -68.2997576 , -68.46058899]),\n",
       " array([-44.90071976, -44.89127257, -43.21013443, ..., -68.04947366,\n",
       "        -68.0525802 , -68.14051711]),\n",
       " array([-45.03155655, -44.64295776, -46.31460282, ..., -65.2887285 ,\n",
       "        -65.17205415, -65.24858058]),\n",
       " array([-43.05971662, -43.16851932, -43.78797351, ..., -67.61119933,\n",
       "        -67.734529  , -67.83946762]),\n",
       " array([-47.68778728, -47.19526923, -46.45311856, ..., -69.95841838,\n",
       "        -69.83248947, -69.79957466]),\n",
       " array([-46.52651794, -46.56816367, -47.47974038, ..., -69.12664144,\n",
       "        -69.05840939, -69.04967775]),\n",
       " array([-47.1620001 , -46.96193813, -46.6486373 , ..., -67.87216198,\n",
       "        -67.68181453, -67.60762647]),\n",
       " array([-46.54444702, -46.45787562, -46.54181639, ..., -73.2849094 ,\n",
       "        -72.97418047, -72.8975191 ]),\n",
       " array([-43.67702604, -43.52289951, -44.88272604, ..., -69.90772015,\n",
       "        -69.70158464, -69.60457191]),\n",
       " array([-45.91735284, -47.68666874, -47.19258206, ..., -71.19968706,\n",
       "        -71.26705933, -71.43089612]),\n",
       " array([-46.17325565, -45.95400716, -46.03170737, ..., -71.42152921,\n",
       "        -71.41359934, -71.36183936]),\n",
       " array([-46.46492519, -45.29049369, -44.71549869, ..., -71.26937975,\n",
       "        -71.16966789, -71.15583626]),\n",
       " array([-44.5200088 , -45.36719429, -45.300855  , ..., -71.23529851,\n",
       "        -70.99652199, -70.88324505]),\n",
       " array([-43.66103105, -42.61083261, -44.02604036, ..., -69.42315856,\n",
       "        -69.50358291, -69.66579864]),\n",
       " array([-45.48946161, -44.15834586, -43.76693104, ..., -71.50646544,\n",
       "        -71.15024715, -71.02715758]),\n",
       " array([-46.52376742, -45.41306595, -46.13615512, ..., -69.08271819,\n",
       "        -69.16452437, -69.38252081]),\n",
       " array([-50.37191753, -50.59344887, -50.41007751, ..., -69.86375065,\n",
       "        -70.13555724, -70.33886743]),\n",
       " array([-46.12334654, -45.49362529, -44.36960756, ..., -71.57142324,\n",
       "        -71.78479832, -71.69041735]),\n",
       " array([-45.75995798, -46.54589415, -45.60017708, ..., -71.79053665,\n",
       "        -71.5294349 , -71.41486091]),\n",
       " array([-46.56815544, -45.09667132, -44.82301504, ..., -72.09242955,\n",
       "        -72.07460539, -71.93916349]),\n",
       " array([-48.16139042, -46.944664  , -46.93530267, ..., -72.69642219,\n",
       "        -72.95239885, -73.05061751]),\n",
       " array([-46.07990919, -45.85794292, -45.30758631, ..., -71.62999067,\n",
       "        -71.66702035, -71.7958286 ]),\n",
       " array([-49.65389005, -50.07154954, -50.32603131, ..., -71.03954851,\n",
       "        -71.07429022, -71.15032539])]"
      ]
     },
     "execution_count": 43,
     "metadata": {},
     "output_type": "execute_result"
    }
   ],
   "source": [
    "centroid2"
   ]
  },
  {
   "cell_type": "code",
   "execution_count": 44,
   "metadata": {},
   "outputs": [],
   "source": [
    "centroid_y2=[i for i in range(26)]"
   ]
  },
  {
   "cell_type": "markdown",
   "metadata": {},
   "source": [
    "### All"
   ]
  },
  {
   "cell_type": "code",
   "execution_count": 48,
   "metadata": {},
   "outputs": [],
   "source": [
    "labels=[]\n",
    "for i in range(26):\n",
    "    temp=[]\n",
    "    for idx,j in enumerate(data_y):\n",
    "        if(j==i):\n",
    "            temp.append(data_x[idx].tolist())\n",
    "    labels.append(temp[:])"
   ]
  },
  {
   "cell_type": "code",
   "execution_count": 49,
   "metadata": {},
   "outputs": [
    {
     "data": {
      "text/plain": [
       "26"
      ]
     },
     "execution_count": 49,
     "metadata": {},
     "output_type": "execute_result"
    }
   ],
   "source": [
    "len(labels)"
   ]
  },
  {
   "cell_type": "code",
   "execution_count": 50,
   "metadata": {
    "collapsed": true
   },
   "outputs": [
    {
     "name": "stdout",
     "output_type": "stream",
     "text": [
      "0 : 159\n",
      "1 : 160\n",
      "2 : 160\n",
      "3 : 160\n",
      "4 : 159\n",
      "5 : 158\n",
      "6 : 145\n",
      "7 : 159\n",
      "8 : 152\n",
      "9 : 138\n",
      "10 : 159\n",
      "11 : 160\n",
      "12 : 159\n",
      "13 : 160\n",
      "14 : 160\n",
      "15 : 159\n",
      "16 : 160\n",
      "17 : 159\n",
      "18 : 137\n",
      "19 : 159\n",
      "20 : 159\n",
      "21 : 160\n",
      "22 : 160\n",
      "23 : 159\n",
      "24 : 155\n",
      "25 : 160\n"
     ]
    }
   ],
   "source": [
    "for i in range(26):\n",
    "    print(i,\":\",len(labels[i]))"
   ]
  },
  {
   "cell_type": "code",
   "execution_count": 51,
   "metadata": {},
   "outputs": [],
   "source": [
    "centroid=[]\n",
    "for i in range(26):\n",
    "    centroid.append(np.mean(labels[i],axis=0))"
   ]
  },
  {
   "cell_type": "code",
   "execution_count": 52,
   "metadata": {
    "collapsed": true
   },
   "outputs": [
    {
     "data": {
      "text/plain": [
       "[array([-43.38036958, -43.43562209, -43.2058946 , ..., -68.8835629 ,\n",
       "        -69.13864089, -69.53089674]),\n",
       " array([-45.4097763 , -45.36426082, -45.20959573, ..., -71.55488842,\n",
       "        -71.57270994, -71.50533364]),\n",
       " array([-43.57857923, -44.61007153, -43.5228889 , ..., -69.29095889,\n",
       "        -69.40146435, -69.376046  ]),\n",
       " array([-43.48591584, -42.85821743, -41.52831578, ..., -70.46622524,\n",
       "        -70.20098652, -70.096172  ]),\n",
       " array([-43.61749413, -43.51290575, -43.26947162, ..., -66.47981372,\n",
       "        -66.52752663, -66.66091014]),\n",
       " array([-43.98023363, -43.70935858, -44.49576493, ..., -68.10733325,\n",
       "        -68.16383325, -68.25240805]),\n",
       " array([-42.83533136, -42.44112401, -42.86162445, ..., -68.54570665,\n",
       "        -68.60121211, -68.65893654]),\n",
       " array([-45.67272248, -44.58898759, -44.11388744, ..., -69.67055531,\n",
       "        -69.74054371, -69.95299724]),\n",
       " array([-46.87728441, -46.96222192, -47.1513085 , ..., -67.8959864 ,\n",
       "        -67.96877636, -68.07774275]),\n",
       " array([-47.17309722, -46.90690658, -47.04766236, ..., -67.95479414,\n",
       "        -68.24827051, -68.10985346]),\n",
       " array([-43.77469327, -44.11248255, -43.69790536, ..., -71.95365469,\n",
       "        -71.88815004, -71.87965438]),\n",
       " array([-45.0960291 , -44.56835304, -45.26198778, ..., -69.25044575,\n",
       "        -69.31594592, -69.43920609]),\n",
       " array([-45.5797595 , -46.26422483, -46.31728218, ..., -70.64961794,\n",
       "        -70.7360937 , -70.83718702]),\n",
       " array([-47.74659656, -47.54797228, -46.81614064, ..., -70.63752096,\n",
       "        -70.67154349, -70.75483425]),\n",
       " array([-44.9800257 , -44.66175774, -43.88655445, ..., -70.40817372,\n",
       "        -70.35340629, -70.38906326]),\n",
       " array([-45.53796183, -45.16816234, -45.37955496, ..., -71.6080703 ,\n",
       "        -71.5019327 , -71.53501868]),\n",
       " array([-42.87521604, -41.91923769, -42.77598977, ..., -70.59202591,\n",
       "        -70.66076391, -70.63027239]),\n",
       " array([-49.68713764, -49.66622175, -48.7806533 , ..., -71.73727217,\n",
       "        -71.62587418, -71.65778306]),\n",
       " array([-45.53580593, -45.23082772, -44.70848719, ..., -71.03076093,\n",
       "        -71.16675148, -71.3411949 ]),\n",
       " array([-48.2792033 , -47.01895243, -47.3759397 , ..., -70.51126458,\n",
       "        -70.60453726, -70.64125163]),\n",
       " array([-47.20497067, -47.20297489, -45.73223565, ..., -71.32108948,\n",
       "        -71.32739839, -71.41020109]),\n",
       " array([-46.81123892, -47.55780914, -47.16214661, ..., -70.86330328,\n",
       "        -70.69587774, -70.65741958]),\n",
       " array([-47.03317887, -46.41136235, -46.36571535, ..., -71.95191686,\n",
       "        -71.83976612, -71.66803974]),\n",
       " array([-48.63076846, -48.50913709, -48.21912342, ..., -72.59215325,\n",
       "        -72.66971182, -72.71002262]),\n",
       " array([-45.82381617, -45.13388721, -45.15190324, ..., -71.48293534,\n",
       "        -71.30283529, -71.22079905]),\n",
       " array([-47.13874368, -46.98139624, -47.36373377, ..., -71.08667301,\n",
       "        -71.26382017, -71.32746724])]"
      ]
     },
     "execution_count": 52,
     "metadata": {},
     "output_type": "execute_result"
    }
   ],
   "source": [
    "centroid"
   ]
  },
  {
   "cell_type": "code",
   "execution_count": 53,
   "metadata": {},
   "outputs": [],
   "source": [
    "centroid_y=[i for i in range(26)]"
   ]
  },
  {
   "cell_type": "markdown",
   "metadata": {},
   "source": [
    "## Select data"
   ]
  },
  {
   "cell_type": "markdown",
   "metadata": {},
   "source": [
    "### User1"
   ]
  },
  {
   "cell_type": "code",
   "execution_count": 26,
   "metadata": {},
   "outputs": [],
   "source": [
    "data_train_x=centroid1\n",
    "data_train_y=to_categorical(centroid_y1,num_classes=26)\n",
    "data_test_x=test_x_1\n",
    "data_test_y=to_categorical(test_y_1,num_classes=26)"
   ]
  },
  {
   "cell_type": "markdown",
   "metadata": {},
   "source": [
    "### User2"
   ]
  },
  {
   "cell_type": "code",
   "execution_count": 45,
   "metadata": {},
   "outputs": [],
   "source": [
    "data_train_x=centroid2\n",
    "data_train_y=to_categorical(centroid_y2,num_classes=26)\n",
    "data_test_x=test_x_2\n",
    "data_test_y=to_categorical(test_y_2,num_classes=26)"
   ]
  },
  {
   "cell_type": "markdown",
   "metadata": {},
   "source": [
    "### All"
   ]
  },
  {
   "cell_type": "code",
   "execution_count": 54,
   "metadata": {},
   "outputs": [],
   "source": [
    "data_train_x=centroid\n",
    "data_train_y=to_categorical(centroid_y,num_classes=26)\n",
    "data_test_x=test_x\n",
    "data_test_y=to_categorical(test_y,num_classes=26)"
   ]
  },
  {
   "cell_type": "markdown",
   "metadata": {},
   "source": [
    "### User1's small data"
   ]
  },
  {
   "cell_type": "code",
   "execution_count": 63,
   "metadata": {},
   "outputs": [],
   "source": [
    "data_train_x=data_x_1[:260]\n",
    "data_train_y=to_categorical(data_y_1[:260],num_classes=26)\n",
    "data_test_x=test_x_1\n",
    "data_test_y=to_categorical(test_y_1,num_classes=26)"
   ]
  },
  {
   "cell_type": "markdown",
   "metadata": {},
   "source": [
    "## Setting"
   ]
  },
  {
   "cell_type": "code",
   "execution_count": 27,
   "metadata": {
    "scrolled": true
   },
   "outputs": [
    {
     "name": "stdout",
     "output_type": "stream",
     "text": [
      "WARNING:tensorflow:From C:\\Users\\gosan\\Anaconda3\\lib\\site-packages\\tensorflow\\python\\compat\\v2_compat.py:111: disable_resource_variables (from tensorflow.python.ops.variable_scope) is deprecated and will be removed in a future version.\n",
      "Instructions for updating:\n",
      "non-resource variables are not supported in the long term\n"
     ]
    }
   ],
   "source": [
    "import tensorflow.compat.v1 as tf \n",
    "tf.disable_v2_behavior()"
   ]
  },
  {
   "cell_type": "markdown",
   "metadata": {},
   "source": [
    "## Train & Predict"
   ]
  },
  {
   "cell_type": "code",
   "execution_count": 28,
   "metadata": {},
   "outputs": [],
   "source": [
    "# region k-NN algorithm \n",
    "\n",
    "# x_data_train : training data 1248*24=29952\n",
    "# y_data_train : training data one hot encoding label\n",
    "# x_data_test : test data 1248*24=29952\n",
    "x_data_train = tf.placeholder(tf.float64, [None, 29952])\n",
    "y_data_train = tf.placeholder(tf.int64,[None, 26])\n",
    "x_data_test = tf.placeholder(tf.float64, [29952])\n",
    "paramK = tf.placeholder(tf.int32)\n",
    "\n",
    "# distance : K-Nearest Neighbor - 오차 거리를 구한다(유클리드 거리)\n",
    "distance = tf.reduce_sum(tf.abs(tf.add(x_data_train, tf.negative(x_data_test))), reduction_indices=1)\n",
    "\n",
    "# nearest k points\n",
    "_, top_k_indices = tf.nn.top_k(tf.negative(distance), k=paramK) #가장 가까운 K개의 인덱스를 가져온다. \n",
    "top_k_label = tf.gather(y_data_train, top_k_indices)  #Index에 해당하는 숫자 라벨를 가져온다.\n",
    "\n",
    "sum_up_predictions = tf.reduce_sum(top_k_label, axis=0) #공통되는 숫자 라벨의 개수를 더한다. \n",
    "prediction = tf.argmax(sum_up_predictions) #가장 가까운 숫자값을 구한다.\n",
    "\n",
    "# endregion\n"
   ]
  },
  {
   "cell_type": "code",
   "execution_count": 68,
   "metadata": {},
   "outputs": [
    {
     "name": "stdout",
     "output_type": "stream",
     "text": [
      "Iteration :  0 Real label :  0 Predict label :  14\n",
      "Iteration :  1 Real label :  1 Predict label :  3\n",
      "Iteration :  2 Real label :  2 Predict label :  2\n",
      "Iteration :  3 Real label :  3 Predict label :  3\n",
      "Iteration :  4 Real label :  4 Predict label :  4\n",
      "Iteration :  5 Real label :  5 Predict label :  8\n",
      "Iteration :  6 Real label :  6 Predict label :  6\n",
      "Iteration :  7 Real label :  7 Predict label :  11\n",
      "Iteration :  8 Real label :  8 Predict label :  11\n",
      "Iteration :  9 Real label :  9 Predict label :  7\n",
      "Iteration :  10 Real label :  10 Predict label :  15\n",
      "Iteration :  11 Real label :  11 Predict label :  21\n",
      "Iteration :  12 Real label :  12 Predict label :  16\n",
      "Iteration :  13 Real label :  13 Predict label :  13\n",
      "Iteration :  14 Real label :  14 Predict label :  14\n",
      "Iteration :  15 Real label :  15 Predict label :  15\n",
      "Iteration :  16 Real label :  16 Predict label :  16\n",
      "Iteration :  17 Real label :  17 Predict label :  17\n",
      "Iteration :  18 Real label :  18 Predict label :  17\n",
      "Iteration :  19 Real label :  19 Predict label :  19\n",
      "Iteration :  20 Real label :  20 Predict label :  20\n",
      "Iteration :  21 Real label :  21 Predict label :  21\n",
      "Iteration :  22 Real label :  22 Predict label :  22\n",
      "Iteration :  23 Real label :  23 Predict label :  23\n",
      "Iteration :  24 Real label :  24 Predict label :  24\n",
      "Iteration :  25 Real label :  25 Predict label :  25\n",
      "Iteration :  26 Real label :  0 Predict label :  3\n",
      "Iteration :  27 Real label :  1 Predict label :  20\n",
      "Iteration :  28 Real label :  2 Predict label :  2\n",
      "Iteration :  29 Real label :  3 Predict label :  21\n",
      "Iteration :  30 Real label :  4 Predict label :  2\n",
      "Iteration :  31 Real label :  5 Predict label :  5\n",
      "Iteration :  32 Real label :  6 Predict label :  6\n",
      "Iteration :  33 Real label :  7 Predict label :  7\n",
      "Iteration :  34 Real label :  8 Predict label :  11\n",
      "Iteration :  35 Real label :  9 Predict label :  1\n",
      "Iteration :  36 Real label :  10 Predict label :  10\n",
      "Iteration :  37 Real label :  11 Predict label :  21\n",
      "Iteration :  38 Real label :  12 Predict label :  16\n",
      "Iteration :  39 Real label :  13 Predict label :  13\n",
      "Iteration :  40 Real label :  14 Predict label :  14\n",
      "Iteration :  41 Real label :  15 Predict label :  15\n",
      "Iteration :  42 Real label :  16 Predict label :  16\n",
      "Iteration :  43 Real label :  17 Predict label :  17\n",
      "Iteration :  44 Real label :  18 Predict label :  14\n",
      "Iteration :  45 Real label :  19 Predict label :  19\n",
      "Iteration :  46 Real label :  20 Predict label :  3\n",
      "Iteration :  47 Real label :  21 Predict label :  21\n",
      "Iteration :  48 Real label :  22 Predict label :  22\n",
      "Iteration :  49 Real label :  23 Predict label :  23\n",
      "Iteration :  50 Real label :  24 Predict label :  24\n",
      "Iteration :  51 Real label :  25 Predict label :  25\n",
      "Iteration :  52 Real label :  0 Predict label :  3\n",
      "Iteration :  53 Real label :  1 Predict label :  1\n",
      "Iteration :  54 Real label :  2 Predict label :  2\n",
      "Iteration :  55 Real label :  3 Predict label :  21\n",
      "Iteration :  56 Real label :  4 Predict label :  2\n",
      "Iteration :  57 Real label :  5 Predict label :  0\n",
      "Iteration :  58 Real label :  6 Predict label :  6\n",
      "Iteration :  59 Real label :  7 Predict label :  1\n",
      "Iteration :  60 Real label :  8 Predict label :  11\n",
      "Iteration :  61 Real label :  9 Predict label :  1\n",
      "Iteration :  62 Real label :  10 Predict label :  15\n",
      "Iteration :  63 Real label :  11 Predict label :  21\n",
      "Iteration :  64 Real label :  12 Predict label :  16\n",
      "Iteration :  65 Real label :  13 Predict label :  13\n",
      "Iteration :  66 Real label :  14 Predict label :  14\n",
      "Iteration :  67 Real label :  15 Predict label :  15\n",
      "Iteration :  68 Real label :  16 Predict label :  16\n",
      "Iteration :  69 Real label :  17 Predict label :  17\n",
      "Iteration :  70 Real label :  18 Predict label :  14\n",
      "Iteration :  71 Real label :  19 Predict label :  19\n",
      "Iteration :  72 Real label :  20 Predict label :  18\n",
      "Iteration :  73 Real label :  21 Predict label :  21\n",
      "Iteration :  74 Real label :  22 Predict label :  22\n",
      "Iteration :  75 Real label :  23 Predict label :  23\n",
      "Iteration :  76 Real label :  24 Predict label :  24\n",
      "Iteration :  77 Real label :  25 Predict label :  25\n",
      "Iteration :  78 Real label :  0 Predict label :  3\n",
      "Iteration :  79 Real label :  1 Predict label :  1\n",
      "Iteration :  80 Real label :  2 Predict label :  2\n",
      "Iteration :  81 Real label :  3 Predict label :  24\n",
      "Iteration :  82 Real label :  4 Predict label :  0\n",
      "Iteration :  83 Real label :  5 Predict label :  0\n",
      "Iteration :  84 Real label :  6 Predict label :  6\n",
      "Iteration :  85 Real label :  7 Predict label :  1\n",
      "Iteration :  86 Real label :  8 Predict label :  11\n",
      "Iteration :  87 Real label :  9 Predict label :  1\n",
      "Iteration :  88 Real label :  10 Predict label :  15\n",
      "Iteration :  89 Real label :  11 Predict label :  21\n",
      "Iteration :  90 Real label :  12 Predict label :  16\n",
      "Iteration :  91 Real label :  13 Predict label :  13\n",
      "Iteration :  92 Real label :  14 Predict label :  14\n",
      "Iteration :  93 Real label :  15 Predict label :  15\n",
      "Iteration :  94 Real label :  16 Predict label :  16\n",
      "Iteration :  95 Real label :  17 Predict label :  17\n",
      "Iteration :  96 Real label :  18 Predict label :  18\n",
      "Iteration :  97 Real label :  19 Predict label :  19\n",
      "Iteration :  98 Real label :  20 Predict label :  3\n",
      "Iteration :  99 Real label :  21 Predict label :  21\n",
      "Iteration :  100 Real label :  22 Predict label :  13\n",
      "Iteration :  101 Real label :  23 Predict label :  23\n",
      "Iteration :  102 Real label :  24 Predict label :  24\n",
      "Iteration :  103 Real label :  25 Predict label :  25\n",
      "Iteration :  104 Real label :  0 Predict label :  3\n",
      "Iteration :  105 Real label :  1 Predict label :  20\n",
      "Iteration :  106 Real label :  2 Predict label :  2\n",
      "Iteration :  107 Real label :  3 Predict label :  24\n",
      "Iteration :  108 Real label :  4 Predict label :  3\n",
      "Iteration :  109 Real label :  5 Predict label :  0\n",
      "Iteration :  110 Real label :  6 Predict label :  6\n",
      "Iteration :  111 Real label :  7 Predict label :  1\n",
      "Iteration :  112 Real label :  8 Predict label :  11\n",
      "Iteration :  113 Real label :  9 Predict label :  1\n",
      "Iteration :  114 Real label :  10 Predict label :  15\n",
      "Iteration :  115 Real label :  11 Predict label :  21\n",
      "Iteration :  116 Real label :  12 Predict label :  16\n",
      "Iteration :  117 Real label :  13 Predict label :  13\n",
      "Iteration :  118 Real label :  14 Predict label :  14\n",
      "Iteration :  119 Real label :  15 Predict label :  15\n",
      "Iteration :  120 Real label :  16 Predict label :  16\n",
      "Iteration :  121 Real label :  17 Predict label :  17\n",
      "Iteration :  122 Real label :  18 Predict label :  18\n",
      "Iteration :  123 Real label :  19 Predict label :  19\n",
      "Iteration :  124 Real label :  20 Predict label :  18\n",
      "Iteration :  125 Real label :  21 Predict label :  21\n",
      "Iteration :  126 Real label :  22 Predict label :  13\n",
      "Iteration :  127 Real label :  23 Predict label :  23\n",
      "Iteration :  128 Real label :  24 Predict label :  24\n",
      "Iteration :  129 Real label :  25 Predict label :  25\n",
      "Iteration :  130 Real label :  0 Predict label :  20\n",
      "Iteration :  131 Real label :  1 Predict label :  15\n",
      "Iteration :  132 Real label :  2 Predict label :  2\n",
      "Iteration :  133 Real label :  3 Predict label :  24\n",
      "Iteration :  134 Real label :  4 Predict label :  1\n",
      "Iteration :  135 Real label :  5 Predict label :  0\n",
      "Iteration :  136 Real label :  6 Predict label :  6\n",
      "Iteration :  137 Real label :  7 Predict label :  1\n",
      "Iteration :  138 Real label :  8 Predict label :  11\n",
      "Iteration :  139 Real label :  9 Predict label :  0\n",
      "Iteration :  140 Real label :  10 Predict label :  15\n",
      "Iteration :  141 Real label :  11 Predict label :  21\n",
      "Iteration :  142 Real label :  12 Predict label :  16\n",
      "Iteration :  143 Real label :  13 Predict label :  13\n",
      "Iteration :  144 Real label :  14 Predict label :  14\n",
      "Iteration :  145 Real label :  15 Predict label :  15\n",
      "Iteration :  146 Real label :  16 Predict label :  16\n",
      "Iteration :  147 Real label :  17 Predict label :  17\n",
      "Iteration :  148 Real label :  18 Predict label :  18\n",
      "Iteration :  149 Real label :  19 Predict label :  19\n",
      "Iteration :  150 Real label :  20 Predict label :  14\n",
      "Iteration :  151 Real label :  21 Predict label :  21\n",
      "Iteration :  152 Real label :  22 Predict label :  22\n",
      "Iteration :  153 Real label :  23 Predict label :  23\n",
      "Iteration :  154 Real label :  24 Predict label :  24\n",
      "Iteration :  155 Real label :  25 Predict label :  25\n",
      "Iteration :  156 Real label :  0 Predict label :  20\n",
      "Iteration :  157 Real label :  1 Predict label :  3\n",
      "Iteration :  158 Real label :  2 Predict label :  2\n"
     ]
    },
    {
     "name": "stdout",
     "output_type": "stream",
     "text": [
      "Iteration :  159 Real label :  3 Predict label :  24\n",
      "Iteration :  160 Real label :  4 Predict label :  0\n",
      "Iteration :  161 Real label :  5 Predict label :  8\n",
      "Iteration :  162 Real label :  6 Predict label :  6\n",
      "Iteration :  163 Real label :  7 Predict label :  1\n",
      "Iteration :  164 Real label :  8 Predict label :  11\n",
      "Iteration :  165 Real label :  9 Predict label :  7\n",
      "Iteration :  166 Real label :  10 Predict label :  15\n",
      "Iteration :  167 Real label :  11 Predict label :  21\n",
      "Iteration :  168 Real label :  12 Predict label :  16\n",
      "Iteration :  169 Real label :  13 Predict label :  13\n",
      "Iteration :  170 Real label :  14 Predict label :  14\n",
      "Iteration :  171 Real label :  15 Predict label :  15\n",
      "Iteration :  172 Real label :  16 Predict label :  16\n",
      "Iteration :  173 Real label :  17 Predict label :  17\n",
      "Iteration :  174 Real label :  18 Predict label :  18\n",
      "Iteration :  175 Real label :  19 Predict label :  19\n",
      "Iteration :  176 Real label :  20 Predict label :  14\n",
      "Iteration :  177 Real label :  21 Predict label :  21\n",
      "Iteration :  178 Real label :  22 Predict label :  13\n",
      "Iteration :  179 Real label :  23 Predict label :  23\n",
      "Iteration :  180 Real label :  24 Predict label :  24\n",
      "Iteration :  181 Real label :  25 Predict label :  25\n",
      "Iteration :  182 Real label :  0 Predict label :  20\n",
      "Iteration :  183 Real label :  1 Predict label :  3\n",
      "Iteration :  184 Real label :  2 Predict label :  2\n",
      "Iteration :  185 Real label :  3 Predict label :  24\n",
      "Iteration :  186 Real label :  4 Predict label :  0\n",
      "Iteration :  187 Real label :  5 Predict label :  8\n",
      "Iteration :  188 Real label :  6 Predict label :  6\n",
      "Iteration :  189 Real label :  7 Predict label :  10\n",
      "Iteration :  190 Real label :  8 Predict label :  11\n",
      "Iteration :  191 Real label :  9 Predict label :  1\n",
      "Iteration :  192 Real label :  10 Predict label :  15\n",
      "Iteration :  193 Real label :  11 Predict label :  21\n",
      "Iteration :  194 Real label :  12 Predict label :  16\n",
      "Iteration :  195 Real label :  13 Predict label :  13\n",
      "Iteration :  196 Real label :  14 Predict label :  14\n",
      "Iteration :  197 Real label :  15 Predict label :  15\n",
      "Iteration :  198 Real label :  16 Predict label :  16\n",
      "Iteration :  199 Real label :  17 Predict label :  17\n",
      "Iteration :  200 Real label :  18 Predict label :  18\n",
      "Iteration :  201 Real label :  19 Predict label :  19\n",
      "Iteration :  202 Real label :  20 Predict label :  14\n",
      "Iteration :  203 Real label :  21 Predict label :  21\n",
      "Iteration :  204 Real label :  22 Predict label :  22\n",
      "Iteration :  205 Real label :  23 Predict label :  23\n",
      "Iteration :  206 Real label :  24 Predict label :  24\n",
      "Iteration :  207 Real label :  25 Predict label :  25\n",
      "Iteration :  208 Real label :  0 Predict label :  14\n",
      "Iteration :  209 Real label :  1 Predict label :  1\n",
      "Iteration :  210 Real label :  2 Predict label :  2\n",
      "Iteration :  211 Real label :  3 Predict label :  17\n",
      "Iteration :  212 Real label :  4 Predict label :  14\n",
      "Iteration :  213 Real label :  5 Predict label :  8\n",
      "Iteration :  214 Real label :  6 Predict label :  6\n",
      "Iteration :  215 Real label :  7 Predict label :  1\n",
      "Iteration :  216 Real label :  8 Predict label :  11\n",
      "Iteration :  217 Real label :  9 Predict label :  6\n",
      "Iteration :  218 Real label :  10 Predict label :  15\n",
      "Iteration :  219 Real label :  11 Predict label :  21\n",
      "Iteration :  220 Real label :  12 Predict label :  16\n",
      "Iteration :  221 Real label :  13 Predict label :  13\n",
      "Iteration :  222 Real label :  14 Predict label :  14\n",
      "Iteration :  223 Real label :  15 Predict label :  15\n",
      "Iteration :  224 Real label :  16 Predict label :  16\n",
      "Iteration :  225 Real label :  17 Predict label :  17\n",
      "Iteration :  226 Real label :  18 Predict label :  18\n",
      "Iteration :  227 Real label :  19 Predict label :  19\n",
      "Iteration :  228 Real label :  20 Predict label :  14\n",
      "Iteration :  229 Real label :  21 Predict label :  21\n",
      "Iteration :  230 Real label :  22 Predict label :  22\n",
      "Iteration :  231 Real label :  23 Predict label :  23\n",
      "Iteration :  232 Real label :  24 Predict label :  24\n",
      "Iteration :  233 Real label :  25 Predict label :  25\n",
      "Iteration :  234 Real label :  0 Predict label :  3\n",
      "Iteration :  235 Real label :  1 Predict label :  20\n",
      "Iteration :  236 Real label :  2 Predict label :  2\n",
      "Iteration :  237 Real label :  3 Predict label :  24\n",
      "Iteration :  238 Real label :  4 Predict label :  3\n",
      "Iteration :  239 Real label :  5 Predict label :  8\n",
      "Iteration :  240 Real label :  6 Predict label :  8\n",
      "Iteration :  241 Real label :  7 Predict label :  3\n",
      "Iteration :  242 Real label :  8 Predict label :  11\n",
      "Iteration :  243 Real label :  9 Predict label :  1\n",
      "Iteration :  244 Real label :  10 Predict label :  15\n",
      "Iteration :  245 Real label :  11 Predict label :  21\n",
      "Iteration :  246 Real label :  12 Predict label :  12\n",
      "Iteration :  247 Real label :  13 Predict label :  13\n",
      "Iteration :  248 Real label :  14 Predict label :  14\n",
      "Iteration :  249 Real label :  15 Predict label :  15\n",
      "Iteration :  250 Real label :  16 Predict label :  16\n",
      "Iteration :  251 Real label :  17 Predict label :  17\n",
      "Iteration :  252 Real label :  18 Predict label :  18\n",
      "Iteration :  253 Real label :  19 Predict label :  19\n",
      "Iteration :  254 Real label :  20 Predict label :  18\n",
      "Iteration :  255 Real label :  21 Predict label :  21\n",
      "Iteration :  256 Real label :  22 Predict label :  22\n",
      "Iteration :  257 Real label :  23 Predict label :  23\n",
      "Iteration :  258 Real label :  24 Predict label :  24\n",
      "Iteration :  259 Real label :  25 Predict label :  25\n",
      "Iteration :  260 Real label :  0 Predict label :  0\n",
      "Iteration :  261 Real label :  1 Predict label :  0\n",
      "Iteration :  262 Real label :  2 Predict label :  2\n",
      "Iteration :  263 Real label :  3 Predict label :  4\n",
      "Iteration :  264 Real label :  4 Predict label :  4\n",
      "Iteration :  265 Real label :  5 Predict label :  5\n",
      "Iteration :  266 Real label :  6 Predict label :  16\n",
      "Iteration :  267 Real label :  7 Predict label :  1\n",
      "Iteration :  268 Real label :  8 Predict label :  11\n",
      "Iteration :  269 Real label :  9 Predict label :  7\n",
      "Iteration :  270 Real label :  10 Predict label :  10\n",
      "Iteration :  271 Real label :  11 Predict label :  21\n",
      "Iteration :  272 Real label :  12 Predict label :  12\n",
      "Iteration :  273 Real label :  13 Predict label :  13\n",
      "Iteration :  274 Real label :  14 Predict label :  14\n",
      "Iteration :  275 Real label :  15 Predict label :  15\n",
      "Iteration :  276 Real label :  16 Predict label :  16\n",
      "Iteration :  277 Real label :  17 Predict label :  17\n",
      "Iteration :  278 Real label :  18 Predict label :  18\n",
      "Iteration :  279 Real label :  19 Predict label :  8\n",
      "Iteration :  280 Real label :  20 Predict label :  17\n",
      "Iteration :  281 Real label :  21 Predict label :  21\n",
      "Iteration :  282 Real label :  22 Predict label :  22\n",
      "Iteration :  283 Real label :  23 Predict label :  23\n",
      "Iteration :  284 Real label :  24 Predict label :  24\n",
      "Iteration :  285 Real label :  25 Predict label :  6\n",
      "Iteration :  286 Real label :  0 Predict label :  3\n",
      "Iteration :  287 Real label :  1 Predict label :  1\n",
      "Iteration :  288 Real label :  2 Predict label :  2\n",
      "Iteration :  289 Real label :  3 Predict label :  24\n",
      "Iteration :  290 Real label :  4 Predict label :  4\n",
      "Iteration :  291 Real label :  5 Predict label :  5\n",
      "Iteration :  292 Real label :  6 Predict label :  3\n",
      "Iteration :  293 Real label :  7 Predict label :  1\n",
      "Iteration :  294 Real label :  8 Predict label :  11\n",
      "Iteration :  295 Real label :  9 Predict label :  2\n",
      "Iteration :  296 Real label :  10 Predict label :  10\n",
      "Iteration :  297 Real label :  11 Predict label :  21\n",
      "Iteration :  298 Real label :  12 Predict label :  16\n",
      "Iteration :  299 Real label :  13 Predict label :  15\n",
      "Iteration :  300 Real label :  14 Predict label :  14\n",
      "Iteration :  301 Real label :  15 Predict label :  15\n",
      "Iteration :  302 Real label :  16 Predict label :  16\n",
      "Iteration :  303 Real label :  17 Predict label :  17\n",
      "Iteration :  304 Real label :  18 Predict label :  18\n",
      "Iteration :  305 Real label :  19 Predict label :  19\n",
      "Iteration :  306 Real label :  20 Predict label :  14\n",
      "Iteration :  307 Real label :  21 Predict label :  21\n",
      "Iteration :  308 Real label :  22 Predict label :  22\n",
      "Iteration :  309 Real label :  23 Predict label :  23\n",
      "Iteration :  310 Real label :  24 Predict label :  24\n",
      "Iteration :  311 Real label :  25 Predict label :  25\n",
      "Iteration :  312 Real label :  0 Predict label :  3\n",
      "Iteration :  313 Real label :  1 Predict label :  15\n",
      "Iteration :  314 Real label :  2 Predict label :  2\n",
      "Iteration :  315 Real label :  3 Predict label :  24\n"
     ]
    },
    {
     "name": "stdout",
     "output_type": "stream",
     "text": [
      "Iteration :  316 Real label :  4 Predict label :  4\n",
      "Iteration :  317 Real label :  5 Predict label :  0\n",
      "Iteration :  318 Real label :  6 Predict label :  5\n",
      "Iteration :  319 Real label :  7 Predict label :  1\n",
      "Iteration :  320 Real label :  8 Predict label :  11\n",
      "Iteration :  321 Real label :  9 Predict label :  0\n",
      "Iteration :  322 Real label :  10 Predict label :  10\n",
      "Iteration :  323 Real label :  11 Predict label :  21\n",
      "Iteration :  324 Real label :  12 Predict label :  16\n",
      "Iteration :  325 Real label :  13 Predict label :  13\n",
      "Iteration :  326 Real label :  14 Predict label :  14\n",
      "Iteration :  327 Real label :  15 Predict label :  15\n",
      "Iteration :  328 Real label :  16 Predict label :  16\n",
      "Iteration :  329 Real label :  17 Predict label :  17\n",
      "Iteration :  330 Real label :  18 Predict label :  18\n",
      "Iteration :  331 Real label :  19 Predict label :  19\n",
      "Iteration :  332 Real label :  20 Predict label :  18\n",
      "Iteration :  333 Real label :  21 Predict label :  21\n",
      "Iteration :  334 Real label :  22 Predict label :  22\n",
      "Iteration :  335 Real label :  23 Predict label :  23\n",
      "Iteration :  336 Real label :  24 Predict label :  24\n",
      "Iteration :  337 Real label :  25 Predict label :  25\n",
      "Iteration :  338 Real label :  0 Predict label :  3\n",
      "Iteration :  339 Real label :  1 Predict label :  24\n",
      "Iteration :  340 Real label :  2 Predict label :  2\n",
      "Iteration :  341 Real label :  3 Predict label :  21\n",
      "Iteration :  342 Real label :  4 Predict label :  4\n",
      "Iteration :  343 Real label :  5 Predict label :  5\n",
      "Iteration :  344 Real label :  6 Predict label :  16\n",
      "Iteration :  345 Real label :  7 Predict label :  1\n",
      "Iteration :  346 Real label :  8 Predict label :  8\n",
      "Iteration :  347 Real label :  9 Predict label :  0\n",
      "Iteration :  348 Real label :  10 Predict label :  15\n",
      "Iteration :  349 Real label :  11 Predict label :  21\n",
      "Iteration :  350 Real label :  12 Predict label :  16\n",
      "Iteration :  351 Real label :  13 Predict label :  13\n",
      "Iteration :  352 Real label :  14 Predict label :  14\n",
      "Iteration :  353 Real label :  15 Predict label :  15\n",
      "Iteration :  354 Real label :  16 Predict label :  16\n",
      "Iteration :  355 Real label :  17 Predict label :  17\n",
      "Iteration :  356 Real label :  18 Predict label :  18\n",
      "Iteration :  357 Real label :  19 Predict label :  19\n",
      "Iteration :  358 Real label :  20 Predict label :  18\n",
      "Iteration :  359 Real label :  21 Predict label :  21\n",
      "Iteration :  360 Real label :  22 Predict label :  22\n",
      "Iteration :  361 Real label :  23 Predict label :  23\n",
      "Iteration :  362 Real label :  24 Predict label :  24\n",
      "Iteration :  363 Real label :  25 Predict label :  25\n",
      "Iteration :  364 Real label :  0 Predict label :  3\n",
      "Iteration :  365 Real label :  1 Predict label :  1\n",
      "Iteration :  366 Real label :  2 Predict label :  2\n",
      "Iteration :  367 Real label :  3 Predict label :  24\n",
      "Iteration :  368 Real label :  4 Predict label :  2\n",
      "Iteration :  369 Real label :  5 Predict label :  0\n",
      "Iteration :  370 Real label :  6 Predict label :  3\n",
      "Iteration :  371 Real label :  7 Predict label :  1\n",
      "Iteration :  372 Real label :  8 Predict label :  11\n",
      "Iteration :  373 Real label :  9 Predict label :  0\n",
      "Iteration :  374 Real label :  10 Predict label :  5\n",
      "Iteration :  375 Real label :  11 Predict label :  21\n",
      "Iteration :  376 Real label :  12 Predict label :  12\n",
      "Iteration :  377 Real label :  13 Predict label :  13\n",
      "Iteration :  378 Real label :  14 Predict label :  14\n",
      "Iteration :  379 Real label :  15 Predict label :  15\n",
      "Iteration :  380 Real label :  16 Predict label :  16\n",
      "Iteration :  381 Real label :  17 Predict label :  17\n",
      "Iteration :  382 Real label :  18 Predict label :  18\n",
      "Iteration :  383 Real label :  19 Predict label :  11\n",
      "Iteration :  384 Real label :  20 Predict label :  17\n",
      "Iteration :  385 Real label :  21 Predict label :  21\n",
      "Iteration :  386 Real label :  22 Predict label :  22\n",
      "Iteration :  387 Real label :  23 Predict label :  23\n",
      "Iteration :  388 Real label :  24 Predict label :  24\n",
      "Iteration :  389 Real label :  25 Predict label :  25\n",
      "Iteration :  390 Real label :  0 Predict label :  20\n",
      "Iteration :  391 Real label :  1 Predict label :  1\n",
      "Iteration :  392 Real label :  2 Predict label :  2\n",
      "Iteration :  393 Real label :  3 Predict label :  2\n",
      "Iteration :  394 Real label :  4 Predict label :  14\n",
      "Iteration :  395 Real label :  5 Predict label :  5\n",
      "Iteration :  396 Real label :  6 Predict label :  3\n",
      "Iteration :  397 Real label :  7 Predict label :  1\n",
      "Iteration :  398 Real label :  8 Predict label :  11\n",
      "Iteration :  399 Real label :  9 Predict label :  9\n",
      "Iteration :  400 Real label :  10 Predict label :  5\n",
      "Iteration :  401 Real label :  11 Predict label :  21\n",
      "Iteration :  402 Real label :  12 Predict label :  16\n",
      "Iteration :  403 Real label :  13 Predict label :  0\n",
      "Iteration :  404 Real label :  14 Predict label :  14\n",
      "Iteration :  405 Real label :  15 Predict label :  15\n",
      "Iteration :  406 Real label :  16 Predict label :  16\n",
      "Iteration :  407 Real label :  17 Predict label :  17\n",
      "Iteration :  408 Real label :  18 Predict label :  18\n",
      "Iteration :  409 Real label :  19 Predict label :  11\n",
      "Iteration :  410 Real label :  20 Predict label :  3\n",
      "Iteration :  411 Real label :  21 Predict label :  21\n",
      "Iteration :  412 Real label :  22 Predict label :  22\n",
      "Iteration :  413 Real label :  23 Predict label :  23\n",
      "Iteration :  414 Real label :  24 Predict label :  24\n",
      "Iteration :  415 Real label :  25 Predict label :  25\n",
      "Iteration :  416 Real label :  0 Predict label :  3\n",
      "Iteration :  417 Real label :  1 Predict label :  1\n",
      "Iteration :  418 Real label :  2 Predict label :  2\n",
      "Iteration :  419 Real label :  3 Predict label :  2\n",
      "Iteration :  420 Real label :  4 Predict label :  2\n",
      "Iteration :  421 Real label :  5 Predict label :  5\n",
      "Iteration :  422 Real label :  6 Predict label :  16\n",
      "Iteration :  423 Real label :  7 Predict label :  3\n",
      "Iteration :  424 Real label :  8 Predict label :  8\n",
      "Iteration :  425 Real label :  9 Predict label :  0\n",
      "Iteration :  426 Real label :  10 Predict label :  15\n",
      "Iteration :  427 Real label :  11 Predict label :  21\n",
      "Iteration :  428 Real label :  12 Predict label :  16\n",
      "Iteration :  429 Real label :  13 Predict label :  22\n",
      "Iteration :  430 Real label :  14 Predict label :  14\n",
      "Iteration :  431 Real label :  15 Predict label :  15\n",
      "Iteration :  432 Real label :  16 Predict label :  16\n",
      "Iteration :  433 Real label :  17 Predict label :  17\n",
      "Iteration :  434 Real label :  18 Predict label :  18\n",
      "Iteration :  435 Real label :  19 Predict label :  19\n",
      "Iteration :  436 Real label :  20 Predict label :  20\n",
      "Iteration :  437 Real label :  21 Predict label :  21\n",
      "Iteration :  438 Real label :  22 Predict label :  17\n",
      "Iteration :  439 Real label :  23 Predict label :  23\n",
      "Iteration :  440 Real label :  24 Predict label :  24\n",
      "Iteration :  441 Real label :  25 Predict label :  25\n",
      "Iteration :  442 Real label :  0 Predict label :  3\n",
      "Iteration :  443 Real label :  1 Predict label :  3\n",
      "Iteration :  444 Real label :  2 Predict label :  2\n",
      "Iteration :  445 Real label :  3 Predict label :  17\n",
      "Iteration :  446 Real label :  4 Predict label :  3\n",
      "Iteration :  447 Real label :  5 Predict label :  5\n",
      "Iteration :  448 Real label :  6 Predict label :  3\n",
      "Iteration :  449 Real label :  7 Predict label :  1\n",
      "Iteration :  450 Real label :  8 Predict label :  11\n",
      "Iteration :  451 Real label :  9 Predict label :  1\n",
      "Iteration :  452 Real label :  10 Predict label :  15\n",
      "Iteration :  453 Real label :  11 Predict label :  21\n",
      "Iteration :  454 Real label :  12 Predict label :  16\n",
      "Iteration :  455 Real label :  13 Predict label :  22\n",
      "Iteration :  456 Real label :  14 Predict label :  14\n",
      "Iteration :  457 Real label :  15 Predict label :  15\n",
      "Iteration :  458 Real label :  16 Predict label :  16\n",
      "Iteration :  459 Real label :  17 Predict label :  17\n",
      "Iteration :  460 Real label :  18 Predict label :  18\n",
      "Iteration :  461 Real label :  19 Predict label :  19\n",
      "Iteration :  462 Real label :  20 Predict label :  3\n",
      "Iteration :  463 Real label :  21 Predict label :  21\n",
      "Iteration :  464 Real label :  22 Predict label :  13\n",
      "Iteration :  465 Real label :  23 Predict label :  23\n",
      "Iteration :  466 Real label :  24 Predict label :  24\n",
      "Iteration :  467 Real label :  25 Predict label :  25\n",
      "Iteration :  468 Real label :  0 Predict label :  0\n",
      "Iteration :  469 Real label :  1 Predict label :  0\n",
      "Iteration :  470 Real label :  2 Predict label :  2\n",
      "Iteration :  471 Real label :  3 Predict label :  17\n"
     ]
    },
    {
     "name": "stdout",
     "output_type": "stream",
     "text": [
      "Iteration :  472 Real label :  4 Predict label :  3\n",
      "Iteration :  473 Real label :  5 Predict label :  5\n",
      "Iteration :  474 Real label :  6 Predict label :  16\n",
      "Iteration :  475 Real label :  7 Predict label :  1\n",
      "Iteration :  476 Real label :  8 Predict label :  11\n",
      "Iteration :  477 Real label :  9 Predict label :  1\n",
      "Iteration :  478 Real label :  10 Predict label :  15\n",
      "Iteration :  479 Real label :  11 Predict label :  21\n",
      "Iteration :  480 Real label :  12 Predict label :  16\n",
      "Iteration :  481 Real label :  13 Predict label :  17\n",
      "Iteration :  482 Real label :  14 Predict label :  14\n",
      "Iteration :  483 Real label :  15 Predict label :  15\n",
      "Iteration :  484 Real label :  16 Predict label :  16\n",
      "Iteration :  485 Real label :  17 Predict label :  17\n",
      "Iteration :  486 Real label :  18 Predict label :  18\n",
      "Iteration :  487 Real label :  19 Predict label :  19\n",
      "Iteration :  488 Real label :  20 Predict label :  17\n",
      "Iteration :  489 Real label :  21 Predict label :  21\n",
      "Iteration :  490 Real label :  22 Predict label :  22\n",
      "Iteration :  491 Real label :  23 Predict label :  23\n",
      "Iteration :  492 Real label :  24 Predict label :  24\n",
      "Iteration :  493 Real label :  25 Predict label :  25\n",
      "Iteration :  494 Real label :  0 Predict label :  14\n",
      "Iteration :  495 Real label :  1 Predict label :  0\n",
      "Iteration :  496 Real label :  2 Predict label :  2\n",
      "Iteration :  497 Real label :  3 Predict label :  6\n",
      "Iteration :  498 Real label :  4 Predict label :  3\n",
      "Iteration :  499 Real label :  5 Predict label :  5\n",
      "Iteration :  500 Real label :  6 Predict label :  10\n",
      "Iteration :  501 Real label :  7 Predict label :  3\n",
      "Iteration :  502 Real label :  8 Predict label :  11\n",
      "Iteration :  503 Real label :  9 Predict label :  1\n",
      "Iteration :  504 Real label :  10 Predict label :  15\n",
      "Iteration :  505 Real label :  11 Predict label :  21\n",
      "Iteration :  506 Real label :  12 Predict label :  16\n",
      "Iteration :  507 Real label :  13 Predict label :  13\n",
      "Iteration :  508 Real label :  14 Predict label :  14\n",
      "Iteration :  509 Real label :  15 Predict label :  15\n",
      "Iteration :  510 Real label :  16 Predict label :  16\n",
      "Iteration :  511 Real label :  17 Predict label :  17\n",
      "Iteration :  512 Real label :  18 Predict label :  18\n",
      "Iteration :  513 Real label :  19 Predict label :  21\n",
      "Iteration :  514 Real label :  20 Predict label :  18\n",
      "Iteration :  515 Real label :  21 Predict label :  21\n",
      "Iteration :  516 Real label :  22 Predict label :  22\n",
      "Iteration :  517 Real label :  23 Predict label :  23\n",
      "Iteration :  518 Real label :  24 Predict label :  24\n",
      "Iteration :  519 Real label :  25 Predict label :  25\n"
     ]
    }
   ],
   "source": [
    "# Tensorflow 세션 실행\n",
    "init = tf.initialize_all_variables()\n",
    "\n",
    "sess = tf.Session()\n",
    "sess.run(init)\n",
    "\n",
    "\n",
    "# 정확도를 초기화\n",
    "accuracy = 0\n",
    "confusion_matrix = [[0 for i in range(26)] for j in range(26)]\n",
    "\n",
    "\n",
    "for i in range(len(data_test_x)):\n",
    "\n",
    "    # k-NN 알고리즘 수행 예측된 숫자를 구한다.\n",
    "    pre_label = sess.run(prediction, feed_dict={x_data_train: data_train_x, y_data_train: data_train_y, x_data_test: data_test_x[i,:], paramK :  1})\n",
    "    real_label = np.argmax(data_test_y[i])\n",
    "\n",
    "    #nn_index의 라벨값과 실제 라벨값을 비교한다.\n",
    "    print(\"Iteration : \", i,\"Real label : \", real_label,\"Predict label : \", pre_label)\n",
    "\n",
    "    confusion_matrix[real_label][pre_label] +=1\n",
    "\n",
    "    # 예측도 파악\n",
    "    # KNN은 비교 데이터에서 가장 가까운 것을 찾는 것이므로 매번 확률을 갱신해야한다(가중치를 찾는게 아니다)\n",
    "    # 가장 가까운 것이 무엇이 될지 모름\n",
    "    if pre_label == real_label :\n",
    "        accuracy += 1./len(data_test_x)\n",
    "   \n",
    "\n",
    "\n",
    "\n"
   ]
  },
  {
   "cell_type": "markdown",
   "metadata": {},
   "source": [
    "## Result"
   ]
  },
  {
   "cell_type": "markdown",
   "metadata": {},
   "source": [
    "### User1"
   ]
  },
  {
   "cell_type": "code",
   "execution_count": 32,
   "metadata": {
    "scrolled": true
   },
   "outputs": [
    {
     "name": "stdout",
     "output_type": "stream",
     "text": [
      "Accuracy :  78.08  %\n",
      "The resulting confusion matrix\n",
      "a [7, 0, 0, 0, 0, 0, 0, 0, 0, 0, 0, 0, 0, 0, 0, 0, 0, 0, 0, 0, 13, 0, 0, 0, 0, 0] acc =  0.35\n",
      "b [0, 11, 0, 4, 0, 0, 0, 0, 0, 0, 1, 0, 1, 0, 0, 0, 0, 0, 0, 0, 0, 0, 3, 0, 0, 0] acc =  0.55\n",
      "c [0, 0, 20, 0, 0, 0, 0, 0, 0, 0, 0, 0, 0, 0, 0, 0, 0, 0, 0, 0, 0, 0, 0, 0, 0, 0] acc =  1.0\n",
      "d [0, 0, 0, 16, 0, 0, 1, 0, 0, 0, 0, 0, 0, 0, 0, 0, 0, 0, 0, 1, 0, 1, 0, 0, 1, 0] acc =  0.8\n",
      "e [3, 5, 9, 1, 2, 0, 0, 0, 0, 0, 0, 0, 0, 0, 0, 0, 0, 0, 0, 0, 0, 0, 0, 0, 0, 0] acc =  0.1\n",
      "f [0, 0, 0, 0, 0, 12, 0, 0, 2, 6, 0, 0, 0, 0, 0, 0, 0, 0, 0, 0, 0, 0, 0, 0, 0, 0] acc =  0.6\n",
      "g [0, 0, 0, 1, 0, 0, 6, 0, 1, 3, 5, 0, 1, 0, 0, 0, 0, 0, 0, 0, 0, 0, 0, 0, 3, 0] acc =  0.3\n",
      "h [0, 0, 0, 1, 0, 0, 1, 15, 0, 1, 2, 0, 0, 0, 0, 0, 0, 0, 0, 0, 0, 0, 0, 0, 0, 0] acc =  0.75\n",
      "i [0, 0, 0, 0, 0, 0, 0, 0, 18, 0, 0, 2, 0, 0, 0, 0, 0, 0, 0, 0, 0, 0, 0, 0, 0, 0] acc =  0.9\n",
      "j [0, 0, 1, 0, 0, 0, 0, 0, 0, 19, 0, 0, 0, 0, 0, 0, 0, 0, 0, 0, 0, 0, 0, 0, 0, 0] acc =  0.95\n",
      "k [0, 0, 0, 0, 0, 0, 0, 0, 0, 0, 19, 0, 0, 0, 0, 1, 0, 0, 0, 0, 0, 0, 0, 0, 0, 0] acc =  0.95\n",
      "l [0, 0, 0, 0, 1, 0, 0, 0, 0, 0, 0, 11, 0, 0, 0, 0, 0, 0, 0, 0, 0, 8, 0, 0, 0, 0] acc =  0.55\n",
      "m [0, 0, 0, 0, 0, 0, 0, 0, 0, 0, 0, 0, 16, 0, 0, 0, 3, 0, 0, 0, 0, 0, 0, 0, 0, 1] acc =  0.8\n",
      "n [0, 0, 0, 0, 0, 0, 0, 0, 0, 0, 0, 0, 0, 20, 0, 0, 0, 0, 0, 0, 0, 0, 0, 0, 0, 0] acc =  1.0\n",
      "o [0, 0, 0, 0, 0, 0, 0, 0, 0, 0, 0, 0, 0, 0, 20, 0, 0, 0, 0, 0, 0, 0, 0, 0, 0, 0] acc =  1.0\n",
      "p [0, 0, 0, 0, 0, 0, 0, 0, 0, 0, 0, 0, 0, 0, 0, 20, 0, 0, 0, 0, 0, 0, 0, 0, 0, 0] acc =  1.0\n",
      "q [0, 0, 0, 0, 0, 0, 0, 0, 0, 0, 0, 0, 0, 0, 0, 0, 20, 0, 0, 0, 0, 0, 0, 0, 0, 0] acc =  1.0\n",
      "r [0, 0, 0, 0, 0, 0, 0, 0, 0, 0, 0, 0, 0, 0, 0, 0, 0, 20, 0, 0, 0, 0, 0, 0, 0, 0] acc =  1.0\n",
      "s [0, 0, 0, 0, 0, 0, 0, 0, 0, 0, 0, 0, 0, 0, 4, 0, 0, 0, 16, 0, 0, 0, 0, 0, 0, 0] acc =  0.8\n",
      "t [0, 0, 0, 0, 0, 0, 0, 1, 1, 0, 0, 4, 0, 0, 0, 0, 0, 1, 0, 13, 0, 0, 0, 0, 0, 0] acc =  0.65\n",
      "u [3, 0, 0, 0, 0, 0, 0, 0, 0, 0, 0, 0, 0, 0, 0, 0, 0, 0, 6, 0, 11, 0, 0, 0, 0, 0] acc =  0.55\n",
      "v [0, 0, 0, 0, 0, 0, 0, 0, 0, 0, 0, 0, 0, 0, 0, 0, 0, 3, 0, 0, 0, 17, 0, 0, 0, 0] acc =  0.85\n",
      "w [0, 0, 0, 0, 0, 0, 0, 0, 0, 0, 0, 0, 0, 2, 0, 0, 0, 0, 0, 0, 0, 0, 18, 0, 0, 0] acc =  0.9\n",
      "x [0, 0, 0, 0, 0, 0, 0, 0, 0, 0, 0, 0, 0, 0, 0, 0, 0, 0, 0, 0, 0, 0, 0, 20, 0, 0] acc =  1.0\n",
      "y [0, 0, 0, 0, 0, 0, 0, 0, 0, 0, 0, 0, 0, 0, 0, 0, 0, 0, 0, 0, 0, 0, 0, 0, 20, 0] acc =  1.0\n",
      "z [0, 0, 0, 0, 0, 0, 0, 0, 1, 0, 0, 0, 0, 0, 0, 0, 0, 0, 0, 0, 0, 0, 0, 0, 0, 19] acc =  0.95\n"
     ]
    }
   ],
   "source": [
    "\n",
    "print(\"Accuracy : \", round(accuracy*100, 2),\" %\")\n",
    "print(\"The resulting confusion matrix\")\n",
    "# confusion matrix 생성\n",
    "for i in range(26):\n",
    "    print(chr(ord('a')+i),confusion_matrix[i],\"acc = \",confusion_matrix[i][i]/np.sum(confusion_matrix[i]))"
   ]
  },
  {
   "cell_type": "markdown",
   "metadata": {},
   "source": [
    "### User2"
   ]
  },
  {
   "cell_type": "code",
   "execution_count": 47,
   "metadata": {
    "scrolled": true
   },
   "outputs": [
    {
     "name": "stdout",
     "output_type": "stream",
     "text": [
      "Accuracy :  57.98  %\n",
      "The resulting confusion matrix\n",
      "a [18, 0, 0, 0, 0, 0, 0, 0, 0, 0, 0, 0, 0, 0, 0, 0, 0, 0, 0, 0, 0, 0, 0, 0, 0, 0] acc =  1.0\n",
      "b [10, 10, 0, 0, 0, 0, 0, 0, 0, 0, 0, 0, 0, 0, 0, 0, 0, 0, 0, 0, 0, 0, 0, 0, 0, 0] acc =  0.5\n",
      "c [0, 0, 5, 0, 1, 0, 0, 0, 0, 0, 0, 2, 0, 0, 12, 0, 0, 0, 0, 0, 0, 0, 0, 0, 0, 0] acc =  0.25\n",
      "d [0, 0, 0, 18, 0, 0, 0, 0, 0, 0, 0, 0, 0, 1, 0, 0, 0, 0, 0, 0, 1, 0, 0, 0, 0, 0] acc =  0.9\n",
      "e [0, 0, 10, 3, 0, 0, 0, 0, 0, 0, 0, 7, 0, 0, 0, 0, 0, 0, 0, 0, 0, 0, 0, 0, 0, 0] acc =  0.0\n",
      "f [0, 0, 1, 0, 0, 11, 0, 1, 0, 0, 0, 0, 0, 2, 1, 0, 0, 1, 0, 3, 0, 0, 0, 0, 0, 0] acc =  0.55\n",
      "g [0, 3, 0, 0, 0, 2, 5, 0, 0, 1, 0, 0, 0, 4, 0, 0, 2, 0, 0, 0, 0, 0, 1, 0, 1, 0] acc =  0.2631578947368421\n",
      "h [0, 6, 0, 0, 0, 0, 0, 7, 0, 0, 0, 0, 0, 0, 0, 0, 0, 3, 0, 0, 4, 0, 0, 0, 0, 0] acc =  0.35\n",
      "i [0, 0, 0, 0, 0, 0, 0, 0, 11, 7, 0, 0, 0, 0, 0, 0, 0, 0, 0, 0, 0, 0, 0, 0, 0, 0] acc =  0.6111111111111112\n",
      "j [0, 0, 1, 0, 0, 0, 1, 0, 1, 6, 0, 0, 0, 0, 0, 1, 0, 0, 0, 0, 0, 0, 0, 0, 0, 0] acc =  0.6\n",
      "k [0, 0, 0, 0, 0, 0, 0, 0, 0, 0, 19, 0, 0, 0, 0, 1, 0, 0, 0, 0, 0, 0, 0, 0, 0, 0] acc =  0.95\n",
      "l [0, 0, 0, 0, 0, 0, 0, 0, 0, 0, 0, 17, 1, 0, 1, 0, 0, 0, 0, 0, 0, 0, 1, 0, 0, 0] acc =  0.85\n",
      "m [0, 0, 0, 0, 0, 0, 0, 0, 0, 0, 0, 0, 20, 0, 0, 0, 0, 0, 0, 0, 0, 0, 0, 0, 0, 0] acc =  1.0\n",
      "n [0, 0, 0, 2, 0, 0, 0, 0, 0, 0, 0, 0, 1, 11, 0, 0, 6, 0, 0, 0, 0, 0, 0, 0, 0, 0] acc =  0.55\n",
      "o [0, 0, 0, 4, 0, 0, 0, 0, 0, 0, 0, 0, 0, 0, 13, 0, 0, 2, 0, 0, 1, 0, 0, 0, 0, 0] acc =  0.65\n",
      "p [0, 0, 0, 0, 0, 0, 0, 0, 0, 0, 11, 0, 0, 0, 0, 9, 0, 0, 0, 0, 0, 0, 0, 0, 0, 0] acc =  0.45\n",
      "q [0, 0, 0, 3, 0, 0, 0, 2, 0, 1, 0, 0, 0, 2, 0, 0, 11, 0, 0, 0, 0, 0, 0, 0, 0, 0] acc =  0.5789473684210527\n",
      "r [0, 0, 0, 0, 0, 0, 0, 0, 0, 0, 0, 0, 0, 5, 0, 0, 0, 14, 0, 0, 0, 1, 0, 0, 0, 0] acc =  0.7\n",
      "s [0, 0, 0, 0, 0, 0, 0, 0, 7, 1, 0, 0, 0, 0, 0, 0, 0, 0, 3, 0, 0, 0, 0, 0, 0, 0] acc =  0.2727272727272727\n",
      "t [0, 0, 0, 0, 0, 1, 0, 0, 0, 1, 0, 0, 0, 3, 0, 0, 0, 0, 0, 14, 0, 0, 0, 0, 0, 1] acc =  0.7\n",
      "u [0, 4, 1, 0, 1, 0, 0, 2, 0, 1, 0, 0, 0, 0, 0, 0, 0, 3, 1, 0, 7, 0, 0, 0, 0, 0] acc =  0.35\n",
      "v [0, 0, 0, 0, 0, 0, 0, 2, 0, 0, 0, 0, 0, 3, 0, 3, 0, 5, 0, 0, 5, 0, 0, 2, 0, 0] acc =  0.0\n",
      "w [0, 0, 0, 1, 0, 0, 0, 0, 0, 0, 0, 0, 0, 5, 0, 0, 1, 0, 0, 0, 0, 0, 9, 0, 0, 4] acc =  0.45\n",
      "x [0, 0, 0, 0, 0, 0, 0, 0, 0, 0, 4, 0, 0, 0, 0, 0, 0, 0, 0, 0, 0, 0, 0, 16, 0, 0] acc =  0.8\n",
      "y [0, 0, 0, 0, 0, 0, 0, 0, 0, 0, 0, 0, 0, 0, 0, 0, 0, 0, 0, 0, 0, 0, 0, 0, 18, 2] acc =  0.9\n",
      "z [0, 0, 0, 0, 0, 0, 0, 2, 0, 0, 1, 0, 0, 0, 0, 0, 0, 0, 0, 1, 1, 0, 0, 0, 0, 15] acc =  0.75\n"
     ]
    }
   ],
   "source": [
    "\n",
    "print(\"Accuracy : \", round(accuracy*100, 2),\" %\")\n",
    "print(\"The resulting confusion matrix\")\n",
    "# confusion matrix 생성\n",
    "for i in range(26):\n",
    "    print(chr(ord('a')+i),confusion_matrix[i],\"acc = \",confusion_matrix[i][i]/np.sum(confusion_matrix[i]))"
   ]
  },
  {
   "cell_type": "markdown",
   "metadata": {},
   "source": [
    "### All"
   ]
  },
  {
   "cell_type": "code",
   "execution_count": 56,
   "metadata": {
    "scrolled": true
   },
   "outputs": [
    {
     "name": "stdout",
     "output_type": "stream",
     "text": [
      "Accuracy :  57.83  %\n",
      "The resulting confusion matrix\n",
      "a [17, 0, 0, 6, 0, 0, 0, 0, 0, 0, 0, 0, 0, 0, 0, 0, 0, 0, 0, 0, 15, 0, 0, 0, 0, 0] acc =  0.4473684210526316\n",
      "b [0, 20, 0, 14, 0, 0, 0, 1, 0, 1, 0, 0, 0, 0, 0, 0, 1, 0, 0, 0, 0, 0, 3, 0, 0, 0] acc =  0.5\n",
      "c [0, 0, 28, 0, 4, 0, 0, 0, 0, 0, 0, 1, 0, 0, 7, 0, 0, 0, 0, 0, 0, 0, 0, 0, 0, 0] acc =  0.7\n",
      "d [0, 0, 0, 8, 0, 0, 5, 0, 0, 0, 0, 0, 0, 3, 4, 0, 5, 0, 0, 6, 6, 0, 3, 0, 0, 0] acc =  0.2\n",
      "e [2, 1, 19, 7, 1, 0, 0, 0, 0, 0, 0, 7, 0, 0, 2, 0, 0, 0, 0, 0, 1, 0, 0, 0, 0, 0] acc =  0.025\n",
      "f [0, 0, 0, 1, 1, 20, 0, 0, 2, 7, 0, 0, 0, 3, 0, 0, 0, 0, 1, 0, 1, 0, 0, 4, 0, 0] acc =  0.5\n",
      "g [0, 1, 1, 2, 0, 3, 6, 0, 2, 8, 0, 0, 7, 5, 0, 0, 3, 0, 0, 0, 0, 0, 0, 0, 1, 0] acc =  0.15384615384615385\n",
      "h [1, 6, 0, 7, 0, 0, 2, 13, 0, 1, 0, 0, 0, 0, 1, 0, 0, 3, 0, 0, 5, 0, 1, 0, 0, 0] acc =  0.325\n",
      "i [0, 0, 0, 0, 0, 0, 0, 0, 25, 11, 0, 0, 0, 0, 0, 0, 0, 0, 0, 0, 0, 0, 0, 2, 0, 0] acc =  0.6578947368421053\n",
      "j [0, 2, 1, 0, 0, 0, 1, 0, 6, 19, 0, 0, 0, 0, 0, 1, 0, 0, 0, 0, 0, 0, 0, 0, 0, 0] acc =  0.6333333333333333\n",
      "k [0, 0, 0, 0, 0, 0, 0, 0, 0, 0, 30, 0, 0, 0, 0, 9, 0, 0, 0, 0, 0, 0, 0, 1, 0, 0] acc =  0.75\n",
      "l [0, 0, 0, 0, 0, 0, 0, 0, 0, 0, 0, 21, 1, 0, 13, 0, 0, 0, 0, 1, 0, 4, 0, 0, 0, 0] acc =  0.525\n",
      "m [0, 0, 0, 0, 0, 0, 0, 0, 0, 0, 0, 0, 37, 0, 0, 0, 3, 0, 0, 0, 0, 0, 0, 0, 0, 0] acc =  0.925\n",
      "n [0, 0, 0, 10, 0, 0, 0, 0, 0, 0, 0, 0, 0, 27, 0, 0, 3, 0, 0, 0, 0, 0, 0, 0, 0, 0] acc =  0.675\n",
      "o [0, 0, 0, 1, 0, 0, 0, 0, 0, 0, 0, 0, 0, 0, 36, 0, 0, 0, 3, 0, 0, 0, 0, 0, 0, 0] acc =  0.9\n",
      "p [0, 0, 0, 0, 0, 0, 0, 0, 0, 0, 4, 0, 0, 0, 0, 32, 0, 0, 0, 0, 0, 0, 0, 4, 0, 0] acc =  0.8\n",
      "q [1, 0, 0, 4, 0, 0, 0, 0, 1, 0, 0, 0, 0, 0, 0, 0, 23, 0, 0, 0, 0, 0, 9, 0, 1, 0] acc =  0.5897435897435898\n",
      "r [0, 0, 0, 0, 0, 0, 0, 0, 0, 0, 0, 0, 0, 0, 0, 0, 0, 28, 10, 0, 1, 1, 0, 0, 0, 0] acc =  0.7\n",
      "s [0, 0, 0, 0, 0, 0, 0, 0, 8, 0, 0, 0, 0, 0, 10, 0, 0, 1, 11, 0, 0, 1, 0, 0, 0, 0] acc =  0.3548387096774194\n",
      "t [0, 0, 0, 0, 1, 0, 0, 1, 1, 1, 0, 4, 0, 6, 0, 0, 0, 0, 0, 21, 0, 0, 3, 2, 0, 0] acc =  0.525\n",
      "u [0, 4, 2, 0, 1, 0, 0, 0, 1, 0, 0, 0, 0, 0, 0, 0, 0, 2, 9, 0, 21, 0, 0, 0, 0, 0] acc =  0.525\n",
      "v [0, 1, 0, 0, 0, 5, 0, 0, 0, 0, 0, 0, 0, 1, 3, 1, 0, 0, 11, 0, 0, 18, 0, 0, 0, 0] acc =  0.45\n",
      "w [0, 0, 0, 1, 0, 0, 0, 0, 0, 0, 0, 0, 0, 6, 0, 0, 0, 0, 0, 4, 2, 0, 26, 0, 0, 1] acc =  0.65\n",
      "x [0, 0, 0, 0, 0, 1, 0, 0, 0, 0, 1, 0, 0, 0, 0, 1, 0, 0, 0, 0, 0, 0, 0, 37, 0, 0] acc =  0.925\n",
      "y [0, 0, 0, 0, 0, 0, 0, 0, 1, 0, 0, 0, 0, 0, 0, 0, 0, 1, 0, 0, 0, 0, 3, 0, 32, 3] acc =  0.8\n",
      "z [0, 1, 1, 0, 0, 0, 0, 0, 0, 0, 1, 1, 0, 0, 0, 0, 0, 0, 0, 0, 2, 0, 0, 0, 4, 30] acc =  0.75\n"
     ]
    }
   ],
   "source": [
    "\n",
    "print(\"Accuracy : \", round(accuracy*100, 2),\" %\")\n",
    "print(\"The resulting confusion matrix\")\n",
    "# confusion matrix 생성\n",
    "for i in range(26):\n",
    "    print(chr(ord('a')+i),confusion_matrix[i],\"acc = \",confusion_matrix[i][i]/np.sum(confusion_matrix[i]))"
   ]
  },
  {
   "cell_type": "markdown",
   "metadata": {},
   "source": [
    "# 정확도 변화"
   ]
  },
  {
   "cell_type": "markdown",
   "metadata": {},
   "source": [
    "|version|User1|User2|All|\n",
    "|------|---|---|---|\n",
    "|version1|0.92|0.83|0.88|\n",
    "|version2|0.78|0.57|0.57|"
   ]
  },
  {
   "cell_type": "code",
   "execution_count": null,
   "metadata": {},
   "outputs": [],
   "source": []
  },
  {
   "cell_type": "code",
   "execution_count": null,
   "metadata": {},
   "outputs": [],
   "source": []
  },
  {
   "cell_type": "code",
   "execution_count": null,
   "metadata": {},
   "outputs": [],
   "source": []
  },
  {
   "cell_type": "code",
   "execution_count": null,
   "metadata": {},
   "outputs": [],
   "source": []
  },
  {
   "cell_type": "code",
   "execution_count": null,
   "metadata": {},
   "outputs": [],
   "source": []
  }
 ],
 "metadata": {
  "kernelspec": {
   "display_name": "Python 3",
   "language": "python",
   "name": "python3"
  },
  "language_info": {
   "codemirror_mode": {
    "name": "ipython",
    "version": 3
   },
   "file_extension": ".py",
   "mimetype": "text/x-python",
   "name": "python",
   "nbconvert_exporter": "python",
   "pygments_lexer": "ipython3",
   "version": "3.7.5"
  }
 },
 "nbformat": 4,
 "nbformat_minor": 2
}
