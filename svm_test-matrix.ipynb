{
 "cells": [
  {
   "cell_type": "markdown",
   "metadata": {},
   "source": [
    "# Import libarary"
   ]
  },
  {
   "cell_type": "code",
   "execution_count": 3,
   "metadata": {},
   "outputs": [],
   "source": [
    "from sklearn.svm import SVC\n",
    "import numpy as np\n",
    "from sklearn.metrics import accuracy_score\n",
    "import tensorflow as tf"
   ]
  },
  {
   "cell_type": "markdown",
   "metadata": {},
   "source": [
    "# Load dataset"
   ]
  },
  {
   "cell_type": "code",
   "execution_count": 5,
   "metadata": {},
   "outputs": [],
   "source": [
    "word={'a':0,'b':1,'c':2,'d':3,'e':4,'f':5,'g':6,'h':7,'i':8,'j':9,'k':10,'l':11,'m':12,'n':13,'o':14,'p':15,'q':16,'r':17,'s':18,'t':19,'u':20,'v':21,'w':22,'x':23,'y':24,'z':25}"
   ]
  },
  {
   "cell_type": "markdown",
   "metadata": {},
   "source": [
    "### User1 data"
   ]
  },
  {
   "cell_type": "code",
   "execution_count": 8,
   "metadata": {},
   "outputs": [],
   "source": [
    "data_x_1=[]\n",
    "data_y_1=[]\n",
    "test_x_1=[]\n",
    "test_y_1=[]\n",
    "\n",
    "cnt1=0 #user1 test데이터 수\n",
    "\n",
    "for j in range(0,100):\n",
    "    for i in ['a','b','c','d','e','f','g','h','i','j','k','l','m','n','o','p','q','r','s','t','u','v','w','x','y','z']:\n",
    "\n",
    "       \n",
    "       \n",
    "        \n",
    "        try:\n",
    "            f = open(\"matrixWav2\\\\cs\\\\\"+i+\"\\\\\"+i+str(j)+\".txt\")\n",
    "            line = f.readline()\n",
    "            temp=line.split(\",\")\n",
    "            f.close()\n",
    "        except:\n",
    "            continue\n",
    "        \n",
    "        \n",
    "        temp_np=np.array(list(map(float, temp)))\n",
    "        #temp_np=(temp_np - temp_np.min(axis=0)) / (temp_np.max(axis=0) - temp_np.min(axis=0)) #min-max scaling\n",
    "        temp_np=temp_np.reshape(1248,24,1) #not resize\n",
    "        \n",
    "        \n",
    "        if j in range(80,100):\n",
    "            cnt1+=1\n",
    "            test_x_1.append(temp_np)\n",
    "            test_y_1.append(word[i])\n",
    "        \n",
    "        else:\n",
    "            data_x_1.append(temp_np)\n",
    "            data_y_1.append(word[i])            \n",
    "\n",
    "            \n",
    "test_x_1=np.array(test_x_1)\n",
    "test_y_1=np.array(test_y_1)\n",
    "data_x_1=np.array(data_x_1)\n",
    "data_y_1=np.array(data_y_1)\n",
    "\n",
    "# CNN 데이터셋에선 one hot encoding이 필요했으나 SVM은 필요X\n",
    "#test_y_1 = to_categorical(test_y_1,num_classes=26)\n",
    "#data_y_1 = to_categorical(data_y_1,num_classes=26)"
   ]
  },
  {
   "cell_type": "code",
   "execution_count": 10,
   "metadata": {},
   "outputs": [],
   "source": [
    "# 사이킷런 SVM은 n차원 데이터 읽기 x -> 변환\n",
    "data_x_1= data_x_1.reshape(data_x_1.shape[0],-1)\n",
    "test_x_1= test_x_1.reshape(test_x_1.shape[0],-1)"
   ]
  },
  {
   "cell_type": "markdown",
   "metadata": {},
   "source": [
    "### User2 data"
   ]
  },
  {
   "cell_type": "code",
   "execution_count": 11,
   "metadata": {},
   "outputs": [],
   "source": [
    "data_x_2=[]\n",
    "data_y_2=[]\n",
    "test_x_2=[]\n",
    "test_y_2=[]\n",
    "\n",
    "\n",
    "cnt2=0\n",
    "\n",
    "for j in range(0,100):\n",
    "    for i in ['a','b','c','d','e','f','g','h','i','j','k','l','m','n','o','p','q','r','s','t','u','v','w','x','y','z']:\n",
    "        #print(i+str(j)+\".txt\")\n",
    "       \n",
    "       \n",
    "            \n",
    "        \n",
    "        \n",
    "        try:\n",
    "            f = open(\"matrixWav2\\\\yj\\\\\"+i+\"\\\\\"+i+str(j)+\".txt\")\n",
    "            line = f.readline()\n",
    "            temp=line.split(\",\")\n",
    "            f.close()\n",
    "        except:\n",
    "            continue\n",
    "        \n",
    "        \n",
    "        temp_np=np.array(list(map(float, temp)))\n",
    "        #temp_np=(temp_np - temp_np.min(axis=0)) / (temp_np.max(axis=0) - temp_np.min(axis=0)) #min-max scaling\n",
    "        temp_np=temp_np.reshape(1248,24,1) #not resize\n",
    "        \n",
    "        \n",
    "        if j in range(80,100):\n",
    "            cnt2+=1\n",
    "            test_x_2.append(temp_np)\n",
    "            test_y_2.append(word[i])\n",
    "        \n",
    "        else:\n",
    "            data_x_2.append(temp_np)\n",
    "            data_y_2.append(word[i])            \n",
    "\n",
    "            \n",
    "test_x_2=np.array(test_x_2)\n",
    "test_y_2=np.array(test_y_2)\n",
    "data_x_2=np.array(data_x_2)\n",
    "data_y_2=np.array(data_y_2)\n",
    "\n",
    "# CNN 데이터셋에선 one hot encoding이 필요했으나 SVM은 필요X\n",
    "#test_y_2 = to_categorical(test_y_2,num_classes=26)\n",
    "#data_y_2 = to_categorical(data_y_2,num_classes=26)"
   ]
  },
  {
   "cell_type": "code",
   "execution_count": 12,
   "metadata": {},
   "outputs": [],
   "source": [
    "# 사이킷런 SVM은 n차원 데이터 읽기 x -> 변환\n",
    "data_x_2= data_x_2.reshape(data_x_2.shape[0],-1)\n",
    "test_x_2= test_x_2.reshape(test_x_2.shape[0],-1)"
   ]
  },
  {
   "cell_type": "code",
   "execution_count": 24,
   "metadata": {},
   "outputs": [
    {
     "name": "stdout",
     "output_type": "stream",
     "text": [
      "(2064, 29952)\n",
      "(2064,)\n",
      "(520, 29952)\n",
      "(520,)\n",
      "--------------\n",
      "(2011, 29952)\n",
      "(2011,)\n",
      "(495, 29952)\n",
      "(495,)\n"
     ]
    }
   ],
   "source": [
    "print(data_x_1.shape)\n",
    "print(data_y_1.shape)\n",
    "print(test_x_1.shape)\n",
    "print(test_y_1.shape)\n",
    "print(\"--------------\")\n",
    "print(data_x_2.shape)\n",
    "print(data_y_2.shape)\n",
    "print(test_x_2.shape)\n",
    "print(test_y_2.shape)"
   ]
  },
  {
   "cell_type": "markdown",
   "metadata": {},
   "source": [
    "### 데이터 합치기"
   ]
  },
  {
   "cell_type": "code",
   "execution_count": 14,
   "metadata": {},
   "outputs": [],
   "source": [
    "data_x=np.concatenate((data_x_1,data_x_2),axis=0)\n",
    "data_y=np.concatenate((data_y_1,data_y_2),axis=0)\n",
    "test_x=np.concatenate((test_x_1,test_x_2),axis=0)\n",
    "test_y=np.concatenate((test_y_1,test_y_2),axis=0)"
   ]
  },
  {
   "cell_type": "code",
   "execution_count": 15,
   "metadata": {},
   "outputs": [
    {
     "name": "stdout",
     "output_type": "stream",
     "text": [
      "(4075, 29952)\n",
      "(4075,)\n",
      "(1015, 29952)\n",
      "(1015,)\n"
     ]
    }
   ],
   "source": [
    "print(data_x.shape)\n",
    "print(data_y.shape)\n",
    "print(test_x.shape)\n",
    "print(test_y.shape)"
   ]
  },
  {
   "cell_type": "markdown",
   "metadata": {},
   "source": [
    "# Train SVM"
   ]
  },
  {
   "cell_type": "code",
   "execution_count": 16,
   "metadata": {},
   "outputs": [
    {
     "data": {
      "text/plain": [
       "SVC(C=1.0, cache_size=200, class_weight=None, coef0=0.0,\n",
       "    decision_function_shape='ovr', degree=3, gamma='auto', kernel='linear',\n",
       "    max_iter=-1, probability=False, random_state=None, shrinking=True,\n",
       "    tol=0.001, verbose=False)"
      ]
     },
     "execution_count": 16,
     "metadata": {},
     "output_type": "execute_result"
    }
   ],
   "source": [
    "svc = SVC(kernel='linear',gamma='auto')\n",
    "svc.fit(data_x,data_y)"
   ]
  },
  {
   "cell_type": "markdown",
   "metadata": {},
   "source": [
    "# Test"
   ]
  },
  {
   "cell_type": "markdown",
   "metadata": {},
   "source": [
    "### 테스트 데이터 예측"
   ]
  },
  {
   "cell_type": "code",
   "execution_count": 17,
   "metadata": {},
   "outputs": [],
   "source": [
    "pred_y=svc.predict(test_x)"
   ]
  },
  {
   "cell_type": "markdown",
   "metadata": {},
   "source": [
    "### 정확도 계산"
   ]
  },
  {
   "cell_type": "code",
   "execution_count": 18,
   "metadata": {
    "scrolled": true
   },
   "outputs": [
    {
     "data": {
      "text/plain": [
       "0.7842364532019704"
      ]
     },
     "execution_count": 18,
     "metadata": {},
     "output_type": "execute_result"
    }
   ],
   "source": [
    "accuracy_score(test_y,pred_y)"
   ]
  },
  {
   "cell_type": "markdown",
   "metadata": {},
   "source": [
    "### user 섞인 데이터셋의 경우 -> user별 정확도"
   ]
  },
  {
   "cell_type": "code",
   "execution_count": 20,
   "metadata": {},
   "outputs": [
    {
     "name": "stdout",
     "output_type": "stream",
     "text": [
      "85.76923076923076 70.70707070707071\n"
     ]
    }
   ],
   "source": [
    "result1=0\n",
    "result2=0\n",
    "#result3=0\n",
    "\n",
    "for i in enumerate(test_y):\n",
    "    if i[1]!=pred_y[i[0]]:\n",
    "        if(i[0] in range(0,cnt1)):\n",
    "            result1+=1\n",
    "        elif(i[0] in range(cnt1,cnt1+cnt2)):\n",
    "            result2+=1\n",
    "        #elif(i[0] in range (cnt1+cnt2,cnt1+cnt2+cnt3)):\n",
    "            #result3+=1\n",
    "            \n",
    "result1=((cnt1-result1)/cnt1)*100\n",
    "result2=((cnt2-result2)/cnt2)*100\n",
    "#result3=((cnt3-result3)/cnt3)*100\n",
    "\n",
    "print(result1,result2) #,result3)"
   ]
  },
  {
   "cell_type": "markdown",
   "metadata": {},
   "source": [
    "### 알파벳 별 정확도"
   ]
  },
  {
   "cell_type": "code",
   "execution_count": 30,
   "metadata": {},
   "outputs": [
    {
     "name": "stdout",
     "output_type": "stream",
     "text": [
      "{'a': 0.7105263157894737, 'b': 0.85, 'c': 0.85, 'd': 0.9, 'e': 0.425, 'f': 0.7, 'g': 0.6923076923076923, 'h': 0.5, 'i': 0.7368421052631579, 'j': 0.8666666666666667, 'k': 0.85, 'l': 0.775, 'm': 0.975, 'n': 0.65, 'o': 0.875, 'p': 0.825, 'q': 0.8717948717948718, 'r': 0.975, 's': 0.5483870967741935, 't': 0.8, 'u': 0.725, 'v': 0.5, 'w': 0.925, 'x': 0.975, 'y': 0.975, 'z': 0.875}\n"
     ]
    }
   ],
   "source": [
    "alpha_result=list([0]*26)\n",
    "alpha_cnt=list([0]*26)\n",
    "for idx,i in enumerate(test_y):\n",
    "    alpha_cnt[i]+=1\n",
    "    if i==pred_y[idx]:\n",
    "        alpha_result[i]+=1\n",
    "alpha_acc={chr(i):0 for i in range(ord('a'),ord('z')+1)}\n",
    "for idx,i in enumerate(alpha_result):\n",
    "    if(alpha_cnt[idx]!=0):\n",
    "        alpha_acc[chr(idx+ord('a'))]=(alpha_result[idx]/alpha_cnt[idx])\n",
    "print(alpha_acc)"
   ]
  },
  {
   "cell_type": "code",
   "execution_count": 33,
   "metadata": {},
   "outputs": [
    {
     "name": "stdout",
     "output_type": "stream",
     "text": [
      "[0.7105263157894737, 0.85, 0.85, 0.9, 0.425, 0.7, 0.6923076923076923, 0.5, 0.7368421052631579, 0.8666666666666667, 0.85, 0.775, 0.975, 0.65, 0.875, 0.825, 0.8717948717948718, 0.975, 0.5483870967741935, 0.8, 0.725, 0.5, 0.925, 0.975, 0.975, 0.875]\n"
     ]
    }
   ],
   "source": [
    "alpha_result=list([0]*26)\n",
    "alpha_cnt=list([0]*26)\n",
    "for idx,i in enumerate(test_y):\n",
    "    alpha_cnt[i]+=1\n",
    "    if i==pred_y[idx]:\n",
    "        alpha_result[i]+=1\n",
    "alpha_acc=[]\n",
    "for idx,i in enumerate(alpha_result):\n",
    "    if(alpha_cnt[idx]!=0):\n",
    "        alpha_acc.append(alpha_result[idx]/alpha_cnt[idx])\n",
    "print(alpha_acc)"
   ]
  },
  {
   "cell_type": "markdown",
   "metadata": {},
   "source": [
    "### 틀린 알파벳들"
   ]
  },
  {
   "cell_type": "code",
   "execution_count": 25,
   "metadata": {},
   "outputs": [
    {
     "name": "stdout",
     "output_type": "stream",
     "text": [
      "[ 3 ] real: d | predict: q\n",
      "[ 5 ] real: f | predict: i\n",
      "[ 18 ] real: s | predict: o\n",
      "[ 26 ] real: a | predict: a\n",
      "[ 33 ] real: h | predict: h\n",
      "[ 36 ] real: k | predict: k\n",
      "[ 37 ] real: l | predict: l\n",
      "[ 52 ] real: a | predict: a\n",
      "[ 78 ] real: a | predict: a\n",
      "[ 82 ] real: e | predict: e\n",
      "[ 83 ] real: f | predict: i\n",
      "[ 96 ] real: s | predict: o\n",
      "[ 130 ] real: a | predict: a\n",
      "[ 134 ] real: e | predict: e\n",
      "[ 148 ] real: s | predict: o\n",
      "[ 153 ] real: x | predict: x\n",
      "[ 156 ] real: a | predict: a\n",
      "[ 160 ] real: e | predict: e\n",
      "[ 161 ] real: f | predict: i\n",
      "[ 172 ] real: q | predict: q\n",
      "[ 182 ] real: a | predict: a\n",
      "[ 183 ] real: b | predict: b\n",
      "[ 186 ] real: e | predict: e\n",
      "[ 187 ] real: f | predict: i\n",
      "[ 189 ] real: h | predict: h\n",
      "[ 197 ] real: p | predict: p\n",
      "[ 208 ] real: a | predict: a\n",
      "[ 210 ] real: c | predict: c\n",
      "[ 213 ] real: f | predict: i\n",
      "[ 228 ] real: u | predict: u\n",
      "[ 234 ] real: a | predict: a\n",
      "[ 235 ] real: b | predict: b\n",
      "[ 237 ] real: d | predict: q\n",
      "[ 238 ] real: e | predict: e\n",
      "[ 239 ] real: f | predict: i\n",
      "[ 240 ] real: g | predict: g\n",
      "[ 252 ] real: s | predict: o\n",
      "[ 254 ] real: u | predict: u\n",
      "[ 263 ] real: d | predict: q\n",
      "[ 268 ] real: i | predict: i\n",
      "[ 270 ] real: k | predict: k\n",
      "[ 271 ] real: l | predict: l\n",
      "[ 279 ] real: t | predict: t\n",
      "[ 284 ] real: y | predict: y\n",
      "[ 285 ] real: z | predict: z\n",
      "[ 295 ] real: j | predict: j\n",
      "[ 296 ] real: k | predict: k\n",
      "[ 313 ] real: b | predict: b\n",
      "[ 316 ] real: e | predict: e\n",
      "[ 322 ] real: k | predict: k\n",
      "[ 339 ] real: b | predict: b\n",
      "[ 346 ] real: i | predict: i\n",
      "[ 364 ] real: a | predict: a\n",
      "[ 369 ] real: f | predict: i\n",
      "[ 383 ] real: t | predict: t\n",
      "[ 401 ] real: l | predict: l\n",
      "[ 409 ] real: t | predict: t\n",
      "[ 420 ] real: e | predict: e\n",
      "[ 423 ] real: h | predict: h\n",
      "[ 427 ] real: l | predict: l\n",
      "[ 429 ] real: n | predict: n\n",
      "[ 449 ] real: h | predict: h\n",
      "[ 453 ] real: l | predict: l\n",
      "[ 455 ] real: n | predict: n\n",
      "[ 461 ] real: t | predict: t\n",
      "[ 464 ] real: w | predict: w\n",
      "[ 469 ] real: b | predict: b\n",
      "[ 472 ] real: e | predict: e\n",
      "[ 487 ] real: t | predict: t\n",
      "[ 494 ] real: a | predict: a\n",
      "[ 498 ] real: e | predict: e\n",
      "[ 505 ] real: l | predict: l\n",
      "[ 512 ] real: s | predict: o\n",
      "[ 513 ] real: t | predict: t\n",
      "[ 525 ] real: f | predict: i\n",
      "[ 526 ] real: g | predict: g\n",
      "[ 527 ] real: h | predict: h\n",
      "[ 528 ] real: i | predict: i\n",
      "[ 531 ] real: l | predict: l\n",
      "[ 538 ] real: s | predict: o\n",
      "[ 540 ] real: u | predict: u\n",
      "[ 541 ] real: v | predict: v\n",
      "[ 545 ] real: z | predict: z\n",
      "[ 550 ] real: e | predict: e\n",
      "[ 553 ] real: h | predict: h\n",
      "[ 557 ] real: l | predict: l\n",
      "[ 564 ] real: s | predict: o\n",
      "[ 567 ] real: v | predict: v\n",
      "[ 576 ] real: e | predict: e\n",
      "[ 578 ] real: g | predict: g\n",
      "[ 579 ] real: h | predict: h\n",
      "[ 583 ] real: l | predict: l\n",
      "[ 585 ] real: n | predict: n\n",
      "[ 590 ] real: s | predict: o\n",
      "[ 592 ] real: u | predict: u\n",
      "[ 593 ] real: v | predict: v\n",
      "[ 605 ] real: h | predict: h\n",
      "[ 607 ] real: j | predict: j\n",
      "[ 611 ] real: n | predict: n\n",
      "[ 614 ] real: q | predict: q\n",
      "[ 616 ] real: s | predict: o\n",
      "[ 619 ] real: v | predict: v\n",
      "[ 630 ] real: g | predict: g\n",
      "[ 631 ] real: h | predict: h\n",
      "[ 637 ] real: n | predict: n\n",
      "[ 642 ] real: s | predict: o\n",
      "[ 645 ] real: v | predict: v\n",
      "[ 652 ] real: c | predict: c\n",
      "[ 656 ] real: g | predict: g\n",
      "[ 657 ] real: h | predict: h\n",
      "[ 664 ] real: p | predict: p\n",
      "[ 665 ] real: q | predict: q\n",
      "[ 667 ] real: s | predict: o\n",
      "[ 670 ] real: v | predict: v\n",
      "[ 674 ] real: z | predict: z\n",
      "[ 675 ] real: a | predict: a\n",
      "[ 677 ] real: c | predict: c\n",
      "[ 679 ] real: e | predict: e\n",
      "[ 682 ] real: h | predict: h\n",
      "[ 687 ] real: n | predict: n\n",
      "[ 688 ] real: o | predict: o\n",
      "[ 689 ] real: p | predict: p\n",
      "[ 694 ] real: v | predict: v\n",
      "[ 701 ] real: c | predict: c\n",
      "[ 704 ] real: f | predict: i\n",
      "[ 706 ] real: h | predict: h\n",
      "[ 711 ] real: n | predict: n\n",
      "[ 718 ] real: v | predict: v\n",
      "[ 719 ] real: w | predict: w\n",
      "[ 727 ] real: e | predict: e\n",
      "[ 728 ] real: f | predict: i\n",
      "[ 729 ] real: g | predict: g\n",
      "[ 730 ] real: h | predict: h\n",
      "[ 734 ] real: n | predict: n\n",
      "[ 741 ] real: v | predict: v\n",
      "[ 749 ] real: e | predict: e\n",
      "[ 751 ] real: g | predict: g\n",
      "[ 752 ] real: h | predict: h\n",
      "[ 756 ] real: n | predict: n\n",
      "[ 763 ] real: v | predict: v\n",
      "[ 772 ] real: e | predict: e\n",
      "[ 774 ] real: g | predict: g\n",
      "[ 775 ] real: h | predict: h\n",
      "[ 777 ] real: j | predict: j\n",
      "[ 781 ] real: n | predict: n\n",
      "[ 786 ] real: s | predict: o\n",
      "[ 787 ] real: t | predict: t\n",
      "[ 788 ] real: u | predict: u\n",
      "[ 789 ] real: v | predict: v\n",
      "[ 798 ] real: e | predict: e\n",
      "[ 799 ] real: f | predict: i\n",
      "[ 800 ] real: g | predict: g\n",
      "[ 802 ] real: i | predict: i\n",
      "[ 804 ] real: k | predict: k\n",
      "[ 809 ] real: p | predict: p\n",
      "[ 812 ] real: s | predict: o\n",
      "[ 814 ] real: u | predict: u\n",
      "[ 815 ] real: v | predict: v\n",
      "[ 824 ] real: e | predict: e\n",
      "[ 826 ] real: g | predict: g\n",
      "[ 827 ] real: h | predict: h\n",
      "[ 840 ] real: u | predict: u\n",
      "[ 841 ] real: v | predict: v\n",
      "[ 850 ] real: e | predict: e\n",
      "[ 854 ] real: i | predict: i\n",
      "[ 856 ] real: k | predict: k\n",
      "[ 867 ] real: v | predict: v\n",
      "[ 868 ] real: w | predict: w\n",
      "[ 876 ] real: e | predict: e\n",
      "[ 879 ] real: h | predict: h\n",
      "[ 880 ] real: i | predict: i\n",
      "[ 881 ] real: j | predict: j\n",
      "[ 885 ] real: n | predict: n\n",
      "[ 890 ] real: s | predict: o\n",
      "[ 892 ] real: u | predict: u\n",
      "[ 893 ] real: v | predict: v\n",
      "[ 897 ] real: z | predict: z\n",
      "[ 906 ] real: i | predict: i\n",
      "[ 910 ] real: n | predict: n\n",
      "[ 912 ] real: p | predict: p\n",
      "[ 913 ] real: q | predict: q\n",
      "[ 914 ] real: r | predict: r\n",
      "[ 917 ] real: v | predict: v\n",
      "[ 921 ] real: z | predict: z\n",
      "[ 924 ] real: c | predict: c\n",
      "[ 926 ] real: e | predict: e\n",
      "[ 928 ] real: g | predict: g\n",
      "[ 929 ] real: h | predict: h\n",
      "[ 930 ] real: i | predict: i\n",
      "[ 935 ] real: o | predict: o\n",
      "[ 937 ] real: q | predict: q\n",
      "[ 940 ] real: u | predict: u\n",
      "[ 941 ] real: v | predict: v\n",
      "[ 950 ] real: e | predict: e\n",
      "[ 952 ] real: g | predict: g\n",
      "[ 953 ] real: h | predict: h\n",
      "[ 954 ] real: i | predict: i\n",
      "[ 958 ] real: n | predict: n\n",
      "[ 959 ] real: o | predict: o\n",
      "[ 960 ] real: p | predict: p\n",
      "[ 965 ] real: v | predict: v\n",
      "[ 972 ] real: c | predict: c\n",
      "[ 973 ] real: d | predict: q\n",
      "[ 974 ] real: e | predict: e\n",
      "[ 975 ] real: f | predict: i\n",
      "[ 977 ] real: h | predict: h\n",
      "[ 978 ] real: i | predict: i\n",
      "[ 981 ] real: m | predict: m\n",
      "[ 982 ] real: n | predict: n\n",
      "[ 983 ] real: o | predict: o\n",
      "[ 984 ] real: p | predict: p\n",
      "[ 988 ] real: u | predict: u\n",
      "[ 989 ] real: v | predict: v\n",
      "[ 994 ] real: b | predict: b\n",
      "[ 997 ] real: e | predict: e\n",
      "[ 1005 ] real: o | predict: o\n",
      "[ 1008 ] real: t | predict: t\n",
      "[ 1009 ] real: u | predict: u\n",
      "[ 1010 ] real: v | predict: v\n"
     ]
    }
   ],
   "source": [
    "for idx,i in enumerate(test_y):\n",
    "    if i!=pred_y[idx]:\n",
    "        print(\"[\",idx,'] real:',list(word.keys())[i],'| predict:',list(word.keys())[pred_y[i]])"
   ]
  },
  {
   "cell_type": "code",
   "execution_count": null,
   "metadata": {},
   "outputs": [],
   "source": []
  },
  {
   "cell_type": "code",
   "execution_count": null,
   "metadata": {},
   "outputs": [],
   "source": []
  }
 ],
 "metadata": {
  "kernelspec": {
   "display_name": "Python 3",
   "language": "python",
   "name": "python3"
  },
  "language_info": {
   "codemirror_mode": {
    "name": "ipython",
    "version": 3
   },
   "file_extension": ".py",
   "mimetype": "text/x-python",
   "name": "python",
   "nbconvert_exporter": "python",
   "pygments_lexer": "ipython3",
   "version": "3.7.5"
  }
 },
 "nbformat": 4,
 "nbformat_minor": 2
}
